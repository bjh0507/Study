{
  "nbformat": 4,
  "nbformat_minor": 0,
  "metadata": {
    "colab": {
      "provenance": [],
      "authorship_tag": "ABX9TyODkKE1Ck1hK7mAJSx378Rm",
      "include_colab_link": true
    },
    "kernelspec": {
      "name": "python3",
      "display_name": "Python 3"
    },
    "language_info": {
      "name": "python"
    }
  },
  "cells": [
    {
      "cell_type": "markdown",
      "metadata": {
        "id": "view-in-github",
        "colab_type": "text"
      },
      "source": [
        "<a href=\"https://colab.research.google.com/github/bjh0507/Study/blob/main/Data_Science_Salaries.ipynb\" target=\"_parent\"><img src=\"https://colab.research.google.com/assets/colab-badge.svg\" alt=\"Open In Colab\"/></a>"
      ]
    },
    {
      "cell_type": "code",
      "execution_count": 169,
      "metadata": {
        "id": "usrIgp0PNvcP"
      },
      "outputs": [],
      "source": [
        "import pandas as pd\n",
        "import numpy as np\n",
        "import matplotlib.pyplot as plt\n",
        "import seaborn as sns\n",
        "from sklearn.preprocessing import MinMaxScaler, LabelEncoder\n",
        "from sklearn.model_selection import train_test_split\n",
        "import warnings\n",
        "warnings.filterwarnings('ignore')"
      ]
    },
    {
      "cell_type": "code",
      "source": [
        "sns.set_style('darkgrid')\n",
        "plt.rcParams['font.size'] = 9\n",
        "plt.rcParams['figure.figsize'] = (9,5)\n",
        "plt.rcParams['figure.facecolor'] = '#00000000'"
      ],
      "metadata": {
        "id": "OmU90aVESxm7"
      },
      "execution_count": 137,
      "outputs": []
    },
    {
      "cell_type": "code",
      "source": [
        "df = pd.read_csv('/content/ds_salaries.csv')\n",
        "df.head(5)"
      ],
      "metadata": {
        "colab": {
          "base_uri": "https://localhost:8080/",
          "height": 374
        },
        "id": "YnPgQrguOFa6",
        "outputId": "771ee1d8-5925-4fdb-a53a-4cf37a7954a5"
      },
      "execution_count": 138,
      "outputs": [
        {
          "output_type": "execute_result",
          "data": {
            "text/plain": [
              "   work_year experience_level employment_type                 job_title  \\\n",
              "0       2023               SE              FT  Principal Data Scientist   \n",
              "1       2023               MI              CT               ML Engineer   \n",
              "2       2023               MI              CT               ML Engineer   \n",
              "3       2023               SE              FT            Data Scientist   \n",
              "4       2023               SE              FT            Data Scientist   \n",
              "\n",
              "   salary salary_currency  salary_in_usd employee_residence  remote_ratio  \\\n",
              "0   80000             EUR          85847                 ES           100   \n",
              "1   30000             USD          30000                 US           100   \n",
              "2   25500             USD          25500                 US           100   \n",
              "3  175000             USD         175000                 CA           100   \n",
              "4  120000             USD         120000                 CA           100   \n",
              "\n",
              "  company_location company_size  \n",
              "0               ES            L  \n",
              "1               US            S  \n",
              "2               US            S  \n",
              "3               CA            M  \n",
              "4               CA            M  "
            ],
            "text/html": [
              "\n",
              "  <div id=\"df-14d04dd6-0b11-4113-b7c1-c84ae2dfd512\">\n",
              "    <div class=\"colab-df-container\">\n",
              "      <div>\n",
              "<style scoped>\n",
              "    .dataframe tbody tr th:only-of-type {\n",
              "        vertical-align: middle;\n",
              "    }\n",
              "\n",
              "    .dataframe tbody tr th {\n",
              "        vertical-align: top;\n",
              "    }\n",
              "\n",
              "    .dataframe thead th {\n",
              "        text-align: right;\n",
              "    }\n",
              "</style>\n",
              "<table border=\"1\" class=\"dataframe\">\n",
              "  <thead>\n",
              "    <tr style=\"text-align: right;\">\n",
              "      <th></th>\n",
              "      <th>work_year</th>\n",
              "      <th>experience_level</th>\n",
              "      <th>employment_type</th>\n",
              "      <th>job_title</th>\n",
              "      <th>salary</th>\n",
              "      <th>salary_currency</th>\n",
              "      <th>salary_in_usd</th>\n",
              "      <th>employee_residence</th>\n",
              "      <th>remote_ratio</th>\n",
              "      <th>company_location</th>\n",
              "      <th>company_size</th>\n",
              "    </tr>\n",
              "  </thead>\n",
              "  <tbody>\n",
              "    <tr>\n",
              "      <th>0</th>\n",
              "      <td>2023</td>\n",
              "      <td>SE</td>\n",
              "      <td>FT</td>\n",
              "      <td>Principal Data Scientist</td>\n",
              "      <td>80000</td>\n",
              "      <td>EUR</td>\n",
              "      <td>85847</td>\n",
              "      <td>ES</td>\n",
              "      <td>100</td>\n",
              "      <td>ES</td>\n",
              "      <td>L</td>\n",
              "    </tr>\n",
              "    <tr>\n",
              "      <th>1</th>\n",
              "      <td>2023</td>\n",
              "      <td>MI</td>\n",
              "      <td>CT</td>\n",
              "      <td>ML Engineer</td>\n",
              "      <td>30000</td>\n",
              "      <td>USD</td>\n",
              "      <td>30000</td>\n",
              "      <td>US</td>\n",
              "      <td>100</td>\n",
              "      <td>US</td>\n",
              "      <td>S</td>\n",
              "    </tr>\n",
              "    <tr>\n",
              "      <th>2</th>\n",
              "      <td>2023</td>\n",
              "      <td>MI</td>\n",
              "      <td>CT</td>\n",
              "      <td>ML Engineer</td>\n",
              "      <td>25500</td>\n",
              "      <td>USD</td>\n",
              "      <td>25500</td>\n",
              "      <td>US</td>\n",
              "      <td>100</td>\n",
              "      <td>US</td>\n",
              "      <td>S</td>\n",
              "    </tr>\n",
              "    <tr>\n",
              "      <th>3</th>\n",
              "      <td>2023</td>\n",
              "      <td>SE</td>\n",
              "      <td>FT</td>\n",
              "      <td>Data Scientist</td>\n",
              "      <td>175000</td>\n",
              "      <td>USD</td>\n",
              "      <td>175000</td>\n",
              "      <td>CA</td>\n",
              "      <td>100</td>\n",
              "      <td>CA</td>\n",
              "      <td>M</td>\n",
              "    </tr>\n",
              "    <tr>\n",
              "      <th>4</th>\n",
              "      <td>2023</td>\n",
              "      <td>SE</td>\n",
              "      <td>FT</td>\n",
              "      <td>Data Scientist</td>\n",
              "      <td>120000</td>\n",
              "      <td>USD</td>\n",
              "      <td>120000</td>\n",
              "      <td>CA</td>\n",
              "      <td>100</td>\n",
              "      <td>CA</td>\n",
              "      <td>M</td>\n",
              "    </tr>\n",
              "  </tbody>\n",
              "</table>\n",
              "</div>\n",
              "      <button class=\"colab-df-convert\" onclick=\"convertToInteractive('df-14d04dd6-0b11-4113-b7c1-c84ae2dfd512')\"\n",
              "              title=\"Convert this dataframe to an interactive table.\"\n",
              "              style=\"display:none;\">\n",
              "        \n",
              "  <svg xmlns=\"http://www.w3.org/2000/svg\" height=\"24px\"viewBox=\"0 0 24 24\"\n",
              "       width=\"24px\">\n",
              "    <path d=\"M0 0h24v24H0V0z\" fill=\"none\"/>\n",
              "    <path d=\"M18.56 5.44l.94 2.06.94-2.06 2.06-.94-2.06-.94-.94-2.06-.94 2.06-2.06.94zm-11 1L8.5 8.5l.94-2.06 2.06-.94-2.06-.94L8.5 2.5l-.94 2.06-2.06.94zm10 10l.94 2.06.94-2.06 2.06-.94-2.06-.94-.94-2.06-.94 2.06-2.06.94z\"/><path d=\"M17.41 7.96l-1.37-1.37c-.4-.4-.92-.59-1.43-.59-.52 0-1.04.2-1.43.59L10.3 9.45l-7.72 7.72c-.78.78-.78 2.05 0 2.83L4 21.41c.39.39.9.59 1.41.59.51 0 1.02-.2 1.41-.59l7.78-7.78 2.81-2.81c.8-.78.8-2.07 0-2.86zM5.41 20L4 18.59l7.72-7.72 1.47 1.35L5.41 20z\"/>\n",
              "  </svg>\n",
              "      </button>\n",
              "      \n",
              "  <style>\n",
              "    .colab-df-container {\n",
              "      display:flex;\n",
              "      flex-wrap:wrap;\n",
              "      gap: 12px;\n",
              "    }\n",
              "\n",
              "    .colab-df-convert {\n",
              "      background-color: #E8F0FE;\n",
              "      border: none;\n",
              "      border-radius: 50%;\n",
              "      cursor: pointer;\n",
              "      display: none;\n",
              "      fill: #1967D2;\n",
              "      height: 32px;\n",
              "      padding: 0 0 0 0;\n",
              "      width: 32px;\n",
              "    }\n",
              "\n",
              "    .colab-df-convert:hover {\n",
              "      background-color: #E2EBFA;\n",
              "      box-shadow: 0px 1px 2px rgba(60, 64, 67, 0.3), 0px 1px 3px 1px rgba(60, 64, 67, 0.15);\n",
              "      fill: #174EA6;\n",
              "    }\n",
              "\n",
              "    [theme=dark] .colab-df-convert {\n",
              "      background-color: #3B4455;\n",
              "      fill: #D2E3FC;\n",
              "    }\n",
              "\n",
              "    [theme=dark] .colab-df-convert:hover {\n",
              "      background-color: #434B5C;\n",
              "      box-shadow: 0px 1px 3px 1px rgba(0, 0, 0, 0.15);\n",
              "      filter: drop-shadow(0px 1px 2px rgba(0, 0, 0, 0.3));\n",
              "      fill: #FFFFFF;\n",
              "    }\n",
              "  </style>\n",
              "\n",
              "      <script>\n",
              "        const buttonEl =\n",
              "          document.querySelector('#df-14d04dd6-0b11-4113-b7c1-c84ae2dfd512 button.colab-df-convert');\n",
              "        buttonEl.style.display =\n",
              "          google.colab.kernel.accessAllowed ? 'block' : 'none';\n",
              "\n",
              "        async function convertToInteractive(key) {\n",
              "          const element = document.querySelector('#df-14d04dd6-0b11-4113-b7c1-c84ae2dfd512');\n",
              "          const dataTable =\n",
              "            await google.colab.kernel.invokeFunction('convertToInteractive',\n",
              "                                                     [key], {});\n",
              "          if (!dataTable) return;\n",
              "\n",
              "          const docLinkHtml = 'Like what you see? Visit the ' +\n",
              "            '<a target=\"_blank\" href=https://colab.research.google.com/notebooks/data_table.ipynb>data table notebook</a>'\n",
              "            + ' to learn more about interactive tables.';\n",
              "          element.innerHTML = '';\n",
              "          dataTable['output_type'] = 'display_data';\n",
              "          await google.colab.output.renderOutput(dataTable, element);\n",
              "          const docLink = document.createElement('div');\n",
              "          docLink.innerHTML = docLinkHtml;\n",
              "          element.appendChild(docLink);\n",
              "        }\n",
              "      </script>\n",
              "    </div>\n",
              "  </div>\n",
              "  "
            ]
          },
          "metadata": {},
          "execution_count": 138
        }
      ]
    },
    {
      "cell_type": "code",
      "source": [
        "print(len(df))"
      ],
      "metadata": {
        "colab": {
          "base_uri": "https://localhost:8080/"
        },
        "id": "upMRauaOOY7j",
        "outputId": "8698522b-9a8e-4fa4-c0f5-d0d91152adbe"
      },
      "execution_count": 139,
      "outputs": [
        {
          "output_type": "stream",
          "name": "stdout",
          "text": [
            "3755\n"
          ]
        }
      ]
    },
    {
      "cell_type": "code",
      "source": [
        "df.info()"
      ],
      "metadata": {
        "colab": {
          "base_uri": "https://localhost:8080/"
        },
        "id": "bDQpSwuDOePb",
        "outputId": "aa731620-958b-46b3-c1d3-775d0b02652d"
      },
      "execution_count": 140,
      "outputs": [
        {
          "output_type": "stream",
          "name": "stdout",
          "text": [
            "<class 'pandas.core.frame.DataFrame'>\n",
            "RangeIndex: 3755 entries, 0 to 3754\n",
            "Data columns (total 11 columns):\n",
            " #   Column              Non-Null Count  Dtype \n",
            "---  ------              --------------  ----- \n",
            " 0   work_year           3755 non-null   int64 \n",
            " 1   experience_level    3755 non-null   object\n",
            " 2   employment_type     3755 non-null   object\n",
            " 3   job_title           3755 non-null   object\n",
            " 4   salary              3755 non-null   int64 \n",
            " 5   salary_currency     3755 non-null   object\n",
            " 6   salary_in_usd       3755 non-null   int64 \n",
            " 7   employee_residence  3755 non-null   object\n",
            " 8   remote_ratio        3755 non-null   int64 \n",
            " 9   company_location    3755 non-null   object\n",
            " 10  company_size        3755 non-null   object\n",
            "dtypes: int64(4), object(7)\n",
            "memory usage: 322.8+ KB\n"
          ]
        }
      ]
    },
    {
      "cell_type": "code",
      "source": [
        "df.isnull().sum()"
      ],
      "metadata": {
        "colab": {
          "base_uri": "https://localhost:8080/"
        },
        "id": "HDrRmXp_OoCw",
        "outputId": "48d38f00-e6bd-4c8f-ac86-3bef594a0698"
      },
      "execution_count": 141,
      "outputs": [
        {
          "output_type": "execute_result",
          "data": {
            "text/plain": [
              "work_year             0\n",
              "experience_level      0\n",
              "employment_type       0\n",
              "job_title             0\n",
              "salary                0\n",
              "salary_currency       0\n",
              "salary_in_usd         0\n",
              "employee_residence    0\n",
              "remote_ratio          0\n",
              "company_location      0\n",
              "company_size          0\n",
              "dtype: int64"
            ]
          },
          "metadata": {},
          "execution_count": 141
        }
      ]
    },
    {
      "cell_type": "markdown",
      "source": [
        "#EDA"
      ],
      "metadata": {
        "id": "BDUyULphPDut"
      }
    },
    {
      "cell_type": "code",
      "source": [
        "#연봉 top10 직무\n",
        "top10_job = pd.DataFrame(df.groupby('job_title')['salary'].mean()).round(2).sort_values(by='salary', ascending=False).reset_index().head(10)\n",
        "top10_job"
      ],
      "metadata": {
        "colab": {
          "base_uri": "https://localhost:8080/",
          "height": 363
        },
        "id": "cEceae7NQ8IK",
        "outputId": "e315db59-c088-4b60-8b5c-a3eef931f07e"
      },
      "execution_count": 142,
      "outputs": [
        {
          "output_type": "execute_result",
          "data": {
            "text/plain": [
              "                        job_title      salary\n",
              "0        Head of Machine Learning  6000000.00\n",
              "1        Principal Data Architect  3000000.00\n",
              "2  Lead Machine Learning Engineer  2548666.67\n",
              "3             Lead Data Scientist   928485.33\n",
              "4             Data Analytics Lead   922500.00\n",
              "5                 BI Data Analyst   836644.80\n",
              "6            Head of Data Science   703729.44\n",
              "7               Lead Data Analyst   655000.00\n",
              "8                     ML Engineer   609997.91\n",
              "9            Product Data Analyst   412000.00"
            ],
            "text/html": [
              "\n",
              "  <div id=\"df-20b9a86f-787a-4f02-a2d9-0a6220f82776\">\n",
              "    <div class=\"colab-df-container\">\n",
              "      <div>\n",
              "<style scoped>\n",
              "    .dataframe tbody tr th:only-of-type {\n",
              "        vertical-align: middle;\n",
              "    }\n",
              "\n",
              "    .dataframe tbody tr th {\n",
              "        vertical-align: top;\n",
              "    }\n",
              "\n",
              "    .dataframe thead th {\n",
              "        text-align: right;\n",
              "    }\n",
              "</style>\n",
              "<table border=\"1\" class=\"dataframe\">\n",
              "  <thead>\n",
              "    <tr style=\"text-align: right;\">\n",
              "      <th></th>\n",
              "      <th>job_title</th>\n",
              "      <th>salary</th>\n",
              "    </tr>\n",
              "  </thead>\n",
              "  <tbody>\n",
              "    <tr>\n",
              "      <th>0</th>\n",
              "      <td>Head of Machine Learning</td>\n",
              "      <td>6000000.00</td>\n",
              "    </tr>\n",
              "    <tr>\n",
              "      <th>1</th>\n",
              "      <td>Principal Data Architect</td>\n",
              "      <td>3000000.00</td>\n",
              "    </tr>\n",
              "    <tr>\n",
              "      <th>2</th>\n",
              "      <td>Lead Machine Learning Engineer</td>\n",
              "      <td>2548666.67</td>\n",
              "    </tr>\n",
              "    <tr>\n",
              "      <th>3</th>\n",
              "      <td>Lead Data Scientist</td>\n",
              "      <td>928485.33</td>\n",
              "    </tr>\n",
              "    <tr>\n",
              "      <th>4</th>\n",
              "      <td>Data Analytics Lead</td>\n",
              "      <td>922500.00</td>\n",
              "    </tr>\n",
              "    <tr>\n",
              "      <th>5</th>\n",
              "      <td>BI Data Analyst</td>\n",
              "      <td>836644.80</td>\n",
              "    </tr>\n",
              "    <tr>\n",
              "      <th>6</th>\n",
              "      <td>Head of Data Science</td>\n",
              "      <td>703729.44</td>\n",
              "    </tr>\n",
              "    <tr>\n",
              "      <th>7</th>\n",
              "      <td>Lead Data Analyst</td>\n",
              "      <td>655000.00</td>\n",
              "    </tr>\n",
              "    <tr>\n",
              "      <th>8</th>\n",
              "      <td>ML Engineer</td>\n",
              "      <td>609997.91</td>\n",
              "    </tr>\n",
              "    <tr>\n",
              "      <th>9</th>\n",
              "      <td>Product Data Analyst</td>\n",
              "      <td>412000.00</td>\n",
              "    </tr>\n",
              "  </tbody>\n",
              "</table>\n",
              "</div>\n",
              "      <button class=\"colab-df-convert\" onclick=\"convertToInteractive('df-20b9a86f-787a-4f02-a2d9-0a6220f82776')\"\n",
              "              title=\"Convert this dataframe to an interactive table.\"\n",
              "              style=\"display:none;\">\n",
              "        \n",
              "  <svg xmlns=\"http://www.w3.org/2000/svg\" height=\"24px\"viewBox=\"0 0 24 24\"\n",
              "       width=\"24px\">\n",
              "    <path d=\"M0 0h24v24H0V0z\" fill=\"none\"/>\n",
              "    <path d=\"M18.56 5.44l.94 2.06.94-2.06 2.06-.94-2.06-.94-.94-2.06-.94 2.06-2.06.94zm-11 1L8.5 8.5l.94-2.06 2.06-.94-2.06-.94L8.5 2.5l-.94 2.06-2.06.94zm10 10l.94 2.06.94-2.06 2.06-.94-2.06-.94-.94-2.06-.94 2.06-2.06.94z\"/><path d=\"M17.41 7.96l-1.37-1.37c-.4-.4-.92-.59-1.43-.59-.52 0-1.04.2-1.43.59L10.3 9.45l-7.72 7.72c-.78.78-.78 2.05 0 2.83L4 21.41c.39.39.9.59 1.41.59.51 0 1.02-.2 1.41-.59l7.78-7.78 2.81-2.81c.8-.78.8-2.07 0-2.86zM5.41 20L4 18.59l7.72-7.72 1.47 1.35L5.41 20z\"/>\n",
              "  </svg>\n",
              "      </button>\n",
              "      \n",
              "  <style>\n",
              "    .colab-df-container {\n",
              "      display:flex;\n",
              "      flex-wrap:wrap;\n",
              "      gap: 12px;\n",
              "    }\n",
              "\n",
              "    .colab-df-convert {\n",
              "      background-color: #E8F0FE;\n",
              "      border: none;\n",
              "      border-radius: 50%;\n",
              "      cursor: pointer;\n",
              "      display: none;\n",
              "      fill: #1967D2;\n",
              "      height: 32px;\n",
              "      padding: 0 0 0 0;\n",
              "      width: 32px;\n",
              "    }\n",
              "\n",
              "    .colab-df-convert:hover {\n",
              "      background-color: #E2EBFA;\n",
              "      box-shadow: 0px 1px 2px rgba(60, 64, 67, 0.3), 0px 1px 3px 1px rgba(60, 64, 67, 0.15);\n",
              "      fill: #174EA6;\n",
              "    }\n",
              "\n",
              "    [theme=dark] .colab-df-convert {\n",
              "      background-color: #3B4455;\n",
              "      fill: #D2E3FC;\n",
              "    }\n",
              "\n",
              "    [theme=dark] .colab-df-convert:hover {\n",
              "      background-color: #434B5C;\n",
              "      box-shadow: 0px 1px 3px 1px rgba(0, 0, 0, 0.15);\n",
              "      filter: drop-shadow(0px 1px 2px rgba(0, 0, 0, 0.3));\n",
              "      fill: #FFFFFF;\n",
              "    }\n",
              "  </style>\n",
              "\n",
              "      <script>\n",
              "        const buttonEl =\n",
              "          document.querySelector('#df-20b9a86f-787a-4f02-a2d9-0a6220f82776 button.colab-df-convert');\n",
              "        buttonEl.style.display =\n",
              "          google.colab.kernel.accessAllowed ? 'block' : 'none';\n",
              "\n",
              "        async function convertToInteractive(key) {\n",
              "          const element = document.querySelector('#df-20b9a86f-787a-4f02-a2d9-0a6220f82776');\n",
              "          const dataTable =\n",
              "            await google.colab.kernel.invokeFunction('convertToInteractive',\n",
              "                                                     [key], {});\n",
              "          if (!dataTable) return;\n",
              "\n",
              "          const docLinkHtml = 'Like what you see? Visit the ' +\n",
              "            '<a target=\"_blank\" href=https://colab.research.google.com/notebooks/data_table.ipynb>data table notebook</a>'\n",
              "            + ' to learn more about interactive tables.';\n",
              "          element.innerHTML = '';\n",
              "          dataTable['output_type'] = 'display_data';\n",
              "          await google.colab.output.renderOutput(dataTable, element);\n",
              "          const docLink = document.createElement('div');\n",
              "          docLink.innerHTML = docLinkHtml;\n",
              "          element.appendChild(docLink);\n",
              "        }\n",
              "      </script>\n",
              "    </div>\n",
              "  </div>\n",
              "  "
            ]
          },
          "metadata": {},
          "execution_count": 142
        }
      ]
    },
    {
      "cell_type": "code",
      "source": [
        "plt.figure(figsize=(8,4)) #그래프 사이즈 조정\n",
        "plt.xticks(rotation=90) #그래프 회전\n",
        "\n",
        "sns.barplot(data=top10_job,  x='job_title', y='salary')"
      ],
      "metadata": {
        "colab": {
          "base_uri": "https://localhost:8080/",
          "height": 611
        },
        "id": "EFy_fBjKSexd",
        "outputId": "614d8e8b-0147-4b8d-8712-e1618b3ac79b"
      },
      "execution_count": 143,
      "outputs": [
        {
          "output_type": "execute_result",
          "data": {
            "text/plain": [
              "<Axes: xlabel='job_title', ylabel='salary'>"
            ]
          },
          "metadata": {},
          "execution_count": 143
        },
        {
          "output_type": "display_data",
          "data": {
            "text/plain": [
              "<Figure size 800x400 with 1 Axes>"
            ],
            "image/png": "[encoded data removed]"
          },
          "metadata": {
            "needs_background": "light"
          }
        }
      ]
    },
    {
      "cell_type": "code",
      "source": [
        "#경험에 따른 평균 연봉\n",
        "df_experience = pd.DataFrame(df.groupby('experience_level')['salary'].mean()).round(2).sort_values(by='salary', ascending=False).reset_index()\n",
        "df_experience"
      ],
      "metadata": {
        "colab": {
          "base_uri": "https://localhost:8080/",
          "height": 174
        },
        "id": "Dk7IEAOeO1hR",
        "outputId": "cfb086cd-6474-4056-9912-f172efea97cb"
      },
      "execution_count": 144,
      "outputs": [
        {
          "output_type": "execute_result",
          "data": {
            "text/plain": [
              "  experience_level     salary\n",
              "0               MI  248200.31\n",
              "1               EX  246802.20\n",
              "2               EN  188381.18\n",
              "3               SE  170048.97"
            ],
            "text/html": [
              "\n",
              "  <div id=\"df-083d1704-679c-4c7c-bc84-d6910ac84b12\">\n",
              "    <div class=\"colab-df-container\">\n",
              "      <div>\n",
              "<style scoped>\n",
              "    .dataframe tbody tr th:only-of-type {\n",
              "        vertical-align: middle;\n",
              "    }\n",
              "\n",
              "    .dataframe tbody tr th {\n",
              "        vertical-align: top;\n",
              "    }\n",
              "\n",
              "    .dataframe thead th {\n",
              "        text-align: right;\n",
              "    }\n",
              "</style>\n",
              "<table border=\"1\" class=\"dataframe\">\n",
              "  <thead>\n",
              "    <tr style=\"text-align: right;\">\n",
              "      <th></th>\n",
              "      <th>experience_level</th>\n",
              "      <th>salary</th>\n",
              "    </tr>\n",
              "  </thead>\n",
              "  <tbody>\n",
              "    <tr>\n",
              "      <th>0</th>\n",
              "      <td>MI</td>\n",
              "      <td>248200.31</td>\n",
              "    </tr>\n",
              "    <tr>\n",
              "      <th>1</th>\n",
              "      <td>EX</td>\n",
              "      <td>246802.20</td>\n",
              "    </tr>\n",
              "    <tr>\n",
              "      <th>2</th>\n",
              "      <td>EN</td>\n",
              "      <td>188381.18</td>\n",
              "    </tr>\n",
              "    <tr>\n",
              "      <th>3</th>\n",
              "      <td>SE</td>\n",
              "      <td>170048.97</td>\n",
              "    </tr>\n",
              "  </tbody>\n",
              "</table>\n",
              "</div>\n",
              "      <button class=\"colab-df-convert\" onclick=\"convertToInteractive('df-083d1704-679c-4c7c-bc84-d6910ac84b12')\"\n",
              "              title=\"Convert this dataframe to an interactive table.\"\n",
              "              style=\"display:none;\">\n",
              "        \n",
              "  <svg xmlns=\"http://www.w3.org/2000/svg\" height=\"24px\"viewBox=\"0 0 24 24\"\n",
              "       width=\"24px\">\n",
              "    <path d=\"M0 0h24v24H0V0z\" fill=\"none\"/>\n",
              "    <path d=\"M18.56 5.44l.94 2.06.94-2.06 2.06-.94-2.06-.94-.94-2.06-.94 2.06-2.06.94zm-11 1L8.5 8.5l.94-2.06 2.06-.94-2.06-.94L8.5 2.5l-.94 2.06-2.06.94zm10 10l.94 2.06.94-2.06 2.06-.94-2.06-.94-.94-2.06-.94 2.06-2.06.94z\"/><path d=\"M17.41 7.96l-1.37-1.37c-.4-.4-.92-.59-1.43-.59-.52 0-1.04.2-1.43.59L10.3 9.45l-7.72 7.72c-.78.78-.78 2.05 0 2.83L4 21.41c.39.39.9.59 1.41.59.51 0 1.02-.2 1.41-.59l7.78-7.78 2.81-2.81c.8-.78.8-2.07 0-2.86zM5.41 20L4 18.59l7.72-7.72 1.47 1.35L5.41 20z\"/>\n",
              "  </svg>\n",
              "      </button>\n",
              "      \n",
              "  <style>\n",
              "    .colab-df-container {\n",
              "      display:flex;\n",
              "      flex-wrap:wrap;\n",
              "      gap: 12px;\n",
              "    }\n",
              "\n",
              "    .colab-df-convert {\n",
              "      background-color: #E8F0FE;\n",
              "      border: none;\n",
              "      border-radius: 50%;\n",
              "      cursor: pointer;\n",
              "      display: none;\n",
              "      fill: #1967D2;\n",
              "      height: 32px;\n",
              "      padding: 0 0 0 0;\n",
              "      width: 32px;\n",
              "    }\n",
              "\n",
              "    .colab-df-convert:hover {\n",
              "      background-color: #E2EBFA;\n",
              "      box-shadow: 0px 1px 2px rgba(60, 64, 67, 0.3), 0px 1px 3px 1px rgba(60, 64, 67, 0.15);\n",
              "      fill: #174EA6;\n",
              "    }\n",
              "\n",
              "    [theme=dark] .colab-df-convert {\n",
              "      background-color: #3B4455;\n",
              "      fill: #D2E3FC;\n",
              "    }\n",
              "\n",
              "    [theme=dark] .colab-df-convert:hover {\n",
              "      background-color: #434B5C;\n",
              "      box-shadow: 0px 1px 3px 1px rgba(0, 0, 0, 0.15);\n",
              "      filter: drop-shadow(0px 1px 2px rgba(0, 0, 0, 0.3));\n",
              "      fill: #FFFFFF;\n",
              "    }\n",
              "  </style>\n",
              "\n",
              "      <script>\n",
              "        const buttonEl =\n",
              "          document.querySelector('#df-083d1704-679c-4c7c-bc84-d6910ac84b12 button.colab-df-convert');\n",
              "        buttonEl.style.display =\n",
              "          google.colab.kernel.accessAllowed ? 'block' : 'none';\n",
              "\n",
              "        async function convertToInteractive(key) {\n",
              "          const element = document.querySelector('#df-083d1704-679c-4c7c-bc84-d6910ac84b12');\n",
              "          const dataTable =\n",
              "            await google.colab.kernel.invokeFunction('convertToInteractive',\n",
              "                                                     [key], {});\n",
              "          if (!dataTable) return;\n",
              "\n",
              "          const docLinkHtml = 'Like what you see? Visit the ' +\n",
              "            '<a target=\"_blank\" href=https://colab.research.google.com/notebooks/data_table.ipynb>data table notebook</a>'\n",
              "            + ' to learn more about interactive tables.';\n",
              "          element.innerHTML = '';\n",
              "          dataTable['output_type'] = 'display_data';\n",
              "          await google.colab.output.renderOutput(dataTable, element);\n",
              "          const docLink = document.createElement('div');\n",
              "          docLink.innerHTML = docLinkHtml;\n",
              "          element.appendChild(docLink);\n",
              "        }\n",
              "      </script>\n",
              "    </div>\n",
              "  </div>\n",
              "  "
            ]
          },
          "metadata": {},
          "execution_count": 144
        }
      ]
    },
    {
      "cell_type": "code",
      "source": [
        "plt.figure(figsize=(6,4))\n",
        "sns.barplot(data=df_experience, x='experience_level', y='salary')"
      ],
      "metadata": {
        "colab": {
          "base_uri": "https://localhost:8080/",
          "height": 405
        },
        "id": "3dARzn57V-gD",
        "outputId": "02d08ac6-a44d-4089-e521-65207e35c9f7"
      },
      "execution_count": 145,
      "outputs": [
        {
          "output_type": "execute_result",
          "data": {
            "text/plain": [
              "<Axes: xlabel='experience_level', ylabel='salary'>"
            ]
          },
          "metadata": {},
          "execution_count": 145
        },
        {
          "output_type": "display_data",
          "data": {
            "text/plain": [
              "<Figure size 600x400 with 1 Axes>"
            ],
            "image/png": "[encoded data removed]"
          },
          "metadata": {
            "needs_background": "light"
          }
        }
      ]
    },
    {
      "cell_type": "code",
      "source": [
        "#경험별 직무별 평균 연봉\n",
        "len(df['job_title'].unique())"
      ],
      "metadata": {
        "colab": {
          "base_uri": "https://localhost:8080/"
        },
        "id": "9-NNySpyQKY9",
        "outputId": "02dca9ee-feed-4fed-96b4-47af658ba042"
      },
      "execution_count": 146,
      "outputs": [
        {
          "output_type": "execute_result",
          "data": {
            "text/plain": [
              "93"
            ]
          },
          "metadata": {},
          "execution_count": 146
        }
      ]
    },
    {
      "cell_type": "markdown",
      "source": [
        "93개의 직무는 너무 많기 때문에 시각화를 좀 더 명확하게 진행하기 위해 value_counts()로 상위 top10 직종을 추출해 시각화를 수행"
      ],
      "metadata": {
        "id": "w5XvXV7zXeHT"
      }
    },
    {
      "cell_type": "code",
      "source": [
        "job_10 = df.job_title.value_counts().head(10)\n",
        "job_10"
      ],
      "metadata": {
        "colab": {
          "base_uri": "https://localhost:8080/"
        },
        "id": "afyDZrieXdY7",
        "outputId": "12214cc9-456e-4979-da22-fd9b00c6dbd1"
      },
      "execution_count": 147,
      "outputs": [
        {
          "output_type": "execute_result",
          "data": {
            "text/plain": [
              "Data Engineer                1040\n",
              "Data Scientist                840\n",
              "Data Analyst                  612\n",
              "Machine Learning Engineer     289\n",
              "Analytics Engineer            103\n",
              "Data Architect                101\n",
              "Research Scientist             82\n",
              "Data Science Manager           58\n",
              "Applied Scientist              58\n",
              "Research Engineer              37\n",
              "Name: job_title, dtype: int64"
            ]
          },
          "metadata": {},
          "execution_count": 147
        }
      ]
    },
    {
      "cell_type": "code",
      "source": [
        "import itertools\n",
        "\n",
        "name_job = job_10.index.tolist()\n",
        "index_job = [df[df['job_title']==i].index for i in name_job]\n",
        "index_job = list(itertools.chain(*index_job)) #리스트 안에 리스트 풀어주기 : itertools 함수 활용\n",
        "result_top10 = df.loc[index_job]"
      ],
      "metadata": {
        "id": "SqfgetK1fzQ8"
      },
      "execution_count": 148,
      "outputs": []
    },
    {
      "cell_type": "code",
      "source": [
        "result_top10['job_title'].value_counts()"
      ],
      "metadata": {
        "colab": {
          "base_uri": "https://localhost:8080/"
        },
        "id": "e8YaX74iXt0r",
        "outputId": "022dc3ad-cf59-4103-ae4f-5a7de3927291"
      },
      "execution_count": 149,
      "outputs": [
        {
          "output_type": "execute_result",
          "data": {
            "text/plain": [
              "Data Engineer                1040\n",
              "Data Scientist                840\n",
              "Data Analyst                  612\n",
              "Machine Learning Engineer     289\n",
              "Analytics Engineer            103\n",
              "Data Architect                101\n",
              "Research Scientist             82\n",
              "Data Science Manager           58\n",
              "Applied Scientist              58\n",
              "Research Engineer              37\n",
              "Name: job_title, dtype: int64"
            ]
          },
          "metadata": {},
          "execution_count": 149
        }
      ]
    },
    {
      "cell_type": "code",
      "source": [
        "result = pd.DataFrame(result_top10.groupby(['job_title', 'experience_level'])['salary_in_usd'].mean()).round(0).reset_index()\n",
        "\n",
        "plt.figure(figsize=(30,7))\n",
        "plt.xticks(rotation=90)\n",
        "\n",
        "sns.barplot(data=result, x='job_title', y='salary_in_usd', hue='experience_level')"
      ],
      "metadata": {
        "colab": {
          "base_uri": "https://localhost:8080/",
          "height": 382
        },
        "id": "3ZTMxYU9QPp2",
        "outputId": "214936be-1ceb-42b7-c40b-04c214525a3e"
      },
      "execution_count": 150,
      "outputs": [
        {
          "output_type": "execute_result",
          "data": {
            "text/plain": [
              "<Axes: xlabel='job_title', ylabel='salary_in_usd'>"
            ]
          },
          "metadata": {},
          "execution_count": 150
        },
        {
          "output_type": "display_data",
          "data": {
            "text/plain": [
              "<Figure size 3000x700 with 1 Axes>"
            ],
            "image/png": "[encoded data removed]"
          },
          "metadata": {
            "needs_background": "light"
          }
        }
      ]
    },
    {
      "cell_type": "code",
      "source": [
        "#experience level과 company size 간 연관성 시각화\n",
        "cross_tab = pd.crosstab(df['experience_level'], df['company_size'])\n",
        "cross_tab"
      ],
      "metadata": {
        "colab": {
          "base_uri": "https://localhost:8080/",
          "height": 206
        },
        "id": "Ink1SyZib32R",
        "outputId": "178820dd-3a17-443d-b8f0-0fad6e0bca58"
      },
      "execution_count": 151,
      "outputs": [
        {
          "output_type": "execute_result",
          "data": {
            "text/plain": [
              "company_size        L     M   S\n",
              "experience_level               \n",
              "EN                100   171  49\n",
              "EX                 13    95   6\n",
              "MI                134   621  50\n",
              "SE                207  2266  43"
            ],
            "text/html": [
              "\n",
              "  <div id=\"df-a66de433-c51c-4e31-a8d5-426e92350a8d\">\n",
              "    <div class=\"colab-df-container\">\n",
              "      <div>\n",
              "<style scoped>\n",
              "    .dataframe tbody tr th:only-of-type {\n",
              "        vertical-align: middle;\n",
              "    }\n",
              "\n",
              "    .dataframe tbody tr th {\n",
              "        vertical-align: top;\n",
              "    }\n",
              "\n",
              "    .dataframe thead th {\n",
              "        text-align: right;\n",
              "    }\n",
              "</style>\n",
              "<table border=\"1\" class=\"dataframe\">\n",
              "  <thead>\n",
              "    <tr style=\"text-align: right;\">\n",
              "      <th>company_size</th>\n",
              "      <th>L</th>\n",
              "      <th>M</th>\n",
              "      <th>S</th>\n",
              "    </tr>\n",
              "    <tr>\n",
              "      <th>experience_level</th>\n",
              "      <th></th>\n",
              "      <th></th>\n",
              "      <th></th>\n",
              "    </tr>\n",
              "  </thead>\n",
              "  <tbody>\n",
              "    <tr>\n",
              "      <th>EN</th>\n",
              "      <td>100</td>\n",
              "      <td>171</td>\n",
              "      <td>49</td>\n",
              "    </tr>\n",
              "    <tr>\n",
              "      <th>EX</th>\n",
              "      <td>13</td>\n",
              "      <td>95</td>\n",
              "      <td>6</td>\n",
              "    </tr>\n",
              "    <tr>\n",
              "      <th>MI</th>\n",
              "      <td>134</td>\n",
              "      <td>621</td>\n",
              "      <td>50</td>\n",
              "    </tr>\n",
              "    <tr>\n",
              "      <th>SE</th>\n",
              "      <td>207</td>\n",
              "      <td>2266</td>\n",
              "      <td>43</td>\n",
              "    </tr>\n",
              "  </tbody>\n",
              "</table>\n",
              "</div>\n",
              "      <button class=\"colab-df-convert\" onclick=\"convertToInteractive('df-a66de433-c51c-4e31-a8d5-426e92350a8d')\"\n",
              "              title=\"Convert this dataframe to an interactive table.\"\n",
              "              style=\"display:none;\">\n",
              "        \n",
              "  <svg xmlns=\"http://www.w3.org/2000/svg\" height=\"24px\"viewBox=\"0 0 24 24\"\n",
              "       width=\"24px\">\n",
              "    <path d=\"M0 0h24v24H0V0z\" fill=\"none\"/>\n",
              "    <path d=\"M18.56 5.44l.94 2.06.94-2.06 2.06-.94-2.06-.94-.94-2.06-.94 2.06-2.06.94zm-11 1L8.5 8.5l.94-2.06 2.06-.94-2.06-.94L8.5 2.5l-.94 2.06-2.06.94zm10 10l.94 2.06.94-2.06 2.06-.94-2.06-.94-.94-2.06-.94 2.06-2.06.94z\"/><path d=\"M17.41 7.96l-1.37-1.37c-.4-.4-.92-.59-1.43-.59-.52 0-1.04.2-1.43.59L10.3 9.45l-7.72 7.72c-.78.78-.78 2.05 0 2.83L4 21.41c.39.39.9.59 1.41.59.51 0 1.02-.2 1.41-.59l7.78-7.78 2.81-2.81c.8-.78.8-2.07 0-2.86zM5.41 20L4 18.59l7.72-7.72 1.47 1.35L5.41 20z\"/>\n",
              "  </svg>\n",
              "      </button>\n",
              "      \n",
              "  <style>\n",
              "    .colab-df-container {\n",
              "      display:flex;\n",
              "      flex-wrap:wrap;\n",
              "      gap: 12px;\n",
              "    }\n",
              "\n",
              "    .colab-df-convert {\n",
              "      background-color: #E8F0FE;\n",
              "      border: none;\n",
              "      border-radius: 50%;\n",
              "      cursor: pointer;\n",
              "      display: none;\n",
              "      fill: #1967D2;\n",
              "      height: 32px;\n",
              "      padding: 0 0 0 0;\n",
              "      width: 32px;\n",
              "    }\n",
              "\n",
              "    .colab-df-convert:hover {\n",
              "      background-color: #E2EBFA;\n",
              "      box-shadow: 0px 1px 2px rgba(60, 64, 67, 0.3), 0px 1px 3px 1px rgba(60, 64, 67, 0.15);\n",
              "      fill: #174EA6;\n",
              "    }\n",
              "\n",
              "    [theme=dark] .colab-df-convert {\n",
              "      background-color: #3B4455;\n",
              "      fill: #D2E3FC;\n",
              "    }\n",
              "\n",
              "    [theme=dark] .colab-df-convert:hover {\n",
              "      background-color: #434B5C;\n",
              "      box-shadow: 0px 1px 3px 1px rgba(0, 0, 0, 0.15);\n",
              "      filter: drop-shadow(0px 1px 2px rgba(0, 0, 0, 0.3));\n",
              "      fill: #FFFFFF;\n",
              "    }\n",
              "  </style>\n",
              "\n",
              "      <script>\n",
              "        const buttonEl =\n",
              "          document.querySelector('#df-a66de433-c51c-4e31-a8d5-426e92350a8d button.colab-df-convert');\n",
              "        buttonEl.style.display =\n",
              "          google.colab.kernel.accessAllowed ? 'block' : 'none';\n",
              "\n",
              "        async function convertToInteractive(key) {\n",
              "          const element = document.querySelector('#df-a66de433-c51c-4e31-a8d5-426e92350a8d');\n",
              "          const dataTable =\n",
              "            await google.colab.kernel.invokeFunction('convertToInteractive',\n",
              "                                                     [key], {});\n",
              "          if (!dataTable) return;\n",
              "\n",
              "          const docLinkHtml = 'Like what you see? Visit the ' +\n",
              "            '<a target=\"_blank\" href=https://colab.research.google.com/notebooks/data_table.ipynb>data table notebook</a>'\n",
              "            + ' to learn more about interactive tables.';\n",
              "          element.innerHTML = '';\n",
              "          dataTable['output_type'] = 'display_data';\n",
              "          await google.colab.output.renderOutput(dataTable, element);\n",
              "          const docLink = document.createElement('div');\n",
              "          docLink.innerHTML = docLinkHtml;\n",
              "          element.appendChild(docLink);\n",
              "        }\n",
              "      </script>\n",
              "    </div>\n",
              "  </div>\n",
              "  "
            ]
          },
          "metadata": {},
          "execution_count": 151
        }
      ]
    },
    {
      "cell_type": "code",
      "source": [
        "plt.figure(figsize=(7,4))\n",
        "sns.heatmap(cross_tab, annot=True, fmt='d', cmap='Blues') #fmt='d'는 정수, .1f는 소수 한자리까지 의미"
      ],
      "metadata": {
        "colab": {
          "base_uri": "https://localhost:8080/",
          "height": 405
        },
        "id": "LJxIk67MtHrq",
        "outputId": "12b67c91-91ba-4b8c-d104-f776e6ee7896"
      },
      "execution_count": 152,
      "outputs": [
        {
          "output_type": "execute_result",
          "data": {
            "text/plain": [
              "<Axes: xlabel='company_size', ylabel='experience_level'>"
            ]
          },
          "metadata": {},
          "execution_count": 152
        },
        {
          "output_type": "display_data",
          "data": {
            "text/plain": [
              "<Figure size 700x400 with 2 Axes>"
            ],
            "image/png": "[encoded data removed]"
          },
          "metadata": {
            "needs_background": "light"
          }
        }
      ]
    },
    {
      "cell_type": "code",
      "source": [
        "#년도별로 Data science 직무를 가진 사람이 얼마나 많아졌는지?\n",
        "df['work_year'].value_counts()"
      ],
      "metadata": {
        "colab": {
          "base_uri": "https://localhost:8080/"
        },
        "id": "qsy7CLI1tyAF",
        "outputId": "1c10ddca-3e46-496a-d43c-8e061f66435f"
      },
      "execution_count": 153,
      "outputs": [
        {
          "output_type": "execute_result",
          "data": {
            "text/plain": [
              "2023    1785\n",
              "2022    1664\n",
              "2021     230\n",
              "2020      76\n",
              "Name: work_year, dtype: int64"
            ]
          },
          "metadata": {},
          "execution_count": 153
        }
      ]
    },
    {
      "cell_type": "code",
      "source": [
        "df_year = pd.DataFrame(df['work_year'].value_counts())\n",
        "\n",
        "plt.figure(figsize=(7,4))\n",
        "sns.barplot(x=df_year.index, y=df_year['work_year'])"
      ],
      "metadata": {
        "colab": {
          "base_uri": "https://localhost:8080/",
          "height": 386
        },
        "id": "2yuXI0eMvk2v",
        "outputId": "25a489ad-7c10-4ec6-b40a-96f8040da280"
      },
      "execution_count": 154,
      "outputs": [
        {
          "output_type": "execute_result",
          "data": {
            "text/plain": [
              "<Axes: ylabel='work_year'>"
            ]
          },
          "metadata": {},
          "execution_count": 154
        },
        {
          "output_type": "display_data",
          "data": {
            "text/plain": [
              "<Figure size 700x400 with 1 Axes>"
            ],
            "image/png": "[encoded data removed]"
          },
          "metadata": {
            "needs_background": "light"
          }
        }
      ]
    },
    {
      "cell_type": "code",
      "source": [
        "#년도별로 평균 급여가 얼마나 상승했는지?\n",
        "salary_mean = pd.DataFrame(df.groupby('work_year')['salary_in_usd'].mean()).round(0).reset_index()\n",
        "\n",
        "plt.figure(figsize=(7,4))\n",
        "sns.lineplot(data=salary_mean, x=['2020', '2021', '2022', '2023'], y='salary_in_usd')"
      ],
      "metadata": {
        "colab": {
          "base_uri": "https://localhost:8080/",
          "height": 386
        },
        "id": "mj-wqn-KvKyg",
        "outputId": "6686ee5a-363e-4d98-d592-ab393b1bfd2d"
      },
      "execution_count": 155,
      "outputs": [
        {
          "output_type": "execute_result",
          "data": {
            "text/plain": [
              "<Axes: ylabel='salary_in_usd'>"
            ]
          },
          "metadata": {},
          "execution_count": 155
        },
        {
          "output_type": "display_data",
          "data": {
            "text/plain": [
              "<Figure size 700x400 with 1 Axes>"
            ],
            "image/png": "[encoded data removed]"
          },
          "metadata": {
            "needs_background": "light"
          }
        }
      ]
    },
    {
      "cell_type": "markdown",
      "source": [
        "# Modeling"
      ],
      "metadata": {
        "id": "mRah6glU0bpC"
      }
    },
    {
      "cell_type": "code",
      "source": [
        "#데이터 전처리\n",
        "df.info()"
      ],
      "metadata": {
        "colab": {
          "base_uri": "https://localhost:8080/"
        },
        "id": "TLyQXAYHWEpM",
        "outputId": "2d70cf85-df3b-4b3b-9bd3-5ee2a0989a9e"
      },
      "execution_count": 156,
      "outputs": [
        {
          "output_type": "stream",
          "name": "stdout",
          "text": [
            "<class 'pandas.core.frame.DataFrame'>\n",
            "RangeIndex: 3755 entries, 0 to 3754\n",
            "Data columns (total 11 columns):\n",
            " #   Column              Non-Null Count  Dtype \n",
            "---  ------              --------------  ----- \n",
            " 0   work_year           3755 non-null   int64 \n",
            " 1   experience_level    3755 non-null   object\n",
            " 2   employment_type     3755 non-null   object\n",
            " 3   job_title           3755 non-null   object\n",
            " 4   salary              3755 non-null   int64 \n",
            " 5   salary_currency     3755 non-null   object\n",
            " 6   salary_in_usd       3755 non-null   int64 \n",
            " 7   employee_residence  3755 non-null   object\n",
            " 8   remote_ratio        3755 non-null   int64 \n",
            " 9   company_location    3755 non-null   object\n",
            " 10  company_size        3755 non-null   object\n",
            "dtypes: int64(4), object(7)\n",
            "memory usage: 322.8+ KB\n"
          ]
        }
      ]
    },
    {
      "cell_type": "code",
      "source": [
        "#범주형 변수 -> 수치형 변환(라벨인코더 사용)\n",
        "cat_col = df.select_dtypes(include='object').columns.tolist()\n",
        "\n",
        "encoder = LabelEncoder()\n",
        "for col in cat_col :\n",
        "  df[col] = encoder.fit_transform(df[col])\n",
        "\n",
        "df.info()"
      ],
      "metadata": {
        "colab": {
          "base_uri": "https://localhost:8080/"
        },
        "id": "92buPDtuWHX1",
        "outputId": "3810c5f8-ba1c-454d-b95a-5c5b0567dbbb"
      },
      "execution_count": 157,
      "outputs": [
        {
          "output_type": "stream",
          "name": "stdout",
          "text": [
            "<class 'pandas.core.frame.DataFrame'>\n",
            "RangeIndex: 3755 entries, 0 to 3754\n",
            "Data columns (total 11 columns):\n",
            " #   Column              Non-Null Count  Dtype\n",
            "---  ------              --------------  -----\n",
            " 0   work_year           3755 non-null   int64\n",
            " 1   experience_level    3755 non-null   int64\n",
            " 2   employment_type     3755 non-null   int64\n",
            " 3   job_title           3755 non-null   int64\n",
            " 4   salary              3755 non-null   int64\n",
            " 5   salary_currency     3755 non-null   int64\n",
            " 6   salary_in_usd       3755 non-null   int64\n",
            " 7   employee_residence  3755 non-null   int64\n",
            " 8   remote_ratio        3755 non-null   int64\n",
            " 9   company_location    3755 non-null   int64\n",
            " 10  company_size        3755 non-null   int64\n",
            "dtypes: int64(11)\n",
            "memory usage: 322.8 KB\n"
          ]
        }
      ]
    },
    {
      "cell_type": "code",
      "source": [
        "df.describe()"
      ],
      "metadata": {
        "colab": {
          "base_uri": "https://localhost:8080/",
          "height": 364
        },
        "id": "MHDK_B7TXWqJ",
        "outputId": "b6daa65c-87bd-4b27-a5e4-141f0d152413"
      },
      "execution_count": 158,
      "outputs": [
        {
          "output_type": "execute_result",
          "data": {
            "text/plain": [
              "         work_year  experience_level  employment_type    job_title  \\\n",
              "count  3755.000000       3755.000000      3755.000000  3755.000000   \n",
              "mean   2022.373635          2.469241         1.996538    39.661784   \n",
              "std       0.691448          0.906261         0.133550    18.536695   \n",
              "min    2020.000000          0.000000         0.000000     0.000000   \n",
              "25%    2022.000000          2.000000         2.000000    27.000000   \n",
              "50%    2022.000000          3.000000         2.000000    33.000000   \n",
              "75%    2023.000000          3.000000         2.000000    47.000000   \n",
              "max    2023.000000          3.000000         3.000000    92.000000   \n",
              "\n",
              "             salary  salary_currency  salary_in_usd  employee_residence  \\\n",
              "count  3.755000e+03      3755.000000    3755.000000         3755.000000   \n",
              "mean   1.906956e+05        17.409587  137570.389880           66.149401   \n",
              "std    6.716765e+05         4.062710   63055.625278           19.235212   \n",
              "min    6.000000e+03         0.000000    5132.000000            0.000000   \n",
              "25%    1.000000e+05        19.000000   95000.000000           75.000000   \n",
              "50%    1.380000e+05        19.000000  135000.000000           75.000000   \n",
              "75%    1.800000e+05        19.000000  175000.000000           75.000000   \n",
              "max    3.040000e+07        19.000000  450000.000000           77.000000   \n",
              "\n",
              "       remote_ratio  company_location  company_size  \n",
              "count   3755.000000       3755.000000   3755.000000  \n",
              "mean      46.271638         62.117177      0.918509  \n",
              "std       48.589050         17.495432      0.392071  \n",
              "min        0.000000          0.000000      0.000000  \n",
              "25%        0.000000         70.000000      1.000000  \n",
              "50%        0.000000         70.000000      1.000000  \n",
              "75%      100.000000         70.000000      1.000000  \n",
              "max      100.000000         71.000000      2.000000  "
            ],
            "text/html": [
              "\n",
              "  <div id=\"df-85143072-b1c8-47ae-a2c9-5ed32e66224e\">\n",
              "    <div class=\"colab-df-container\">\n",
              "      <div>\n",
              "<style scoped>\n",
              "    .dataframe tbody tr th:only-of-type {\n",
              "        vertical-align: middle;\n",
              "    }\n",
              "\n",
              "    .dataframe tbody tr th {\n",
              "        vertical-align: top;\n",
              "    }\n",
              "\n",
              "    .dataframe thead th {\n",
              "        text-align: right;\n",
              "    }\n",
              "</style>\n",
              "<table border=\"1\" class=\"dataframe\">\n",
              "  <thead>\n",
              "    <tr style=\"text-align: right;\">\n",
              "      <th></th>\n",
              "      <th>work_year</th>\n",
              "      <th>experience_level</th>\n",
              "      <th>employment_type</th>\n",
              "      <th>job_title</th>\n",
              "      <th>salary</th>\n",
              "      <th>salary_currency</th>\n",
              "      <th>salary_in_usd</th>\n",
              "      <th>employee_residence</th>\n",
              "      <th>remote_ratio</th>\n",
              "      <th>company_location</th>\n",
              "      <th>company_size</th>\n",
              "    </tr>\n",
              "  </thead>\n",
              "  <tbody>\n",
              "    <tr>\n",
              "      <th>count</th>\n",
              "      <td>3755.000000</td>\n",
              "      <td>3755.000000</td>\n",
              "      <td>3755.000000</td>\n",
              "      <td>3755.000000</td>\n",
              "      <td>3.755000e+03</td>\n",
              "      <td>3755.000000</td>\n",
              "      <td>3755.000000</td>\n",
              "      <td>3755.000000</td>\n",
              "      <td>3755.000000</td>\n",
              "      <td>3755.000000</td>\n",
              "      <td>3755.000000</td>\n",
              "    </tr>\n",
              "    <tr>\n",
              "      <th>mean</th>\n",
              "      <td>2022.373635</td>\n",
              "      <td>2.469241</td>\n",
              "      <td>1.996538</td>\n",
              "      <td>39.661784</td>\n",
              "      <td>1.906956e+05</td>\n",
              "      <td>17.409587</td>\n",
              "      <td>137570.389880</td>\n",
              "      <td>66.149401</td>\n",
              "      <td>46.271638</td>\n",
              "      <td>62.117177</td>\n",
              "      <td>0.918509</td>\n",
              "    </tr>\n",
              "    <tr>\n",
              "      <th>std</th>\n",
              "      <td>0.691448</td>\n",
              "      <td>0.906261</td>\n",
              "      <td>0.133550</td>\n",
              "      <td>18.536695</td>\n",
              "      <td>6.716765e+05</td>\n",
              "      <td>4.062710</td>\n",
              "      <td>63055.625278</td>\n",
              "      <td>19.235212</td>\n",
              "      <td>48.589050</td>\n",
              "      <td>17.495432</td>\n",
              "      <td>0.392071</td>\n",
              "    </tr>\n",
              "    <tr>\n",
              "      <th>min</th>\n",
              "      <td>2020.000000</td>\n",
              "      <td>0.000000</td>\n",
              "      <td>0.000000</td>\n",
              "      <td>0.000000</td>\n",
              "      <td>6.000000e+03</td>\n",
              "      <td>0.000000</td>\n",
              "      <td>5132.000000</td>\n",
              "      <td>0.000000</td>\n",
              "      <td>0.000000</td>\n",
              "      <td>0.000000</td>\n",
              "      <td>0.000000</td>\n",
              "    </tr>\n",
              "    <tr>\n",
              "      <th>25%</th>\n",
              "      <td>2022.000000</td>\n",
              "      <td>2.000000</td>\n",
              "      <td>2.000000</td>\n",
              "      <td>27.000000</td>\n",
              "      <td>1.000000e+05</td>\n",
              "      <td>19.000000</td>\n",
              "      <td>95000.000000</td>\n",
              "      <td>75.000000</td>\n",
              "      <td>0.000000</td>\n",
              "      <td>70.000000</td>\n",
              "      <td>1.000000</td>\n",
              "    </tr>\n",
              "    <tr>\n",
              "      <th>50%</th>\n",
              "      <td>2022.000000</td>\n",
              "      <td>3.000000</td>\n",
              "      <td>2.000000</td>\n",
              "      <td>33.000000</td>\n",
              "      <td>1.380000e+05</td>\n",
              "      <td>19.000000</td>\n",
              "      <td>135000.000000</td>\n",
              "      <td>75.000000</td>\n",
              "      <td>0.000000</td>\n",
              "      <td>70.000000</td>\n",
              "      <td>1.000000</td>\n",
              "    </tr>\n",
              "    <tr>\n",
              "      <th>75%</th>\n",
              "      <td>2023.000000</td>\n",
              "      <td>3.000000</td>\n",
              "      <td>2.000000</td>\n",
              "      <td>47.000000</td>\n",
              "      <td>1.800000e+05</td>\n",
              "      <td>19.000000</td>\n",
              "      <td>175000.000000</td>\n",
              "      <td>75.000000</td>\n",
              "      <td>100.000000</td>\n",
              "      <td>70.000000</td>\n",
              "      <td>1.000000</td>\n",
              "    </tr>\n",
              "    <tr>\n",
              "      <th>max</th>\n",
              "      <td>2023.000000</td>\n",
              "      <td>3.000000</td>\n",
              "      <td>3.000000</td>\n",
              "      <td>92.000000</td>\n",
              "      <td>3.040000e+07</td>\n",
              "      <td>19.000000</td>\n",
              "      <td>450000.000000</td>\n",
              "      <td>77.000000</td>\n",
              "      <td>100.000000</td>\n",
              "      <td>71.000000</td>\n",
              "      <td>2.000000</td>\n",
              "    </tr>\n",
              "  </tbody>\n",
              "</table>\n",
              "</div>\n",
              "      <button class=\"colab-df-convert\" onclick=\"convertToInteractive('df-85143072-b1c8-47ae-a2c9-5ed32e66224e')\"\n",
              "              title=\"Convert this dataframe to an interactive table.\"\n",
              "              style=\"display:none;\">\n",
              "        \n",
              "  <svg xmlns=\"http://www.w3.org/2000/svg\" height=\"24px\"viewBox=\"0 0 24 24\"\n",
              "       width=\"24px\">\n",
              "    <path d=\"M0 0h24v24H0V0z\" fill=\"none\"/>\n",
              "    <path d=\"M18.56 5.44l.94 2.06.94-2.06 2.06-.94-2.06-.94-.94-2.06-.94 2.06-2.06.94zm-11 1L8.5 8.5l.94-2.06 2.06-.94-2.06-.94L8.5 2.5l-.94 2.06-2.06.94zm10 10l.94 2.06.94-2.06 2.06-.94-2.06-.94-.94-2.06-.94 2.06-2.06.94z\"/><path d=\"M17.41 7.96l-1.37-1.37c-.4-.4-.92-.59-1.43-.59-.52 0-1.04.2-1.43.59L10.3 9.45l-7.72 7.72c-.78.78-.78 2.05 0 2.83L4 21.41c.39.39.9.59 1.41.59.51 0 1.02-.2 1.41-.59l7.78-7.78 2.81-2.81c.8-.78.8-2.07 0-2.86zM5.41 20L4 18.59l7.72-7.72 1.47 1.35L5.41 20z\"/>\n",
              "  </svg>\n",
              "      </button>\n",
              "      \n",
              "  <style>\n",
              "    .colab-df-container {\n",
              "      display:flex;\n",
              "      flex-wrap:wrap;\n",
              "      gap: 12px;\n",
              "    }\n",
              "\n",
              "    .colab-df-convert {\n",
              "      background-color: #E8F0FE;\n",
              "      border: none;\n",
              "      border-radius: 50%;\n",
              "      cursor: pointer;\n",
              "      display: none;\n",
              "      fill: #1967D2;\n",
              "      height: 32px;\n",
              "      padding: 0 0 0 0;\n",
              "      width: 32px;\n",
              "    }\n",
              "\n",
              "    .colab-df-convert:hover {\n",
              "      background-color: #E2EBFA;\n",
              "      box-shadow: 0px 1px 2px rgba(60, 64, 67, 0.3), 0px 1px 3px 1px rgba(60, 64, 67, 0.15);\n",
              "      fill: #174EA6;\n",
              "    }\n",
              "\n",
              "    [theme=dark] .colab-df-convert {\n",
              "      background-color: #3B4455;\n",
              "      fill: #D2E3FC;\n",
              "    }\n",
              "\n",
              "    [theme=dark] .colab-df-convert:hover {\n",
              "      background-color: #434B5C;\n",
              "      box-shadow: 0px 1px 3px 1px rgba(0, 0, 0, 0.15);\n",
              "      filter: drop-shadow(0px 1px 2px rgba(0, 0, 0, 0.3));\n",
              "      fill: #FFFFFF;\n",
              "    }\n",
              "  </style>\n",
              "\n",
              "      <script>\n",
              "        const buttonEl =\n",
              "          document.querySelector('#df-85143072-b1c8-47ae-a2c9-5ed32e66224e button.colab-df-convert');\n",
              "        buttonEl.style.display =\n",
              "          google.colab.kernel.accessAllowed ? 'block' : 'none';\n",
              "\n",
              "        async function convertToInteractive(key) {\n",
              "          const element = document.querySelector('#df-85143072-b1c8-47ae-a2c9-5ed32e66224e');\n",
              "          const dataTable =\n",
              "            await google.colab.kernel.invokeFunction('convertToInteractive',\n",
              "                                                     [key], {});\n",
              "          if (!dataTable) return;\n",
              "\n",
              "          const docLinkHtml = 'Like what you see? Visit the ' +\n",
              "            '<a target=\"_blank\" href=https://colab.research.google.com/notebooks/data_table.ipynb>data table notebook</a>'\n",
              "            + ' to learn more about interactive tables.';\n",
              "          element.innerHTML = '';\n",
              "          dataTable['output_type'] = 'display_data';\n",
              "          await google.colab.output.renderOutput(dataTable, element);\n",
              "          const docLink = document.createElement('div');\n",
              "          docLink.innerHTML = docLinkHtml;\n",
              "          element.appendChild(docLink);\n",
              "        }\n",
              "      </script>\n",
              "    </div>\n",
              "  </div>\n",
              "  "
            ]
          },
          "metadata": {},
          "execution_count": 158
        }
      ]
    },
    {
      "cell_type": "code",
      "source": [
        "sns.heatmap(df.corr(), annot=True, fmt='.2f', cmap='Reds')"
      ],
      "metadata": {
        "colab": {
          "base_uri": "https://localhost:8080/",
          "height": 584
        },
        "id": "Q54ddgZqXrZ_",
        "outputId": "b2988f26-e769-400f-c191-1735771b248e"
      },
      "execution_count": 159,
      "outputs": [
        {
          "output_type": "execute_result",
          "data": {
            "text/plain": [
              "<Axes: >"
            ]
          },
          "metadata": {},
          "execution_count": 159
        },
        {
          "output_type": "display_data",
          "data": {
            "text/plain": [
              "<Figure size 900x500 with 2 Axes>"
            ],
            "image/png": "[encoded data removed]"
          },
          "metadata": {
            "needs_background": "light"
          }
        }
      ]
    },
    {
      "cell_type": "code",
      "source": [
        "#employee_residence와 강한 양의 상관관계를 가지는 company_location과 salary_currency 변수 삭제\n",
        "df = df.drop(columns=['company_location', 'salary_currency', 'salary'])\n",
        "df"
      ],
      "metadata": {
        "colab": {
          "base_uri": "https://localhost:8080/",
          "height": 423
        },
        "id": "iNlArREEYHOd",
        "outputId": "7f136acf-0590-4c2a-d0af-ac89b8cc0a2b"
      },
      "execution_count": 160,
      "outputs": [
        {
          "output_type": "execute_result",
          "data": {
            "text/plain": [
              "      work_year  experience_level  employment_type  job_title  salary_in_usd  \\\n",
              "0          2023                 3                2         84          85847   \n",
              "1          2023                 2                0         66          30000   \n",
              "2          2023                 2                0         66          25500   \n",
              "3          2023                 3                2         47         175000   \n",
              "4          2023                 3                2         47         120000   \n",
              "...         ...               ...              ...        ...            ...   \n",
              "3750       2020                 3                2         47         412000   \n",
              "3751       2021                 2                2         84         151000   \n",
              "3752       2020                 0                2         47         105000   \n",
              "3753       2020                 0                0         17         100000   \n",
              "3754       2021                 3                2         45          94665   \n",
              "\n",
              "      employee_residence  remote_ratio  company_size  \n",
              "0                     26           100             0  \n",
              "1                     75           100             2  \n",
              "2                     75           100             2  \n",
              "3                     11           100             1  \n",
              "4                     11           100             1  \n",
              "...                  ...           ...           ...  \n",
              "3750                  75           100             0  \n",
              "3751                  75           100             0  \n",
              "3752                  75           100             2  \n",
              "3753                  75           100             0  \n",
              "3754                  39            50             0  \n",
              "\n",
              "[3755 rows x 8 columns]"
            ],
            "text/html": [
              "\n",
              "  <div id=\"df-8c488ce5-1fa0-4d38-a78b-383b32e5b54d\">\n",
              "    <div class=\"colab-df-container\">\n",
              "      <div>\n",
              "<style scoped>\n",
              "    .dataframe tbody tr th:only-of-type {\n",
              "        vertical-align: middle;\n",
              "    }\n",
              "\n",
              "    .dataframe tbody tr th {\n",
              "        vertical-align: top;\n",
              "    }\n",
              "\n",
              "    .dataframe thead th {\n",
              "        text-align: right;\n",
              "    }\n",
              "</style>\n",
              "<table border=\"1\" class=\"dataframe\">\n",
              "  <thead>\n",
              "    <tr style=\"text-align: right;\">\n",
              "      <th></th>\n",
              "      <th>work_year</th>\n",
              "      <th>experience_level</th>\n",
              "      <th>employment_type</th>\n",
              "      <th>job_title</th>\n",
              "      <th>salary_in_usd</th>\n",
              "      <th>employee_residence</th>\n",
              "      <th>remote_ratio</th>\n",
              "      <th>company_size</th>\n",
              "    </tr>\n",
              "  </thead>\n",
              "  <tbody>\n",
              "    <tr>\n",
              "      <th>0</th>\n",
              "      <td>2023</td>\n",
              "      <td>3</td>\n",
              "      <td>2</td>\n",
              "      <td>84</td>\n",
              "      <td>85847</td>\n",
              "      <td>26</td>\n",
              "      <td>100</td>\n",
              "      <td>0</td>\n",
              "    </tr>\n",
              "    <tr>\n",
              "      <th>1</th>\n",
              "      <td>2023</td>\n",
              "      <td>2</td>\n",
              "      <td>0</td>\n",
              "      <td>66</td>\n",
              "      <td>30000</td>\n",
              "      <td>75</td>\n",
              "      <td>100</td>\n",
              "      <td>2</td>\n",
              "    </tr>\n",
              "    <tr>\n",
              "      <th>2</th>\n",
              "      <td>2023</td>\n",
              "      <td>2</td>\n",
              "      <td>0</td>\n",
              "      <td>66</td>\n",
              "      <td>25500</td>\n",
              "      <td>75</td>\n",
              "      <td>100</td>\n",
              "      <td>2</td>\n",
              "    </tr>\n",
              "    <tr>\n",
              "      <th>3</th>\n",
              "      <td>2023</td>\n",
              "      <td>3</td>\n",
              "      <td>2</td>\n",
              "      <td>47</td>\n",
              "      <td>175000</td>\n",
              "      <td>11</td>\n",
              "      <td>100</td>\n",
              "      <td>1</td>\n",
              "    </tr>\n",
              "    <tr>\n",
              "      <th>4</th>\n",
              "      <td>2023</td>\n",
              "      <td>3</td>\n",
              "      <td>2</td>\n",
              "      <td>47</td>\n",
              "      <td>120000</td>\n",
              "      <td>11</td>\n",
              "      <td>100</td>\n",
              "      <td>1</td>\n",
              "    </tr>\n",
              "    <tr>\n",
              "      <th>...</th>\n",
              "      <td>...</td>\n",
              "      <td>...</td>\n",
              "      <td>...</td>\n",
              "      <td>...</td>\n",
              "      <td>...</td>\n",
              "      <td>...</td>\n",
              "      <td>...</td>\n",
              "      <td>...</td>\n",
              "    </tr>\n",
              "    <tr>\n",
              "      <th>3750</th>\n",
              "      <td>2020</td>\n",
              "      <td>3</td>\n",
              "      <td>2</td>\n",
              "      <td>47</td>\n",
              "      <td>412000</td>\n",
              "      <td>75</td>\n",
              "      <td>100</td>\n",
              "      <td>0</td>\n",
              "    </tr>\n",
              "    <tr>\n",
              "      <th>3751</th>\n",
              "      <td>2021</td>\n",
              "      <td>2</td>\n",
              "      <td>2</td>\n",
              "      <td>84</td>\n",
              "      <td>151000</td>\n",
              "      <td>75</td>\n",
              "      <td>100</td>\n",
              "      <td>0</td>\n",
              "    </tr>\n",
              "    <tr>\n",
              "      <th>3752</th>\n",
              "      <td>2020</td>\n",
              "      <td>0</td>\n",
              "      <td>2</td>\n",
              "      <td>47</td>\n",
              "      <td>105000</td>\n",
              "      <td>75</td>\n",
              "      <td>100</td>\n",
              "      <td>2</td>\n",
              "    </tr>\n",
              "    <tr>\n",
              "      <th>3753</th>\n",
              "      <td>2020</td>\n",
              "      <td>0</td>\n",
              "      <td>0</td>\n",
              "      <td>17</td>\n",
              "      <td>100000</td>\n",
              "      <td>75</td>\n",
              "      <td>100</td>\n",
              "      <td>0</td>\n",
              "    </tr>\n",
              "    <tr>\n",
              "      <th>3754</th>\n",
              "      <td>2021</td>\n",
              "      <td>3</td>\n",
              "      <td>2</td>\n",
              "      <td>45</td>\n",
              "      <td>94665</td>\n",
              "      <td>39</td>\n",
              "      <td>50</td>\n",
              "      <td>0</td>\n",
              "    </tr>\n",
              "  </tbody>\n",
              "</table>\n",
              "<p>3755 rows × 8 columns</p>\n",
              "</div>\n",
              "      <button class=\"colab-df-convert\" onclick=\"convertToInteractive('df-8c488ce5-1fa0-4d38-a78b-383b32e5b54d')\"\n",
              "              title=\"Convert this dataframe to an interactive table.\"\n",
              "              style=\"display:none;\">\n",
              "        \n",
              "  <svg xmlns=\"http://www.w3.org/2000/svg\" height=\"24px\"viewBox=\"0 0 24 24\"\n",
              "       width=\"24px\">\n",
              "    <path d=\"M0 0h24v24H0V0z\" fill=\"none\"/>\n",
              "    <path d=\"M18.56 5.44l.94 2.06.94-2.06 2.06-.94-2.06-.94-.94-2.06-.94 2.06-2.06.94zm-11 1L8.5 8.5l.94-2.06 2.06-.94-2.06-.94L8.5 2.5l-.94 2.06-2.06.94zm10 10l.94 2.06.94-2.06 2.06-.94-2.06-.94-.94-2.06-.94 2.06-2.06.94z\"/><path d=\"M17.41 7.96l-1.37-1.37c-.4-.4-.92-.59-1.43-.59-.52 0-1.04.2-1.43.59L10.3 9.45l-7.72 7.72c-.78.78-.78 2.05 0 2.83L4 21.41c.39.39.9.59 1.41.59.51 0 1.02-.2 1.41-.59l7.78-7.78 2.81-2.81c.8-.78.8-2.07 0-2.86zM5.41 20L4 18.59l7.72-7.72 1.47 1.35L5.41 20z\"/>\n",
              "  </svg>\n",
              "      </button>\n",
              "      \n",
              "  <style>\n",
              "    .colab-df-container {\n",
              "      display:flex;\n",
              "      flex-wrap:wrap;\n",
              "      gap: 12px;\n",
              "    }\n",
              "\n",
              "    .colab-df-convert {\n",
              "      background-color: #E8F0FE;\n",
              "      border: none;\n",
              "      border-radius: 50%;\n",
              "      cursor: pointer;\n",
              "      display: none;\n",
              "      fill: #1967D2;\n",
              "      height: 32px;\n",
              "      padding: 0 0 0 0;\n",
              "      width: 32px;\n",
              "    }\n",
              "\n",
              "    .colab-df-convert:hover {\n",
              "      background-color: #E2EBFA;\n",
              "      box-shadow: 0px 1px 2px rgba(60, 64, 67, 0.3), 0px 1px 3px 1px rgba(60, 64, 67, 0.15);\n",
              "      fill: #174EA6;\n",
              "    }\n",
              "\n",
              "    [theme=dark] .colab-df-convert {\n",
              "      background-color: #3B4455;\n",
              "      fill: #D2E3FC;\n",
              "    }\n",
              "\n",
              "    [theme=dark] .colab-df-convert:hover {\n",
              "      background-color: #434B5C;\n",
              "      box-shadow: 0px 1px 3px 1px rgba(0, 0, 0, 0.15);\n",
              "      filter: drop-shadow(0px 1px 2px rgba(0, 0, 0, 0.3));\n",
              "      fill: #FFFFFF;\n",
              "    }\n",
              "  </style>\n",
              "\n",
              "      <script>\n",
              "        const buttonEl =\n",
              "          document.querySelector('#df-8c488ce5-1fa0-4d38-a78b-383b32e5b54d button.colab-df-convert');\n",
              "        buttonEl.style.display =\n",
              "          google.colab.kernel.accessAllowed ? 'block' : 'none';\n",
              "\n",
              "        async function convertToInteractive(key) {\n",
              "          const element = document.querySelector('#df-8c488ce5-1fa0-4d38-a78b-383b32e5b54d');\n",
              "          const dataTable =\n",
              "            await google.colab.kernel.invokeFunction('convertToInteractive',\n",
              "                                                     [key], {});\n",
              "          if (!dataTable) return;\n",
              "\n",
              "          const docLinkHtml = 'Like what you see? Visit the ' +\n",
              "            '<a target=\"_blank\" href=https://colab.research.google.com/notebooks/data_table.ipynb>data table notebook</a>'\n",
              "            + ' to learn more about interactive tables.';\n",
              "          element.innerHTML = '';\n",
              "          dataTable['output_type'] = 'display_data';\n",
              "          await google.colab.output.renderOutput(dataTable, element);\n",
              "          const docLink = document.createElement('div');\n",
              "          docLink.innerHTML = docLinkHtml;\n",
              "          element.appendChild(docLink);\n",
              "        }\n",
              "      </script>\n",
              "    </div>\n",
              "  </div>\n",
              "  "
            ]
          },
          "metadata": {},
          "execution_count": 160
        }
      ]
    },
    {
      "cell_type": "code",
      "source": [
        "#target\n",
        "Y = df['salary_in_usd']\n",
        "df = df.drop(columns=['salary_in_usd'])\n",
        "\n",
        "#train, test 분리\n",
        "test = df.tail(1000)\n",
        "len_row = len(df) - 1000\n",
        "train = df.head(len_row)\n",
        "print(len(train), len(test))\n",
        "test_y = Y[-1000:]\n",
        "train_y = Y[:len_row]\n",
        "print(len(train_y), len(test_y))"
      ],
      "metadata": {
        "colab": {
          "base_uri": "https://localhost:8080/"
        },
        "id": "3NKWnOhzYdnR",
        "outputId": "5975bbd8-0c8b-4ff8-8e1a-f283f378f001"
      },
      "execution_count": 161,
      "outputs": [
        {
          "output_type": "stream",
          "name": "stdout",
          "text": [
            "2755 1000\n",
            "2755 1000\n"
          ]
        }
      ]
    },
    {
      "cell_type": "code",
      "source": [
        "!pip install optuna"
      ],
      "metadata": {
        "colab": {
          "base_uri": "https://localhost:8080/"
        },
        "id": "nEqLbKnKSJ8p",
        "outputId": "329faa86-ec5b-4f98-c20b-b7149fc141fd"
      },
      "execution_count": 162,
      "outputs": [
        {
          "output_type": "stream",
          "name": "stdout",
          "text": [
            "Requirement already satisfied: optuna in /usr/local/lib/python3.10/dist-packages (3.2.0)\n",
            "Requirement already satisfied: alembic>=1.5.0 in /usr/local/lib/python3.10/dist-packages (from optuna) (1.11.1)\n",
            "Requirement already satisfied: cmaes>=0.9.1 in /usr/local/lib/python3.10/dist-packages (from optuna) (0.9.1)\n",
            "Requirement already satisfied: colorlog in /usr/local/lib/python3.10/dist-packages (from optuna) (6.7.0)\n",
            "Requirement already satisfied: numpy in /usr/local/lib/python3.10/dist-packages (from optuna) (1.22.4)\n",
            "Requirement already satisfied: packaging>=20.0 in /usr/local/lib/python3.10/dist-packages (from optuna) (23.1)\n",
            "Requirement already satisfied: sqlalchemy>=1.3.0 in /usr/local/lib/python3.10/dist-packages (from optuna) (2.0.16)\n",
            "Requirement already satisfied: tqdm in /usr/local/lib/python3.10/dist-packages (from optuna) (4.65.0)\n",
            "Requirement already satisfied: PyYAML in /usr/local/lib/python3.10/dist-packages (from optuna) (6.0)\n",
            "Requirement already satisfied: Mako in /usr/local/lib/python3.10/dist-packages (from alembic>=1.5.0->optuna) (1.2.4)\n",
            "Requirement already satisfied: typing-extensions>=4 in /usr/local/lib/python3.10/dist-packages (from alembic>=1.5.0->optuna) (4.6.3)\n",
            "Requirement already satisfied: greenlet!=0.4.17 in /usr/local/lib/python3.10/dist-packages (from sqlalchemy>=1.3.0->optuna) (2.0.2)\n",
            "Requirement already satisfied: MarkupSafe>=0.9.2 in /usr/local/lib/python3.10/dist-packages (from Mako->alembic>=1.5.0->optuna) (2.1.3)\n"
          ]
        }
      ]
    },
    {
      "cell_type": "code",
      "source": [
        "from sklearn.ensemble import RandomForestRegressor\n",
        "from lightgbm import LGBMRegressor\n",
        "from xgboost import XGBRegressor\n",
        "from sklearn.metrics import mean_squared_error"
      ],
      "metadata": {
        "id": "BAj9NqyLzVY3"
      },
      "execution_count": 163,
      "outputs": []
    },
    {
      "cell_type": "code",
      "source": [
        "import optuna\n",
        "from optuna import Trial, visualization\n",
        "from optuna.samplers import TPESampler"
      ],
      "metadata": {
        "id": "j8v37A0S4C01"
      },
      "execution_count": 164,
      "outputs": []
    },
    {
      "cell_type": "code",
      "source": [
        "#optuna로 하이퍼 파라미터 값 조정\n",
        "\n",
        "def objective_model(trial : Trial) :\n",
        "  param = {\n",
        "      'n_estimators' : trial.suggest_int('n_estimators', 100, 4000),\n",
        "      'max_depth' : trial.suggest_int('max_depth', 8, 100),\n",
        "      'min_child_weight' : trial.suggest_int('min_child_weight', 1, 400),\n",
        "      'learning_rate' : trial.suggest_float('learning_rate', 1e-6, 1.0),\n",
        "      'colsample_bytree' : trial.suggest_float('colsample_bytree', 0.5, 1.0),\n",
        "      'subsample' : trial.suggest_float('subsample', 0.3, 1.0),\n",
        "      'random_state' : 40\n",
        "  }\n",
        "\n",
        "  x_train, x_val, y_train, y_val = train_test_split(train, train_y, test_size=0.2, shuffle=True, random_state=7)\n",
        "\n",
        "  model_xgb = XGBRegressor(**param)\n",
        "  model_xgb.fit(x_train, y_train,\n",
        "                eval_set=[(x_train, y_train), (x_val, y_val)],\n",
        "                early_stopping_rounds=100,\n",
        "                verbose=False)\n",
        "  #model_lgb = LGBMRegressor(**param)\n",
        "  #model_lgb.fit(x_train, y_train,\n",
        "  #            eval_set=[(x_train, y_train), (x_val, y_val)],\n",
        "  #             early_stopping_rounds=100,\n",
        "  #             verbose=False)\n",
        "\n",
        "\n",
        "  score_xgb = np.sqrt(mean_squared_error(model_xgb.predict(x_val), y_val))\n",
        "  #score_lgb = np.sqrt(mean_squared_error(model_lgb.predict(x_val), y_val))\n",
        "\n",
        "\n",
        "  return score_xgb"
      ],
      "metadata": {
        "id": "hIdm0wCKSQe_"
      },
      "execution_count": 187,
      "outputs": []
    },
    {
      "cell_type": "code",
      "source": [
        "#xgb\n",
        "study = optuna.create_study(direction='minimize', study_name='xgb_parameter_opt', sampler=TPESampler(seed=42))\n",
        "\n",
        "study.optimize(objective_model, n_trials = 10) #n_trial : 시도횟수 (Key interrupt가 있을때까지 무한반복)\n",
        "print('Best trial : score {}, \\nparams {}'.format(study.best_trial.value, study.best_trial.params))"
      ],
      "metadata": {
        "colab": {
          "base_uri": "https://localhost:8080/"
        },
        "id": "1OWTq74mUshJ",
        "outputId": "258a9cc9-d49e-4a7a-bc55-3ec946c11401"
      },
      "execution_count": 180,
      "outputs": [
        {
          "output_type": "stream",
          "name": "stderr",
          "text": [
            "[I 2023-06-28 07:16:15,656] A new study created in memory with name: xgb_parameter_opt\n",
            "[I 2023-06-28 07:16:18,401] Trial 0 finished with value: 55464.56862967252 and parameters: {'n_estimators': 1561, 'max_depth': 96, 'min_child_weight': 293, 'learning_rate': 0.5986588855385524, 'colsample_bytree': 0.5780093202212182, 'subsample': 0.40919616423534183}. Best is trial 0 with value: 55464.56862967252.\n",
            "[I 2023-06-28 07:16:18,967] Trial 1 finished with value: 51102.227843007815 and parameters: {'n_estimators': 326, 'max_depth': 88, 'min_child_weight': 241, 'learning_rate': 0.7080728697234677, 'colsample_bytree': 0.5102922471479012, 'subsample': 0.978936896513396}. Best is trial 1 with value: 51102.227843007815.\n",
            "[I 2023-06-28 07:16:19,362] Trial 2 finished with value: 49612.00700511192 and parameters: {'n_estimators': 3347, 'max_depth': 27, 'min_child_weight': 73, 'learning_rate': 0.18340532644892396, 'colsample_bytree': 0.6521211214797689, 'subsample': 0.6673295021425665}. Best is trial 2 with value: 49612.00700511192.\n",
            "[I 2023-06-28 07:16:19,839] Trial 3 finished with value: 54906.62685419639 and parameters: {'n_estimators': 1785, 'max_depth': 35, 'min_child_weight': 245, 'learning_rate': 0.13949472115818118, 'colsample_bytree': 0.6460723242676091, 'subsample': 0.5564532903055841}. Best is trial 2 with value: 49612.00700511192.\n",
            "[I 2023-06-28 07:16:20,118] Trial 4 finished with value: 50797.70069832147 and parameters: {'n_estimators': 1879, 'max_depth': 81, 'min_child_weight': 80, 'learning_rate': 0.5142349241791732, 'colsample_bytree': 0.7962072844310213, 'subsample': 0.3325152889039984}. Best is trial 2 with value: 49612.00700511192.\n",
            "[I 2023-06-28 07:16:20,384] Trial 5 finished with value: 49958.74408501323 and parameters: {'n_estimators': 2470, 'max_depth': 23, 'min_child_weight': 27, 'learning_rate': 0.948885588367796, 'colsample_bytree': 0.9828160165372797, 'subsample': 0.8658781436815228}. Best is trial 2 with value: 49612.00700511192.\n",
            "[I 2023-06-28 07:16:20,675] Trial 6 finished with value: 54893.98500561625 and parameters: {'n_estimators': 1288, 'max_depth': 17, 'min_child_weight': 274, 'learning_rate': 0.44015305358710755, 'colsample_bytree': 0.5610191174223894, 'subsample': 0.6466238370778892}. Best is trial 2 with value: 49612.00700511192.\n",
            "[I 2023-06-28 07:16:20,930] Trial 7 finished with value: 49396.994989460974 and parameters: {'n_estimators': 234, 'max_depth': 92, 'min_child_weight': 104, 'learning_rate': 0.6625226218316976, 'colsample_bytree': 0.6558555380447055, 'subsample': 0.6640476148244676}. Best is trial 7 with value: 49396.994989460974.\n",
            "[I 2023-06-28 07:16:21,156] Trial 8 finished with value: 54991.73745277476 and parameters: {'n_estimators': 2232, 'max_depth': 25, 'min_child_weight': 388, 'learning_rate': 0.7751330482282912, 'colsample_bytree': 0.9697494707820946, 'subsample': 0.9263791452993542}. Best is trial 7 with value: 49396.994989460974.\n",
            "[I 2023-06-28 07:16:21,674] Trial 9 finished with value: 49218.01318462665 and parameters: {'n_estimators': 2432, 'max_depth': 93, 'min_child_weight': 36, 'learning_rate': 0.1959836664362828, 'colsample_bytree': 0.522613644455269, 'subsample': 0.527731231534285}. Best is trial 9 with value: 49218.01318462665.\n"
          ]
        },
        {
          "output_type": "stream",
          "name": "stdout",
          "text": [
            "Best trial : score 49218.01318462665, \n",
            "params {'n_estimators': 2432, 'max_depth': 93, 'min_child_weight': 36, 'learning_rate': 0.1959836664362828, 'colsample_bytree': 0.522613644455269, 'subsample': 0.527731231534285}\n"
          ]
        }
      ]
    },
    {
      "cell_type": "code",
      "source": [
        "model_xgb = XGBRegressor(n_estimators=2432, max_depth=93, min_child_weight=36, learning_rate= 0.196, colsample_bytree=0.523, subsample = 0.528, random_state=10)\n",
        "model_xgb.fit(train, train_y)\n",
        "pred = model_xgb.predict(test)\n",
        "print('RMSE : ', np.sqrt(mean_squared_error(pred, test_y)))"
      ],
      "metadata": {
        "colab": {
          "base_uri": "https://localhost:8080/"
        },
        "id": "trBJDjFIg_sp",
        "outputId": "bfb54831-9f63-47bf-d904-c5dfd3fd5eab"
      },
      "execution_count": null,
      "outputs": [
        {
          "output_type": "stream",
          "name": "stdout",
          "text": [
            "RMSE :  51866.62998993694\n"
          ]
        }
      ]
    },
    {
      "cell_type": "code",
      "source": [
        "#lgbm\n",
        "study = optuna.create_study(direction='minimize', sampler=TPESampler(seed=42))\n",
        "\n",
        "study.optimize(objective_model, n_trials = 10) #n_trial : 시도횟수 (Key interrupt가 있을때까지 무한반복)\n",
        "print('Best trial : score {}, \\nparams {}'.format(study.best_trial.value, study.best_trial.params))"
      ],
      "metadata": {
        "id": "jbycc0u5b48Y",
        "colab": {
          "base_uri": "https://localhost:8080/"
        },
        "outputId": "0746808c-a06d-4158-e44d-72ac59109c4a"
      },
      "execution_count": 188,
      "outputs": [
        {
          "output_type": "stream",
          "name": "stderr",
          "text": [
            "[I 2023-06-28 07:23:39,086] A new study created in memory with name: no-name-b9a09335-30a5-46f5-bc63-6ea0488701bd\n",
            "[I 2023-06-28 07:23:39,130] Trial 0 finished with value: 51754.39927107615 and parameters: {'n_estimators': 1561, 'max_depth': 96, 'min_child_weight': 293, 'learning_rate': 0.5986588855385524, 'colsample_bytree': 0.5780093202212182, 'subsample': 0.40919616423534183}. Best is trial 0 with value: 51754.39927107615.\n",
            "[I 2023-06-28 07:23:39,170] Trial 1 finished with value: 51788.45790159661 and parameters: {'n_estimators': 326, 'max_depth': 88, 'min_child_weight': 241, 'learning_rate': 0.7080728697234677, 'colsample_bytree': 0.5102922471479012, 'subsample': 0.978936896513396}. Best is trial 0 with value: 51754.39927107615.\n",
            "[I 2023-06-28 07:23:39,303] Trial 2 finished with value: 49809.93356325557 and parameters: {'n_estimators': 3347, 'max_depth': 27, 'min_child_weight': 73, 'learning_rate': 0.18340532644892396, 'colsample_bytree': 0.6521211214797689, 'subsample': 0.6673295021425665}. Best is trial 2 with value: 49809.93356325557.\n",
            "[I 2023-06-28 07:23:39,360] Trial 3 finished with value: 51437.724694372744 and parameters: {'n_estimators': 1785, 'max_depth': 35, 'min_child_weight': 245, 'learning_rate': 0.13949472115818118, 'colsample_bytree': 0.6460723242676091, 'subsample': 0.5564532903055841}. Best is trial 2 with value: 49809.93356325557.\n",
            "[I 2023-06-28 07:23:39,428] Trial 4 finished with value: 49403.99955869161 and parameters: {'n_estimators': 1879, 'max_depth': 81, 'min_child_weight': 80, 'learning_rate': 0.5142349241791732, 'colsample_bytree': 0.7962072844310213, 'subsample': 0.3325152889039984}. Best is trial 4 with value: 49403.99955869161.\n",
            "[I 2023-06-28 07:23:39,498] Trial 5 finished with value: 49277.68582283878 and parameters: {'n_estimators': 2470, 'max_depth': 23, 'min_child_weight': 27, 'learning_rate': 0.948885588367796, 'colsample_bytree': 0.9828160165372797, 'subsample': 0.8658781436815228}. Best is trial 5 with value: 49277.68582283878.\n",
            "[I 2023-06-28 07:23:39,540] Trial 6 finished with value: 51777.04672520721 and parameters: {'n_estimators': 1288, 'max_depth': 17, 'min_child_weight': 274, 'learning_rate': 0.44015305358710755, 'colsample_bytree': 0.5610191174223894, 'subsample': 0.6466238370778892}. Best is trial 5 with value: 49277.68582283878.\n",
            "[I 2023-06-28 07:23:39,599] Trial 7 finished with value: 49986.089098852346 and parameters: {'n_estimators': 234, 'max_depth': 92, 'min_child_weight': 104, 'learning_rate': 0.6625226218316976, 'colsample_bytree': 0.6558555380447055, 'subsample': 0.6640476148244676}. Best is trial 5 with value: 49277.68582283878.\n",
            "[I 2023-06-28 07:23:39,655] Trial 8 finished with value: 55073.92406250869 and parameters: {'n_estimators': 2232, 'max_depth': 25, 'min_child_weight': 388, 'learning_rate': 0.7751330482282912, 'colsample_bytree': 0.9697494707820946, 'subsample': 0.9263791452993542}. Best is trial 5 with value: 49277.68582283878.\n",
            "[I 2023-06-28 07:23:39,717] Trial 9 finished with value: 49596.0387881051 and parameters: {'n_estimators': 2432, 'max_depth': 93, 'min_child_weight': 36, 'learning_rate': 0.1959836664362828, 'colsample_bytree': 0.522613644455269, 'subsample': 0.527731231534285}. Best is trial 5 with value: 49277.68582283878.\n"
          ]
        },
        {
          "output_type": "stream",
          "name": "stdout",
          "text": [
            "Best trial : score 49277.68582283878, \n",
            "params {'n_estimators': 2470, 'max_depth': 23, 'min_child_weight': 27, 'learning_rate': 0.948885588367796, 'colsample_bytree': 0.9828160165372797, 'subsample': 0.8658781436815228}\n"
          ]
        }
      ]
    },
    {
      "cell_type": "code",
      "source": [
        "model_lgb = LGBMRegressor(n_estimators=2470, max_depth=23, min_child_weight=27, learning_rate= 0.948885588367796, colsample_bytree=0.9828160165372797, subsample = 0.8658781436815228, random_state=14)\n",
        "model_lgb.fit(train, train_y)\n",
        "pred_2 = model_lgb.predict(test)\n",
        "print('RMSE : ', np.sqrt(mean_squared_error(pred_2, test_y)))"
      ],
      "metadata": {
        "colab": {
          "base_uri": "https://localhost:8080/"
        },
        "id": "1wNkozoB4Ga-",
        "outputId": "66395701-d900-411e-ffb5-051d8dee7f3b"
      },
      "execution_count": 189,
      "outputs": [
        {
          "output_type": "stream",
          "name": "stdout",
          "text": [
            "RMSE :  56174.02340976832\n"
          ]
        }
      ]
    },
    {
      "cell_type": "markdown",
      "source": [
        "lightgbm의 경우 데이터 셋이 작을 때 과적합의 위험이 존재한다. 실제로도 모델을 돌려봤을 때 검증데이터로 구해진 RMSE와 테스트 데이터로 구해진 RMSE값의 차이가 xgboost는 작으나, lightgbm은 큰 것을 볼 수 있다. 최종 모델로 xgboost를 선택하는 것이 타당한 것으로 보인다."
      ],
      "metadata": {
        "id": "eUdXWjdc47_0"
      }
    }
  ]
}