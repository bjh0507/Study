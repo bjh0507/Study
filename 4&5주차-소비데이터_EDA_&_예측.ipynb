{
  "nbformat": 4,
  "nbformat_minor": 0,
  "metadata": {
    "colab": {
      "provenance": []
    },
    "kernelspec": {
      "name": "python3",
      "display_name": "Python 3"
    },
    "language_info": {
      "name": "python"
    }
  },
  "cells": [
    {
      "cell_type": "code",
      "source": [
        "from google.colab import drive\n",
        "drive.mount('/content/drive')"
      ],
      "metadata": {
        "colab": {
          "base_uri": "https://localhost:8080/"
        },
        "id": "bL3UlEisBeoW",
        "outputId": "8192b5d2-b77e-491c-8349-2eb2e6d8cec7"
      },
      "execution_count": null,
      "outputs": [
        {
          "output_type": "stream",
          "name": "stdout",
          "text": [
            "Mounted at /content/drive\n"
          ]
        }
      ]
    },
    {
      "cell_type": "code",
      "execution_count": null,
      "metadata": {
        "colab": {
          "base_uri": "https://localhost:8080/"
        },
        "id": "80N_gi6WAP-W",
        "outputId": "fb95bd45-2463-4cc6-989c-00d14bf13b6e"
      },
      "outputs": [
        {
          "output_type": "stream",
          "name": "stdout",
          "text": [
            "Looking in indexes: https://pypi.org/simple, https://us-python.pkg.dev/colab-wheels/public/simple/\n",
            "Collecting folium==0.2.1\n",
            "  Downloading folium-0.2.1.tar.gz (69 kB)\n",
            "\u001b[K     |████████████████████████████████| 69 kB 3.7 MB/s \n",
            "\u001b[?25hRequirement already satisfied: Jinja2 in /usr/local/lib/python3.7/dist-packages (from folium==0.2.1) (2.11.3)\n",
            "Requirement already satisfied: MarkupSafe>=0.23 in /usr/local/lib/python3.7/dist-packages (from Jinja2->folium==0.2.1) (2.0.1)\n",
            "Building wheels for collected packages: folium\n",
            "  Building wheel for folium (setup.py) ... \u001b[?25l\u001b[?25hdone\n",
            "  Created wheel for folium: filename=folium-0.2.1-py3-none-any.whl size=79808 sha256=4abb9e4ee5af1ed76686b8208b226974e8bd6c195b72c98dd12baa7f16e464a7\n",
            "  Stored in directory: /root/.cache/pip/wheels/9a/f0/3a/3f79a6914ff5affaf50cabad60c9f4d565283283c97f0bdccf\n",
            "Successfully built folium\n",
            "Installing collected packages: folium\n",
            "  Attempting uninstall: folium\n",
            "    Found existing installation: folium 0.8.3\n",
            "    Uninstalling folium-0.8.3:\n",
            "      Successfully uninstalled folium-0.8.3\n",
            "Successfully installed folium-0.2.1\n",
            "Looking in indexes: https://pypi.org/simple, https://us-python.pkg.dev/colab-wheels/public/simple/\n",
            "Collecting markupsafe==2.1.1\n",
            "  Downloading MarkupSafe-2.1.1-cp37-cp37m-manylinux_2_17_x86_64.manylinux2014_x86_64.whl (25 kB)\n",
            "Installing collected packages: markupsafe\n",
            "  Attempting uninstall: markupsafe\n",
            "    Found existing installation: MarkupSafe 2.0.1\n",
            "    Uninstalling MarkupSafe-2.0.1:\n",
            "      Successfully uninstalled MarkupSafe-2.0.1\n",
            "Successfully installed markupsafe-2.1.1\n",
            "Looking in indexes: https://pypi.org/simple, https://us-python.pkg.dev/colab-wheels/public/simple/\n",
            "Requirement already satisfied: pandas-profiling in /usr/local/lib/python3.7/dist-packages (1.4.1)\n",
            "Collecting pandas-profiling\n",
            "  Downloading pandas_profiling-3.2.0-py2.py3-none-any.whl (262 kB)\n",
            "\u001b[K     |████████████████████████████████| 262 kB 5.0 MB/s \n",
            "\u001b[?25hCollecting phik>=0.11.1\n",
            "  Downloading phik-0.12.2-cp37-cp37m-manylinux_2_17_x86_64.manylinux2014_x86_64.whl (690 kB)\n",
            "\u001b[K     |████████████████████████████████| 690 kB 53.0 MB/s \n",
            "\u001b[?25hCollecting pydantic>=1.8.1\n",
            "  Downloading pydantic-1.9.1-cp37-cp37m-manylinux_2_17_x86_64.manylinux2014_x86_64.whl (11.1 MB)\n",
            "\u001b[K     |████████████████████████████████| 11.1 MB 46.0 MB/s \n",
            "\u001b[?25hCollecting multimethod>=1.4\n",
            "  Downloading multimethod-1.8-py3-none-any.whl (9.8 kB)\n",
            "Collecting htmlmin>=0.1.12\n",
            "  Downloading htmlmin-0.1.12.tar.gz (19 kB)\n",
            "Requirement already satisfied: matplotlib>=3.2.0 in /usr/local/lib/python3.7/dist-packages (from pandas-profiling) (3.2.2)\n",
            "Requirement already satisfied: joblib~=1.1.0 in /usr/local/lib/python3.7/dist-packages (from pandas-profiling) (1.1.0)\n",
            "Requirement already satisfied: tqdm>=4.48.2 in /usr/local/lib/python3.7/dist-packages (from pandas-profiling) (4.64.0)\n",
            "Requirement already satisfied: markupsafe~=2.1.1 in /usr/local/lib/python3.7/dist-packages (from pandas-profiling) (2.1.1)\n",
            "Collecting PyYAML>=5.0.0\n",
            "  Downloading PyYAML-6.0-cp37-cp37m-manylinux_2_5_x86_64.manylinux1_x86_64.manylinux_2_12_x86_64.manylinux2010_x86_64.whl (596 kB)\n",
            "\u001b[K     |████████████████████████████████| 596 kB 51.9 MB/s \n",
            "\u001b[?25hRequirement already satisfied: scipy>=1.4.1 in /usr/local/lib/python3.7/dist-packages (from pandas-profiling) (1.4.1)\n",
            "Requirement already satisfied: numpy>=1.16.0 in /usr/local/lib/python3.7/dist-packages (from pandas-profiling) (1.21.6)\n",
            "Collecting requests>=2.24.0\n",
            "  Downloading requests-2.27.1-py2.py3-none-any.whl (63 kB)\n",
            "\u001b[K     |████████████████████████████████| 63 kB 1.7 MB/s \n",
            "\u001b[?25hRequirement already satisfied: seaborn>=0.10.1 in /usr/local/lib/python3.7/dist-packages (from pandas-profiling) (0.11.2)\n",
            "Requirement already satisfied: jinja2>=2.11.1 in /usr/local/lib/python3.7/dist-packages (from pandas-profiling) (2.11.3)\n",
            "Requirement already satisfied: pandas!=1.0.0,!=1.0.1,!=1.0.2,!=1.1.0,>=0.25.3 in /usr/local/lib/python3.7/dist-packages (from pandas-profiling) (1.3.5)\n",
            "Requirement already satisfied: missingno>=0.4.2 in /usr/local/lib/python3.7/dist-packages (from pandas-profiling) (0.5.1)\n",
            "Collecting visions[type_image_path]==0.7.4\n",
            "  Downloading visions-0.7.4-py3-none-any.whl (102 kB)\n",
            "\u001b[K     |████████████████████████████████| 102 kB 13.0 MB/s \n",
            "\u001b[?25hCollecting tangled-up-in-unicode==0.2.0\n",
            "  Downloading tangled_up_in_unicode-0.2.0-py3-none-any.whl (4.7 MB)\n",
            "\u001b[K     |████████████████████████████████| 4.7 MB 40.2 MB/s \n",
            "\u001b[?25hRequirement already satisfied: networkx>=2.4 in /usr/local/lib/python3.7/dist-packages (from visions[type_image_path]==0.7.4->pandas-profiling) (2.6.3)\n",
            "Requirement already satisfied: attrs>=19.3.0 in /usr/local/lib/python3.7/dist-packages (from visions[type_image_path]==0.7.4->pandas-profiling) (21.4.0)\n",
            "Requirement already satisfied: Pillow in /usr/local/lib/python3.7/dist-packages (from visions[type_image_path]==0.7.4->pandas-profiling) (7.1.2)\n",
            "Collecting imagehash\n",
            "  Downloading ImageHash-4.2.1.tar.gz (812 kB)\n",
            "\u001b[K     |████████████████████████████████| 812 kB 60.8 MB/s \n",
            "\u001b[?25hRequirement already satisfied: pyparsing!=2.0.4,!=2.1.2,!=2.1.6,>=2.0.1 in /usr/local/lib/python3.7/dist-packages (from matplotlib>=3.2.0->pandas-profiling) (3.0.9)\n",
            "Requirement already satisfied: cycler>=0.10 in /usr/local/lib/python3.7/dist-packages (from matplotlib>=3.2.0->pandas-profiling) (0.11.0)\n",
            "Requirement already satisfied: kiwisolver>=1.0.1 in /usr/local/lib/python3.7/dist-packages (from matplotlib>=3.2.0->pandas-profiling) (1.4.2)\n",
            "Requirement already satisfied: python-dateutil>=2.1 in /usr/local/lib/python3.7/dist-packages (from matplotlib>=3.2.0->pandas-profiling) (2.8.2)\n",
            "Requirement already satisfied: typing-extensions in /usr/local/lib/python3.7/dist-packages (from kiwisolver>=1.0.1->matplotlib>=3.2.0->pandas-profiling) (4.2.0)\n",
            "Requirement already satisfied: pytz>=2017.3 in /usr/local/lib/python3.7/dist-packages (from pandas!=1.0.0,!=1.0.1,!=1.0.2,!=1.1.0,>=0.25.3->pandas-profiling) (2022.1)\n",
            "Collecting scipy>=1.4.1\n",
            "  Downloading scipy-1.7.3-cp37-cp37m-manylinux_2_12_x86_64.manylinux2010_x86_64.whl (38.1 MB)\n",
            "\u001b[K     |████████████████████████████████| 38.1 MB 1.2 MB/s \n",
            "\u001b[?25hRequirement already satisfied: six>=1.5 in /usr/local/lib/python3.7/dist-packages (from python-dateutil>=2.1->matplotlib>=3.2.0->pandas-profiling) (1.15.0)\n",
            "Requirement already satisfied: charset-normalizer~=2.0.0 in /usr/local/lib/python3.7/dist-packages (from requests>=2.24.0->pandas-profiling) (2.0.12)\n",
            "Requirement already satisfied: urllib3<1.27,>=1.21.1 in /usr/local/lib/python3.7/dist-packages (from requests>=2.24.0->pandas-profiling) (1.24.3)\n",
            "Requirement already satisfied: idna<4,>=2.5 in /usr/local/lib/python3.7/dist-packages (from requests>=2.24.0->pandas-profiling) (2.10)\n",
            "Requirement already satisfied: certifi>=2017.4.17 in /usr/local/lib/python3.7/dist-packages (from requests>=2.24.0->pandas-profiling) (2022.5.18.1)\n",
            "Requirement already satisfied: PyWavelets in /usr/local/lib/python3.7/dist-packages (from imagehash->visions[type_image_path]==0.7.4->pandas-profiling) (1.3.0)\n",
            "Building wheels for collected packages: htmlmin, imagehash\n",
            "  Building wheel for htmlmin (setup.py) ... \u001b[?25l\u001b[?25hdone\n",
            "  Created wheel for htmlmin: filename=htmlmin-0.1.12-py3-none-any.whl size=27098 sha256=bb081a7939e1525315b0a81763319296305c8a64d9acc4bd1639d89a59694668\n",
            "  Stored in directory: /root/.cache/pip/wheels/70/e1/52/5b14d250ba868768823940c3229e9950d201a26d0bd3ee8655\n",
            "  Building wheel for imagehash (setup.py) ... \u001b[?25l\u001b[?25hdone\n",
            "  Created wheel for imagehash: filename=ImageHash-4.2.1-py2.py3-none-any.whl size=295206 sha256=5db4f0a69ecd25d6c4ad0fc4cc1dda176208aa832f98b02f671e1acf9c94f830\n",
            "  Stored in directory: /root/.cache/pip/wheels/4c/d5/59/5e3e297533ddb09407769762985d134135064c6831e29a914e\n",
            "Successfully built htmlmin imagehash\n",
            "Installing collected packages: tangled-up-in-unicode, scipy, multimethod, visions, imagehash, requests, PyYAML, pydantic, phik, htmlmin, pandas-profiling\n",
            "  Attempting uninstall: scipy\n",
            "    Found existing installation: scipy 1.4.1\n",
            "    Uninstalling scipy-1.4.1:\n",
            "      Successfully uninstalled scipy-1.4.1\n",
            "  Attempting uninstall: requests\n",
            "    Found existing installation: requests 2.23.0\n",
            "    Uninstalling requests-2.23.0:\n",
            "      Successfully uninstalled requests-2.23.0\n",
            "  Attempting uninstall: PyYAML\n",
            "    Found existing installation: PyYAML 3.13\n",
            "    Uninstalling PyYAML-3.13:\n",
            "      Successfully uninstalled PyYAML-3.13\n",
            "  Attempting uninstall: pandas-profiling\n",
            "    Found existing installation: pandas-profiling 1.4.1\n",
            "    Uninstalling pandas-profiling-1.4.1:\n",
            "      Successfully uninstalled pandas-profiling-1.4.1\n",
            "\u001b[31mERROR: pip's dependency resolver does not currently take into account all the packages that are installed. This behaviour is the source of the following dependency conflicts.\n",
            "google-colab 1.0.0 requires requests~=2.23.0, but you have requests 2.27.1 which is incompatible.\n",
            "albumentations 0.1.12 requires imgaug<0.2.7,>=0.2.5, but you have imgaug 0.2.9 which is incompatible.\u001b[0m\n",
            "Successfully installed PyYAML-6.0 htmlmin-0.1.12 imagehash-4.2.1 multimethod-1.8 pandas-profiling-3.2.0 phik-0.12.2 pydantic-1.9.1 requests-2.27.1 scipy-1.7.3 tangled-up-in-unicode-0.2.0 visions-0.7.4\n"
          ]
        }
      ],
      "source": [
        "!pip install folium==0.2.1\n",
        "!pip install markupsafe==2.1.1\n",
        "!pip install -U pandas-profiling"
      ]
    },
    {
      "cell_type": "code",
      "source": [
        "import numpy as np\n",
        "import pandas as pd\n",
        "import matplotlib\n",
        "import matplotlib.pyplot as plt\n",
        "import sklearn\n",
        "import seaborn as sns\n",
        "import random as rn\n",
        "import os\n",
        "import scipy.stats as stats\n",
        "import datetime\n",
        "import calendar\n",
        "\n",
        "from sklearn.preprocessing import PowerTransformer\n",
        "from sklearn.preprocessing import LabelEncoder\n",
        "from sklearn.model_selection import train_test_split\n",
        "\n",
        "from sklearn.model_selection import GridSearchCV, cross_val_score, RepeatedKFold\n",
        "from sklearn import metrics\n",
        "\n",
        "from sklearn.linear_model import ElasticNet\n",
        "from xgboost import XGBRegressor\n",
        "from lightgbm import LGBMRegressor\n",
        "\n",
        "from collections import Counter\n",
        "import warnings\n",
        "\n",
        "%matplotlib inline\n",
        "warnings.filterwarnings(action='ignore')"
      ],
      "metadata": {
        "id": "Vmlz3CkFAW1Q"
      },
      "execution_count": null,
      "outputs": []
    },
    {
      "cell_type": "code",
      "source": [
        "2. EDA | Exploratory Data Analysis\n",
        "id : 샘플 아이디 | Year_Birth : 고객 생년월일 | Education : 고객 학력\n",
        "Marital_status : 고객 결혼 상태 | Income : 고객 연간 가구 소득 |\n",
        "Kidhome : 고객 가구의 자녀 수 | Teenhome : 고객 가구의 청소년 수 | Dt_Customer : 고객이 회사에 등록한 날짜\n",
        "Recency : 고객의 마지막 구매 이후 일수 | NumDealsPurchases : 할인된 구매 횟수 | NumWebPurchases : 회사 웹사이트를 통한 구매 건수\n",
        "NumCatalogPurchases : 카탈로그를 사용한 구매 수 | NumStorePuchases : 매장에서 직접 구매한 횟수\n",
        "NumWebVisitsMonth : 지난 달 회사 웹사이트 방문 횟수\n",
        "AcceptedCmp(1-5) : 고객이 (1-5) 번째 캠페인에서 제안을 수락한 경우 1, 그렇지 않은 경우 0\n",
        "Complain : 고객이 지난 2년 동안 불만을 제기한 경우 1, 그렇지 않은 경우 0\n",
        "Response : 고객이 마지막 캠페인에서 제안을 수락한 경우 1, 그렇지 않은 경우 0\n",
        "target : 고객의 제품 총 소비량"
      ],
      "metadata": {
        "id": "qkA0Cf8NAkPK",
        "colab": {
          "base_uri": "https://localhost:8080/",
          "height": 138
        },
        "outputId": "1d79da29-b9b6-4b5a-af7a-e0e2cfe3422f"
      },
      "execution_count": null,
      "outputs": [
        {
          "output_type": "error",
          "ename": "SyntaxError",
          "evalue": "ignored",
          "traceback": [
            "\u001b[0;36m  File \u001b[0;32m\"<ipython-input-4-34227540eeee>\"\u001b[0;36m, line \u001b[0;32m1\u001b[0m\n\u001b[0;31m    2. EDA | Exploratory Data Analysis\u001b[0m\n\u001b[0m         ^\u001b[0m\n\u001b[0;31mSyntaxError\u001b[0m\u001b[0;31m:\u001b[0m invalid syntax\n"
          ]
        }
      ]
    },
    {
      "cell_type": "code",
      "source": [
        "train = pd.read_csv('/content/train.csv')\n",
        "test = pd.read_csv('/content/test.csv')"
      ],
      "metadata": {
        "id": "M91il4voC4NB"
      },
      "execution_count": null,
      "outputs": []
    },
    {
      "cell_type": "code",
      "source": [
        "train.head(10)"
      ],
      "metadata": {
        "colab": {
          "base_uri": "https://localhost:8080/",
          "height": 456
        },
        "id": "dNYuAjnkDRsR",
        "outputId": "9c27986c-b4ff-4bbc-b607-f950d1e18378"
      },
      "execution_count": null,
      "outputs": [
        {
          "output_type": "execute_result",
          "data": {
            "text/plain": [
              "   id  Year_Birth   Education Marital_Status   Income  Kidhome  Teenhome  \\\n",
              "0   0        1974      Master       Together  46014.0        1         1   \n",
              "1   1        1962  Graduation         Single  76624.0        0         1   \n",
              "2   2        1951  Graduation        Married  75903.0        0         1   \n",
              "3   3        1974       Basic        Married  18393.0        1         0   \n",
              "4   4        1946         PhD       Together  64014.0        2         1   \n",
              "5   5        1952  Graduation         Single  47958.0        0         1   \n",
              "6   6        1971  Graduation         Single  22804.0        1         0   \n",
              "7   7        1978  Graduation          Widow  54162.0        1         1   \n",
              "8   8        1968  Graduation        Married  45688.0        0         1   \n",
              "9   9        1952  Graduation         Single  61823.0        0         1   \n",
              "\n",
              "  Dt_Customer  Recency  NumDealsPurchases  ...  NumStorePurchases  \\\n",
              "0  21-01-2013       21                 10  ...                  8   \n",
              "1  24-05-2014       68                  1  ...                  7   \n",
              "2  08-04-2013       50                  2  ...                  9   \n",
              "3  29-03-2014        2                  2  ...                  3   \n",
              "4  10-06-2014       56                  7  ...                  5   \n",
              "5  19-01-2013        8                  2  ...                  5   \n",
              "6  31-07-2013       75                  1  ...                  2   \n",
              "7  18-03-2013       31                  1  ...                  3   \n",
              "8  25-01-2014       20                  2  ...                  8   \n",
              "9  18-02-2013       26                  4  ...                 10   \n",
              "\n",
              "   NumWebVisitsMonth  AcceptedCmp3  AcceptedCmp4  AcceptedCmp5  AcceptedCmp1  \\\n",
              "0                  7             0             0             0             0   \n",
              "1                  1             1             0             0             0   \n",
              "2                  3             0             0             0             0   \n",
              "3                  8             0             0             0             0   \n",
              "4                  7             0             0             0             1   \n",
              "5                  5             0             0             0             0   \n",
              "6                  9             0             0             0             0   \n",
              "7                  4             0             0             0             0   \n",
              "8                  4             0             1             0             0   \n",
              "9                  7             0             0             0             0   \n",
              "\n",
              "   AcceptedCmp2  Complain  Response  target  \n",
              "0             0         0         0     541  \n",
              "1             0         0         0     899  \n",
              "2             0         0         0     901  \n",
              "3             0         0         0      50  \n",
              "4             0         0         0     444  \n",
              "5             0         0         0     407  \n",
              "6             0         0         0      26  \n",
              "7             0         0         0      42  \n",
              "8             0         0         0     306  \n",
              "9             0         0         0     884  \n",
              "\n",
              "[10 rows x 22 columns]"
            ],
            "text/html": [
              "\n",
              "  <div id=\"df-df8bb3dc-f5da-4fca-8e7d-d7a21b4977f2\">\n",
              "    <div class=\"colab-df-container\">\n",
              "      <div>\n",
              "<style scoped>\n",
              "    .dataframe tbody tr th:only-of-type {\n",
              "        vertical-align: middle;\n",
              "    }\n",
              "\n",
              "    .dataframe tbody tr th {\n",
              "        vertical-align: top;\n",
              "    }\n",
              "\n",
              "    .dataframe thead th {\n",
              "        text-align: right;\n",
              "    }\n",
              "</style>\n",
              "<table border=\"1\" class=\"dataframe\">\n",
              "  <thead>\n",
              "    <tr style=\"text-align: right;\">\n",
              "      <th></th>\n",
              "      <th>id</th>\n",
              "      <th>Year_Birth</th>\n",
              "      <th>Education</th>\n",
              "      <th>Marital_Status</th>\n",
              "      <th>Income</th>\n",
              "      <th>Kidhome</th>\n",
              "      <th>Teenhome</th>\n",
              "      <th>Dt_Customer</th>\n",
              "      <th>Recency</th>\n",
              "      <th>NumDealsPurchases</th>\n",
              "      <th>...</th>\n",
              "      <th>NumStorePurchases</th>\n",
              "      <th>NumWebVisitsMonth</th>\n",
              "      <th>AcceptedCmp3</th>\n",
              "      <th>AcceptedCmp4</th>\n",
              "      <th>AcceptedCmp5</th>\n",
              "      <th>AcceptedCmp1</th>\n",
              "      <th>AcceptedCmp2</th>\n",
              "      <th>Complain</th>\n",
              "      <th>Response</th>\n",
              "      <th>target</th>\n",
              "    </tr>\n",
              "  </thead>\n",
              "  <tbody>\n",
              "    <tr>\n",
              "      <th>0</th>\n",
              "      <td>0</td>\n",
              "      <td>1974</td>\n",
              "      <td>Master</td>\n",
              "      <td>Together</td>\n",
              "      <td>46014.0</td>\n",
              "      <td>1</td>\n",
              "      <td>1</td>\n",
              "      <td>21-01-2013</td>\n",
              "      <td>21</td>\n",
              "      <td>10</td>\n",
              "      <td>...</td>\n",
              "      <td>8</td>\n",
              "      <td>7</td>\n",
              "      <td>0</td>\n",
              "      <td>0</td>\n",
              "      <td>0</td>\n",
              "      <td>0</td>\n",
              "      <td>0</td>\n",
              "      <td>0</td>\n",
              "      <td>0</td>\n",
              "      <td>541</td>\n",
              "    </tr>\n",
              "    <tr>\n",
              "      <th>1</th>\n",
              "      <td>1</td>\n",
              "      <td>1962</td>\n",
              "      <td>Graduation</td>\n",
              "      <td>Single</td>\n",
              "      <td>76624.0</td>\n",
              "      <td>0</td>\n",
              "      <td>1</td>\n",
              "      <td>24-05-2014</td>\n",
              "      <td>68</td>\n",
              "      <td>1</td>\n",
              "      <td>...</td>\n",
              "      <td>7</td>\n",
              "      <td>1</td>\n",
              "      <td>1</td>\n",
              "      <td>0</td>\n",
              "      <td>0</td>\n",
              "      <td>0</td>\n",
              "      <td>0</td>\n",
              "      <td>0</td>\n",
              "      <td>0</td>\n",
              "      <td>899</td>\n",
              "    </tr>\n",
              "    <tr>\n",
              "      <th>2</th>\n",
              "      <td>2</td>\n",
              "      <td>1951</td>\n",
              "      <td>Graduation</td>\n",
              "      <td>Married</td>\n",
              "      <td>75903.0</td>\n",
              "      <td>0</td>\n",
              "      <td>1</td>\n",
              "      <td>08-04-2013</td>\n",
              "      <td>50</td>\n",
              "      <td>2</td>\n",
              "      <td>...</td>\n",
              "      <td>9</td>\n",
              "      <td>3</td>\n",
              "      <td>0</td>\n",
              "      <td>0</td>\n",
              "      <td>0</td>\n",
              "      <td>0</td>\n",
              "      <td>0</td>\n",
              "      <td>0</td>\n",
              "      <td>0</td>\n",
              "      <td>901</td>\n",
              "    </tr>\n",
              "    <tr>\n",
              "      <th>3</th>\n",
              "      <td>3</td>\n",
              "      <td>1974</td>\n",
              "      <td>Basic</td>\n",
              "      <td>Married</td>\n",
              "      <td>18393.0</td>\n",
              "      <td>1</td>\n",
              "      <td>0</td>\n",
              "      <td>29-03-2014</td>\n",
              "      <td>2</td>\n",
              "      <td>2</td>\n",
              "      <td>...</td>\n",
              "      <td>3</td>\n",
              "      <td>8</td>\n",
              "      <td>0</td>\n",
              "      <td>0</td>\n",
              "      <td>0</td>\n",
              "      <td>0</td>\n",
              "      <td>0</td>\n",
              "      <td>0</td>\n",
              "      <td>0</td>\n",
              "      <td>50</td>\n",
              "    </tr>\n",
              "    <tr>\n",
              "      <th>4</th>\n",
              "      <td>4</td>\n",
              "      <td>1946</td>\n",
              "      <td>PhD</td>\n",
              "      <td>Together</td>\n",
              "      <td>64014.0</td>\n",
              "      <td>2</td>\n",
              "      <td>1</td>\n",
              "      <td>10-06-2014</td>\n",
              "      <td>56</td>\n",
              "      <td>7</td>\n",
              "      <td>...</td>\n",
              "      <td>5</td>\n",
              "      <td>7</td>\n",
              "      <td>0</td>\n",
              "      <td>0</td>\n",
              "      <td>0</td>\n",
              "      <td>1</td>\n",
              "      <td>0</td>\n",
              "      <td>0</td>\n",
              "      <td>0</td>\n",
              "      <td>444</td>\n",
              "    </tr>\n",
              "    <tr>\n",
              "      <th>5</th>\n",
              "      <td>5</td>\n",
              "      <td>1952</td>\n",
              "      <td>Graduation</td>\n",
              "      <td>Single</td>\n",
              "      <td>47958.0</td>\n",
              "      <td>0</td>\n",
              "      <td>1</td>\n",
              "      <td>19-01-2013</td>\n",
              "      <td>8</td>\n",
              "      <td>2</td>\n",
              "      <td>...</td>\n",
              "      <td>5</td>\n",
              "      <td>5</td>\n",
              "      <td>0</td>\n",
              "      <td>0</td>\n",
              "      <td>0</td>\n",
              "      <td>0</td>\n",
              "      <td>0</td>\n",
              "      <td>0</td>\n",
              "      <td>0</td>\n",
              "      <td>407</td>\n",
              "    </tr>\n",
              "    <tr>\n",
              "      <th>6</th>\n",
              "      <td>6</td>\n",
              "      <td>1971</td>\n",
              "      <td>Graduation</td>\n",
              "      <td>Single</td>\n",
              "      <td>22804.0</td>\n",
              "      <td>1</td>\n",
              "      <td>0</td>\n",
              "      <td>31-07-2013</td>\n",
              "      <td>75</td>\n",
              "      <td>1</td>\n",
              "      <td>...</td>\n",
              "      <td>2</td>\n",
              "      <td>9</td>\n",
              "      <td>0</td>\n",
              "      <td>0</td>\n",
              "      <td>0</td>\n",
              "      <td>0</td>\n",
              "      <td>0</td>\n",
              "      <td>0</td>\n",
              "      <td>0</td>\n",
              "      <td>26</td>\n",
              "    </tr>\n",
              "    <tr>\n",
              "      <th>7</th>\n",
              "      <td>7</td>\n",
              "      <td>1978</td>\n",
              "      <td>Graduation</td>\n",
              "      <td>Widow</td>\n",
              "      <td>54162.0</td>\n",
              "      <td>1</td>\n",
              "      <td>1</td>\n",
              "      <td>18-03-2013</td>\n",
              "      <td>31</td>\n",
              "      <td>1</td>\n",
              "      <td>...</td>\n",
              "      <td>3</td>\n",
              "      <td>4</td>\n",
              "      <td>0</td>\n",
              "      <td>0</td>\n",
              "      <td>0</td>\n",
              "      <td>0</td>\n",
              "      <td>0</td>\n",
              "      <td>0</td>\n",
              "      <td>0</td>\n",
              "      <td>42</td>\n",
              "    </tr>\n",
              "    <tr>\n",
              "      <th>8</th>\n",
              "      <td>8</td>\n",
              "      <td>1968</td>\n",
              "      <td>Graduation</td>\n",
              "      <td>Married</td>\n",
              "      <td>45688.0</td>\n",
              "      <td>0</td>\n",
              "      <td>1</td>\n",
              "      <td>25-01-2014</td>\n",
              "      <td>20</td>\n",
              "      <td>2</td>\n",
              "      <td>...</td>\n",
              "      <td>8</td>\n",
              "      <td>4</td>\n",
              "      <td>0</td>\n",
              "      <td>1</td>\n",
              "      <td>0</td>\n",
              "      <td>0</td>\n",
              "      <td>0</td>\n",
              "      <td>0</td>\n",
              "      <td>0</td>\n",
              "      <td>306</td>\n",
              "    </tr>\n",
              "    <tr>\n",
              "      <th>9</th>\n",
              "      <td>9</td>\n",
              "      <td>1952</td>\n",
              "      <td>Graduation</td>\n",
              "      <td>Single</td>\n",
              "      <td>61823.0</td>\n",
              "      <td>0</td>\n",
              "      <td>1</td>\n",
              "      <td>18-02-2013</td>\n",
              "      <td>26</td>\n",
              "      <td>4</td>\n",
              "      <td>...</td>\n",
              "      <td>10</td>\n",
              "      <td>7</td>\n",
              "      <td>0</td>\n",
              "      <td>0</td>\n",
              "      <td>0</td>\n",
              "      <td>0</td>\n",
              "      <td>0</td>\n",
              "      <td>0</td>\n",
              "      <td>0</td>\n",
              "      <td>884</td>\n",
              "    </tr>\n",
              "  </tbody>\n",
              "</table>\n",
              "<p>10 rows × 22 columns</p>\n",
              "</div>\n",
              "      <button class=\"colab-df-convert\" onclick=\"convertToInteractive('df-df8bb3dc-f5da-4fca-8e7d-d7a21b4977f2')\"\n",
              "              title=\"Convert this dataframe to an interactive table.\"\n",
              "              style=\"display:none;\">\n",
              "        \n",
              "  <svg xmlns=\"http://www.w3.org/2000/svg\" height=\"24px\"viewBox=\"0 0 24 24\"\n",
              "       width=\"24px\">\n",
              "    <path d=\"M0 0h24v24H0V0z\" fill=\"none\"/>\n",
              "    <path d=\"M18.56 5.44l.94 2.06.94-2.06 2.06-.94-2.06-.94-.94-2.06-.94 2.06-2.06.94zm-11 1L8.5 8.5l.94-2.06 2.06-.94-2.06-.94L8.5 2.5l-.94 2.06-2.06.94zm10 10l.94 2.06.94-2.06 2.06-.94-2.06-.94-.94-2.06-.94 2.06-2.06.94z\"/><path d=\"M17.41 7.96l-1.37-1.37c-.4-.4-.92-.59-1.43-.59-.52 0-1.04.2-1.43.59L10.3 9.45l-7.72 7.72c-.78.78-.78 2.05 0 2.83L4 21.41c.39.39.9.59 1.41.59.51 0 1.02-.2 1.41-.59l7.78-7.78 2.81-2.81c.8-.78.8-2.07 0-2.86zM5.41 20L4 18.59l7.72-7.72 1.47 1.35L5.41 20z\"/>\n",
              "  </svg>\n",
              "      </button>\n",
              "      \n",
              "  <style>\n",
              "    .colab-df-container {\n",
              "      display:flex;\n",
              "      flex-wrap:wrap;\n",
              "      gap: 12px;\n",
              "    }\n",
              "\n",
              "    .colab-df-convert {\n",
              "      background-color: #E8F0FE;\n",
              "      border: none;\n",
              "      border-radius: 50%;\n",
              "      cursor: pointer;\n",
              "      display: none;\n",
              "      fill: #1967D2;\n",
              "      height: 32px;\n",
              "      padding: 0 0 0 0;\n",
              "      width: 32px;\n",
              "    }\n",
              "\n",
              "    .colab-df-convert:hover {\n",
              "      background-color: #E2EBFA;\n",
              "      box-shadow: 0px 1px 2px rgba(60, 64, 67, 0.3), 0px 1px 3px 1px rgba(60, 64, 67, 0.15);\n",
              "      fill: #174EA6;\n",
              "    }\n",
              "\n",
              "    [theme=dark] .colab-df-convert {\n",
              "      background-color: #3B4455;\n",
              "      fill: #D2E3FC;\n",
              "    }\n",
              "\n",
              "    [theme=dark] .colab-df-convert:hover {\n",
              "      background-color: #434B5C;\n",
              "      box-shadow: 0px 1px 3px 1px rgba(0, 0, 0, 0.15);\n",
              "      filter: drop-shadow(0px 1px 2px rgba(0, 0, 0, 0.3));\n",
              "      fill: #FFFFFF;\n",
              "    }\n",
              "  </style>\n",
              "\n",
              "      <script>\n",
              "        const buttonEl =\n",
              "          document.querySelector('#df-df8bb3dc-f5da-4fca-8e7d-d7a21b4977f2 button.colab-df-convert');\n",
              "        buttonEl.style.display =\n",
              "          google.colab.kernel.accessAllowed ? 'block' : 'none';\n",
              "\n",
              "        async function convertToInteractive(key) {\n",
              "          const element = document.querySelector('#df-df8bb3dc-f5da-4fca-8e7d-d7a21b4977f2');\n",
              "          const dataTable =\n",
              "            await google.colab.kernel.invokeFunction('convertToInteractive',\n",
              "                                                     [key], {});\n",
              "          if (!dataTable) return;\n",
              "\n",
              "          const docLinkHtml = 'Like what you see? Visit the ' +\n",
              "            '<a target=\"_blank\" href=https://colab.research.google.com/notebooks/data_table.ipynb>data table notebook</a>'\n",
              "            + ' to learn more about interactive tables.';\n",
              "          element.innerHTML = '';\n",
              "          dataTable['output_type'] = 'display_data';\n",
              "          await google.colab.output.renderOutput(dataTable, element);\n",
              "          const docLink = document.createElement('div');\n",
              "          docLink.innerHTML = docLinkHtml;\n",
              "          element.appendChild(docLink);\n",
              "        }\n",
              "      </script>\n",
              "    </div>\n",
              "  </div>\n",
              "  "
            ]
          },
          "metadata": {},
          "execution_count": 71
        }
      ]
    },
    {
      "cell_type": "code",
      "source": [
        "test.head(10)"
      ],
      "metadata": {
        "colab": {
          "base_uri": "https://localhost:8080/",
          "height": 456
        },
        "id": "14l5dOxHDTLY",
        "outputId": "126b1040-a928-4404-ac99-4f2946998d65"
      },
      "execution_count": null,
      "outputs": [
        {
          "output_type": "execute_result",
          "data": {
            "text/plain": [
              "   id  Year_Birth   Education Marital_Status   Income  Kidhome  Teenhome  \\\n",
              "0   0        1979  Graduation         Single  57537.0        1         0   \n",
              "1   1        1955  Graduation       Together  65748.0        0         1   \n",
              "2   2        1984  Graduation        Married  55434.0        1         0   \n",
              "3   3        1960  Graduation        Married  67716.0        0         1   \n",
              "4   4        1976  Graduation       Together  85606.0        0         1   \n",
              "5   5        1975  Graduation          Widow  58330.0        0         1   \n",
              "6   6        1973  Graduation        Married  31814.0        1         0   \n",
              "7   7        1957  Graduation         Single  58138.0        0         0   \n",
              "8   8        1977  Graduation        Married  72117.0        0         1   \n",
              "9   9        1975      Master       Together  17459.0        1         0   \n",
              "\n",
              "  Dt_Customer  Recency  NumDealsPurchases  ...  NumCatalogPurchases  \\\n",
              "0  10-06-2013       83                  4  ...                    3   \n",
              "1  15-04-2013       58                  2  ...                    4   \n",
              "2  05-10-2013       21                  3  ...                    3   \n",
              "3  10-01-2013        8                  4  ...                    4   \n",
              "4  12-11-2012       89                  2  ...                    7   \n",
              "5  25-12-2013       87                  1  ...                    4   \n",
              "6  09-02-2013       73                  2  ...                    0   \n",
              "7  04-09-2012       58                  3  ...                   10   \n",
              "8  20-08-2013       34                  1  ...                    7   \n",
              "9  19-09-2013       12                  3  ...                    1   \n",
              "\n",
              "   NumStorePurchases  NumWebVisitsMonth  AcceptedCmp3  AcceptedCmp4  \\\n",
              "0                  8                  4             0             0   \n",
              "1                 10                  1             0             0   \n",
              "2                 13                  4             0             0   \n",
              "3                 13                  5             0             1   \n",
              "4                  9                  3             0             0   \n",
              "5                 13                  4             0             0   \n",
              "6                  3                  9             1             0   \n",
              "7                  4                  7             0             0   \n",
              "8                  9                  5             0             0   \n",
              "9                  2                  7             0             0   \n",
              "\n",
              "   AcceptedCmp5  AcceptedCmp1  AcceptedCmp2  Complain  Response  \n",
              "0             0             0             0         0         0  \n",
              "1             0             0             0         1         0  \n",
              "2             0             0             0         0         0  \n",
              "3             0             0             0         0         0  \n",
              "4             0             1             0         0         0  \n",
              "5             0             0             0         0         0  \n",
              "6             0             0             0         0         0  \n",
              "7             0             0             0         0         1  \n",
              "8             0             0             0         0         0  \n",
              "9             0             0             0         0         1  \n",
              "\n",
              "[10 rows x 21 columns]"
            ],
            "text/html": [
              "\n",
              "  <div id=\"df-f065e7b0-6bbc-4274-9aba-54497bfaf210\">\n",
              "    <div class=\"colab-df-container\">\n",
              "      <div>\n",
              "<style scoped>\n",
              "    .dataframe tbody tr th:only-of-type {\n",
              "        vertical-align: middle;\n",
              "    }\n",
              "\n",
              "    .dataframe tbody tr th {\n",
              "        vertical-align: top;\n",
              "    }\n",
              "\n",
              "    .dataframe thead th {\n",
              "        text-align: right;\n",
              "    }\n",
              "</style>\n",
              "<table border=\"1\" class=\"dataframe\">\n",
              "  <thead>\n",
              "    <tr style=\"text-align: right;\">\n",
              "      <th></th>\n",
              "      <th>id</th>\n",
              "      <th>Year_Birth</th>\n",
              "      <th>Education</th>\n",
              "      <th>Marital_Status</th>\n",
              "      <th>Income</th>\n",
              "      <th>Kidhome</th>\n",
              "      <th>Teenhome</th>\n",
              "      <th>Dt_Customer</th>\n",
              "      <th>Recency</th>\n",
              "      <th>NumDealsPurchases</th>\n",
              "      <th>...</th>\n",
              "      <th>NumCatalogPurchases</th>\n",
              "      <th>NumStorePurchases</th>\n",
              "      <th>NumWebVisitsMonth</th>\n",
              "      <th>AcceptedCmp3</th>\n",
              "      <th>AcceptedCmp4</th>\n",
              "      <th>AcceptedCmp5</th>\n",
              "      <th>AcceptedCmp1</th>\n",
              "      <th>AcceptedCmp2</th>\n",
              "      <th>Complain</th>\n",
              "      <th>Response</th>\n",
              "    </tr>\n",
              "  </thead>\n",
              "  <tbody>\n",
              "    <tr>\n",
              "      <th>0</th>\n",
              "      <td>0</td>\n",
              "      <td>1979</td>\n",
              "      <td>Graduation</td>\n",
              "      <td>Single</td>\n",
              "      <td>57537.0</td>\n",
              "      <td>1</td>\n",
              "      <td>0</td>\n",
              "      <td>10-06-2013</td>\n",
              "      <td>83</td>\n",
              "      <td>4</td>\n",
              "      <td>...</td>\n",
              "      <td>3</td>\n",
              "      <td>8</td>\n",
              "      <td>4</td>\n",
              "      <td>0</td>\n",
              "      <td>0</td>\n",
              "      <td>0</td>\n",
              "      <td>0</td>\n",
              "      <td>0</td>\n",
              "      <td>0</td>\n",
              "      <td>0</td>\n",
              "    </tr>\n",
              "    <tr>\n",
              "      <th>1</th>\n",
              "      <td>1</td>\n",
              "      <td>1955</td>\n",
              "      <td>Graduation</td>\n",
              "      <td>Together</td>\n",
              "      <td>65748.0</td>\n",
              "      <td>0</td>\n",
              "      <td>1</td>\n",
              "      <td>15-04-2013</td>\n",
              "      <td>58</td>\n",
              "      <td>2</td>\n",
              "      <td>...</td>\n",
              "      <td>4</td>\n",
              "      <td>10</td>\n",
              "      <td>1</td>\n",
              "      <td>0</td>\n",
              "      <td>0</td>\n",
              "      <td>0</td>\n",
              "      <td>0</td>\n",
              "      <td>0</td>\n",
              "      <td>1</td>\n",
              "      <td>0</td>\n",
              "    </tr>\n",
              "    <tr>\n",
              "      <th>2</th>\n",
              "      <td>2</td>\n",
              "      <td>1984</td>\n",
              "      <td>Graduation</td>\n",
              "      <td>Married</td>\n",
              "      <td>55434.0</td>\n",
              "      <td>1</td>\n",
              "      <td>0</td>\n",
              "      <td>05-10-2013</td>\n",
              "      <td>21</td>\n",
              "      <td>3</td>\n",
              "      <td>...</td>\n",
              "      <td>3</td>\n",
              "      <td>13</td>\n",
              "      <td>4</td>\n",
              "      <td>0</td>\n",
              "      <td>0</td>\n",
              "      <td>0</td>\n",
              "      <td>0</td>\n",
              "      <td>0</td>\n",
              "      <td>0</td>\n",
              "      <td>0</td>\n",
              "    </tr>\n",
              "    <tr>\n",
              "      <th>3</th>\n",
              "      <td>3</td>\n",
              "      <td>1960</td>\n",
              "      <td>Graduation</td>\n",
              "      <td>Married</td>\n",
              "      <td>67716.0</td>\n",
              "      <td>0</td>\n",
              "      <td>1</td>\n",
              "      <td>10-01-2013</td>\n",
              "      <td>8</td>\n",
              "      <td>4</td>\n",
              "      <td>...</td>\n",
              "      <td>4</td>\n",
              "      <td>13</td>\n",
              "      <td>5</td>\n",
              "      <td>0</td>\n",
              "      <td>1</td>\n",
              "      <td>0</td>\n",
              "      <td>0</td>\n",
              "      <td>0</td>\n",
              "      <td>0</td>\n",
              "      <td>0</td>\n",
              "    </tr>\n",
              "    <tr>\n",
              "      <th>4</th>\n",
              "      <td>4</td>\n",
              "      <td>1976</td>\n",
              "      <td>Graduation</td>\n",
              "      <td>Together</td>\n",
              "      <td>85606.0</td>\n",
              "      <td>0</td>\n",
              "      <td>1</td>\n",
              "      <td>12-11-2012</td>\n",
              "      <td>89</td>\n",
              "      <td>2</td>\n",
              "      <td>...</td>\n",
              "      <td>7</td>\n",
              "      <td>9</td>\n",
              "      <td>3</td>\n",
              "      <td>0</td>\n",
              "      <td>0</td>\n",
              "      <td>0</td>\n",
              "      <td>1</td>\n",
              "      <td>0</td>\n",
              "      <td>0</td>\n",
              "      <td>0</td>\n",
              "    </tr>\n",
              "    <tr>\n",
              "      <th>5</th>\n",
              "      <td>5</td>\n",
              "      <td>1975</td>\n",
              "      <td>Graduation</td>\n",
              "      <td>Widow</td>\n",
              "      <td>58330.0</td>\n",
              "      <td>0</td>\n",
              "      <td>1</td>\n",
              "      <td>25-12-2013</td>\n",
              "      <td>87</td>\n",
              "      <td>1</td>\n",
              "      <td>...</td>\n",
              "      <td>4</td>\n",
              "      <td>13</td>\n",
              "      <td>4</td>\n",
              "      <td>0</td>\n",
              "      <td>0</td>\n",
              "      <td>0</td>\n",
              "      <td>0</td>\n",
              "      <td>0</td>\n",
              "      <td>0</td>\n",
              "      <td>0</td>\n",
              "    </tr>\n",
              "    <tr>\n",
              "      <th>6</th>\n",
              "      <td>6</td>\n",
              "      <td>1973</td>\n",
              "      <td>Graduation</td>\n",
              "      <td>Married</td>\n",
              "      <td>31814.0</td>\n",
              "      <td>1</td>\n",
              "      <td>0</td>\n",
              "      <td>09-02-2013</td>\n",
              "      <td>73</td>\n",
              "      <td>2</td>\n",
              "      <td>...</td>\n",
              "      <td>0</td>\n",
              "      <td>3</td>\n",
              "      <td>9</td>\n",
              "      <td>1</td>\n",
              "      <td>0</td>\n",
              "      <td>0</td>\n",
              "      <td>0</td>\n",
              "      <td>0</td>\n",
              "      <td>0</td>\n",
              "      <td>0</td>\n",
              "    </tr>\n",
              "    <tr>\n",
              "      <th>7</th>\n",
              "      <td>7</td>\n",
              "      <td>1957</td>\n",
              "      <td>Graduation</td>\n",
              "      <td>Single</td>\n",
              "      <td>58138.0</td>\n",
              "      <td>0</td>\n",
              "      <td>0</td>\n",
              "      <td>04-09-2012</td>\n",
              "      <td>58</td>\n",
              "      <td>3</td>\n",
              "      <td>...</td>\n",
              "      <td>10</td>\n",
              "      <td>4</td>\n",
              "      <td>7</td>\n",
              "      <td>0</td>\n",
              "      <td>0</td>\n",
              "      <td>0</td>\n",
              "      <td>0</td>\n",
              "      <td>0</td>\n",
              "      <td>0</td>\n",
              "      <td>1</td>\n",
              "    </tr>\n",
              "    <tr>\n",
              "      <th>8</th>\n",
              "      <td>8</td>\n",
              "      <td>1977</td>\n",
              "      <td>Graduation</td>\n",
              "      <td>Married</td>\n",
              "      <td>72117.0</td>\n",
              "      <td>0</td>\n",
              "      <td>1</td>\n",
              "      <td>20-08-2013</td>\n",
              "      <td>34</td>\n",
              "      <td>1</td>\n",
              "      <td>...</td>\n",
              "      <td>7</td>\n",
              "      <td>9</td>\n",
              "      <td>5</td>\n",
              "      <td>0</td>\n",
              "      <td>0</td>\n",
              "      <td>0</td>\n",
              "      <td>0</td>\n",
              "      <td>0</td>\n",
              "      <td>0</td>\n",
              "      <td>0</td>\n",
              "    </tr>\n",
              "    <tr>\n",
              "      <th>9</th>\n",
              "      <td>9</td>\n",
              "      <td>1975</td>\n",
              "      <td>Master</td>\n",
              "      <td>Together</td>\n",
              "      <td>17459.0</td>\n",
              "      <td>1</td>\n",
              "      <td>0</td>\n",
              "      <td>19-09-2013</td>\n",
              "      <td>12</td>\n",
              "      <td>3</td>\n",
              "      <td>...</td>\n",
              "      <td>1</td>\n",
              "      <td>2</td>\n",
              "      <td>7</td>\n",
              "      <td>0</td>\n",
              "      <td>0</td>\n",
              "      <td>0</td>\n",
              "      <td>0</td>\n",
              "      <td>0</td>\n",
              "      <td>0</td>\n",
              "      <td>1</td>\n",
              "    </tr>\n",
              "  </tbody>\n",
              "</table>\n",
              "<p>10 rows × 21 columns</p>\n",
              "</div>\n",
              "      <button class=\"colab-df-convert\" onclick=\"convertToInteractive('df-f065e7b0-6bbc-4274-9aba-54497bfaf210')\"\n",
              "              title=\"Convert this dataframe to an interactive table.\"\n",
              "              style=\"display:none;\">\n",
              "        \n",
              "  <svg xmlns=\"http://www.w3.org/2000/svg\" height=\"24px\"viewBox=\"0 0 24 24\"\n",
              "       width=\"24px\">\n",
              "    <path d=\"M0 0h24v24H0V0z\" fill=\"none\"/>\n",
              "    <path d=\"M18.56 5.44l.94 2.06.94-2.06 2.06-.94-2.06-.94-.94-2.06-.94 2.06-2.06.94zm-11 1L8.5 8.5l.94-2.06 2.06-.94-2.06-.94L8.5 2.5l-.94 2.06-2.06.94zm10 10l.94 2.06.94-2.06 2.06-.94-2.06-.94-.94-2.06-.94 2.06-2.06.94z\"/><path d=\"M17.41 7.96l-1.37-1.37c-.4-.4-.92-.59-1.43-.59-.52 0-1.04.2-1.43.59L10.3 9.45l-7.72 7.72c-.78.78-.78 2.05 0 2.83L4 21.41c.39.39.9.59 1.41.59.51 0 1.02-.2 1.41-.59l7.78-7.78 2.81-2.81c.8-.78.8-2.07 0-2.86zM5.41 20L4 18.59l7.72-7.72 1.47 1.35L5.41 20z\"/>\n",
              "  </svg>\n",
              "      </button>\n",
              "      \n",
              "  <style>\n",
              "    .colab-df-container {\n",
              "      display:flex;\n",
              "      flex-wrap:wrap;\n",
              "      gap: 12px;\n",
              "    }\n",
              "\n",
              "    .colab-df-convert {\n",
              "      background-color: #E8F0FE;\n",
              "      border: none;\n",
              "      border-radius: 50%;\n",
              "      cursor: pointer;\n",
              "      display: none;\n",
              "      fill: #1967D2;\n",
              "      height: 32px;\n",
              "      padding: 0 0 0 0;\n",
              "      width: 32px;\n",
              "    }\n",
              "\n",
              "    .colab-df-convert:hover {\n",
              "      background-color: #E2EBFA;\n",
              "      box-shadow: 0px 1px 2px rgba(60, 64, 67, 0.3), 0px 1px 3px 1px rgba(60, 64, 67, 0.15);\n",
              "      fill: #174EA6;\n",
              "    }\n",
              "\n",
              "    [theme=dark] .colab-df-convert {\n",
              "      background-color: #3B4455;\n",
              "      fill: #D2E3FC;\n",
              "    }\n",
              "\n",
              "    [theme=dark] .colab-df-convert:hover {\n",
              "      background-color: #434B5C;\n",
              "      box-shadow: 0px 1px 3px 1px rgba(0, 0, 0, 0.15);\n",
              "      filter: drop-shadow(0px 1px 2px rgba(0, 0, 0, 0.3));\n",
              "      fill: #FFFFFF;\n",
              "    }\n",
              "  </style>\n",
              "\n",
              "      <script>\n",
              "        const buttonEl =\n",
              "          document.querySelector('#df-f065e7b0-6bbc-4274-9aba-54497bfaf210 button.colab-df-convert');\n",
              "        buttonEl.style.display =\n",
              "          google.colab.kernel.accessAllowed ? 'block' : 'none';\n",
              "\n",
              "        async function convertToInteractive(key) {\n",
              "          const element = document.querySelector('#df-f065e7b0-6bbc-4274-9aba-54497bfaf210');\n",
              "          const dataTable =\n",
              "            await google.colab.kernel.invokeFunction('convertToInteractive',\n",
              "                                                     [key], {});\n",
              "          if (!dataTable) return;\n",
              "\n",
              "          const docLinkHtml = 'Like what you see? Visit the ' +\n",
              "            '<a target=\"_blank\" href=https://colab.research.google.com/notebooks/data_table.ipynb>data table notebook</a>'\n",
              "            + ' to learn more about interactive tables.';\n",
              "          element.innerHTML = '';\n",
              "          dataTable['output_type'] = 'display_data';\n",
              "          await google.colab.output.renderOutput(dataTable, element);\n",
              "          const docLink = document.createElement('div');\n",
              "          docLink.innerHTML = docLinkHtml;\n",
              "          element.appendChild(docLink);\n",
              "        }\n",
              "      </script>\n",
              "    </div>\n",
              "  </div>\n",
              "  "
            ]
          },
          "metadata": {},
          "execution_count": 72
        }
      ]
    },
    {
      "cell_type": "code",
      "source": [
        "train.isnull().sum()"
      ],
      "metadata": {
        "colab": {
          "base_uri": "https://localhost:8080/"
        },
        "id": "UBjFf_BCDbDc",
        "outputId": "e22edf7a-762b-4be6-8db5-1aebfb7b4afc"
      },
      "execution_count": null,
      "outputs": [
        {
          "output_type": "execute_result",
          "data": {
            "text/plain": [
              "id                     0\n",
              "Year_Birth             0\n",
              "Education              0\n",
              "Marital_Status         0\n",
              "Income                 0\n",
              "Kidhome                0\n",
              "Teenhome               0\n",
              "Dt_Customer            0\n",
              "Recency                0\n",
              "NumDealsPurchases      0\n",
              "NumWebPurchases        0\n",
              "NumCatalogPurchases    0\n",
              "NumStorePurchases      0\n",
              "NumWebVisitsMonth      0\n",
              "AcceptedCmp3           0\n",
              "AcceptedCmp4           0\n",
              "AcceptedCmp5           0\n",
              "AcceptedCmp1           0\n",
              "AcceptedCmp2           0\n",
              "Complain               0\n",
              "Response               0\n",
              "target                 0\n",
              "dtype: int64"
            ]
          },
          "metadata": {},
          "execution_count": 73
        }
      ]
    },
    {
      "cell_type": "code",
      "source": [
        "test.isnull().sum()"
      ],
      "metadata": {
        "colab": {
          "base_uri": "https://localhost:8080/"
        },
        "id": "KRCStqmWDfzC",
        "outputId": "2db1b378-4b2c-407e-e25f-cf35fb1510dc"
      },
      "execution_count": null,
      "outputs": [
        {
          "output_type": "execute_result",
          "data": {
            "text/plain": [
              "id                     0\n",
              "Year_Birth             0\n",
              "Education              0\n",
              "Marital_Status         0\n",
              "Income                 0\n",
              "Kidhome                0\n",
              "Teenhome               0\n",
              "Dt_Customer            0\n",
              "Recency                0\n",
              "NumDealsPurchases      0\n",
              "NumWebPurchases        0\n",
              "NumCatalogPurchases    0\n",
              "NumStorePurchases      0\n",
              "NumWebVisitsMonth      0\n",
              "AcceptedCmp3           0\n",
              "AcceptedCmp4           0\n",
              "AcceptedCmp5           0\n",
              "AcceptedCmp1           0\n",
              "AcceptedCmp2           0\n",
              "Complain               0\n",
              "Response               0\n",
              "dtype: int64"
            ]
          },
          "metadata": {},
          "execution_count": 74
        }
      ]
    },
    {
      "cell_type": "code",
      "source": [
        "df_train = train.copy()\n",
        "df_test = test.copy() #copy함수를 통해 복제 변수 생성"
      ],
      "metadata": {
        "id": "MLBI4dPTDh68"
      },
      "execution_count": null,
      "outputs": []
    },
    {
      "cell_type": "code",
      "source": [
        "# 이상치 탐색 -> numerical 데이터 사용\n",
        "\n",
        "numeric_fts = [\"Year_Birth\", \"Income\", \"Recency\", \"NumDealsPurchases\", \"NumWebPurchases\", \"NumCatalogPurchases\", \"NumStorePurchases\", \"NumWebVisitsMonth\"]\n",
        "\n",
        "train_outlier_ind = []\n",
        "for i in numeric_fts:\n",
        "  Q1 = np.percentile(df_train[i], 25)\n",
        "  Q3 = np.percentile(df_train[i], 75)\n",
        "  IQR = Q3-Q1\n",
        "  train_outlier_list = df_train[(df_train[i] < Q1 - 1.5*IQR) | (df_train[i] > Q3 + 1.5*IQR)].index\n",
        "  train_outlier_ind.extend(train_outlier_list) # extend함수는 가장 끝부분부터 이상치가 존재하는 변수를 리스트에 담음\n",
        "\n",
        "train_outlier_ind = Counter(train_outlier_ind) #counter 함수는 매개변수의 값을 딕셔너리로 바꿔줌 \n",
        "print(train_outlier_ind)\n",
        "train_multi_outliers = list(k for k,j in train_outlier_ind.items() if j>2)\n",
        "print(train_multi_outliers)\n",
        "print(\"The number of train outiers : \", len(train_multi_outliers))\n"
      ],
      "metadata": {
        "colab": {
          "base_uri": "https://localhost:8080/"
        },
        "id": "FgG1rQnLDrqd",
        "outputId": "3568de33-ae19-4b32-c6a2-0f669360be8e"
      },
      "execution_count": null,
      "outputs": [
        {
          "output_type": "stream",
          "name": "stdout",
          "text": [
            "Counter({91: 2, 182: 2, 975: 2, 760: 1, 865: 1, 246: 1, 686: 1, 730: 1, 0: 1, 4: 1, 12: 1, 44: 1, 64: 1, 90: 1, 149: 1, 155: 1, 157: 1, 184: 1, 205: 1, 211: 1, 225: 1, 236: 1, 306: 1, 344: 1, 361: 1, 367: 1, 414: 1, 510: 1, 541: 1, 600: 1, 690: 1, 696: 1, 697: 1, 701: 1, 717: 1, 736: 1, 778: 1, 791: 1, 864: 1, 872: 1, 890: 1, 898: 1, 927: 1, 946: 1, 1002: 1, 1038: 1, 1066: 1, 1067: 1, 1074: 1, 1101: 1, 1106: 1, 617: 1, 892: 1, 89: 1, 243: 1, 348: 1, 572: 1, 604: 1, 640: 1, 900: 1, 979: 1, 297: 1, 1097: 1})\n",
            "[]\n",
            "The number of train outiers :  0\n"
          ]
        }
      ]
    },
    {
      "cell_type": "code",
      "source": [
        "#왜도를 기준으로 왜곡된 분포인지 아닌지를 판별\n",
        "print(df_train[numeric_fts].skew())"
      ],
      "metadata": {
        "colab": {
          "base_uri": "https://localhost:8080/"
        },
        "id": "Zb6Hu0JnIO7a",
        "outputId": "51538dbd-5460-4a24-f080-5088fb9d3407"
      },
      "execution_count": null,
      "outputs": [
        {
          "output_type": "stream",
          "name": "stdout",
          "text": [
            "Year_Birth            -0.439100\n",
            "Income                 0.291634\n",
            "Recency               -0.061310\n",
            "NumDealsPurchases      2.264245\n",
            "NumWebPurchases        1.289607\n",
            "NumCatalogPurchases    1.099499\n",
            "NumStorePurchases      0.653689\n",
            "NumWebVisitsMonth      0.299000\n",
            "dtype: float64\n"
          ]
        }
      ]
    },
    {
      "cell_type": "markdown",
      "source": [
        "#시각화1"
      ],
      "metadata": {
        "id": "KP_wBWaY0Vai"
      }
    },
    {
      "cell_type": "code",
      "source": [
        "fig = plt.figure(figsize = (15,5))\n",
        "ax1 = fig.add_subplot(1,2,1) #1행 2열 중 첫 번째 칸\n",
        "ax2 = fig.add_subplot(1,2,2) #1행 2열 중 두 번째 칸\n",
        "\n",
        "#히스토그램abel='Skewness, :.2f는 소숫점 2자리까지 표현하라는 뜻\n",
        "sns.distplot(df_train['NumDealsPurchases'], ax = ax1, label = 'Skewness: {:.3f}'.format(df_train['NumDealsPurchases'].skew()))\n",
        "ax1.legend(loc='best', fontsize = 15) #범례 위치 best인곳에 지정\n",
        "\n",
        "#qqplot그리기\n",
        "stats.probplot(df_train['NumDealsPurchases'], plot = ax2)\n",
        "plt.title('Q-Q plot', fontsize = 15)\n",
        "plt.show()"
      ],
      "metadata": {
        "colab": {
          "base_uri": "https://localhost:8080/",
          "height": 352
        },
        "id": "HfX21JIQKWFn",
        "outputId": "ecab8d3a-a429-44da-8ace-260205e8bf5d"
      },
      "execution_count": null,
      "outputs": [
        {
          "output_type": "display_data",
          "data": {
            "text/plain": [
              "<Figure size 1080x360 with 2 Axes>"
            ],
            "image/png": "[encoded data removed]"
          },
          "metadata": {
            "needs_background": "light"
          }
        }
      ]
    },
    {
      "cell_type": "markdown",
      "source": [
        "#시각화2"
      ],
      "metadata": {
        "id": "gksYKfN-0Ye8"
      }
    },
    {
      "cell_type": "code",
      "source": [
        "# NumDealsPurchase 변수의 왜도 값이 2의 값이 넘어가 해당 변수의 재변환 필요\n",
        "\n",
        "log_trains = df_train['NumDealsPurchases'].map(lambda i: np.log(i) if i>0 else 0) #i가 0보다 크면 np.log(i) 값으로 변환하고 0보다 작으면 0으로 간주\n",
        "\n",
        "fig = plt.figure(figsize = (16,6))\n",
        "ax1 = fig.add_subplot(1,2,1)\n",
        "ax2 = fig.add_subplot(1,2,2)\n",
        "\n",
        "#히스토그램\n",
        "sns.distplot(log_trains, ax = ax1, color='crimson', label='Skewness : {:.2f}'.format(log_trains.skew()))\n",
        "ax1.legend(loc='best', fontsize = 15)\n",
        "ax1.set_title('Log transformation', fontsize=15)\n",
        "\n",
        "#Q-Q plot\n",
        "stats.probplot(log_trains, plot = ax2)\n",
        "ax2.set_title(\"Q-Q plot\", fontsize=15)\n",
        "plt.show()\n"
      ],
      "metadata": {
        "colab": {
          "base_uri": "https://localhost:8080/",
          "height": 406
        },
        "id": "0cVsWYkCNB5P",
        "outputId": "101dbc27-51cd-4903-ea23-95705c35981c"
      },
      "execution_count": null,
      "outputs": [
        {
          "output_type": "display_data",
          "data": {
            "text/plain": [
              "<Figure size 1152x432 with 2 Axes>"
            ],
            "image/png": "[encoded data removed]"
          },
          "metadata": {
            "needs_background": "light"
          }
        }
      ]
    },
    {
      "cell_type": "markdown",
      "source": [
        "#시각화3"
      ],
      "metadata": {
        "id": "ivM7BgpG0bT4"
      }
    },
    {
      "cell_type": "code",
      "source": [
        "#사이킷런의 여-존슨 변환 사용\n",
        "\n",
        "yj = PowerTransformer(method = 'yeo-johnson')\n",
        "yj.fit(df_train['NumDealsPurchases'].values.reshape(-1,1)) #fit함수 찾아보기\n",
        "x_yj = yj.transform(df_train['NumDealsPurchases'].values.reshape(-1,1)) # -1~1사이의 값으로 재변환\n",
        "\n",
        "fig = plt.figure(figsize=(16,6))\n",
        "ax1 = fig.add_subplot(1,2,1)\n",
        "ax2 = fig.add_subplot(1,2,2)\n",
        "\n",
        "sns.distplot(x_yj, ax=ax1, color='crimson', label='Skewness : {:5f}'.format(np.float(stats.skew(x_yj))))\n",
        "ax1.legend(loc='best', fontsize=15)\n",
        "ax1.set_title(\"Yeo-Johnson transformation\", fontsize=15)\n",
        "\n",
        "stats.probplot(x_yj.reshape(x_yj.shape[0]), plot=ax2)\n",
        "ax2.legend([\"Lambda : {:.2f}\".format(np.float(yj.lambdas_))], loc='best', fontsize=15)\n",
        "ax2.set_title(\"Q-Q plot\", fontsize=15)\n",
        "plt.show()\n",
        "\n"
      ],
      "metadata": {
        "colab": {
          "base_uri": "https://localhost:8080/",
          "height": 406
        },
        "id": "GN90G86dO-jA",
        "outputId": "7edfb0d7-10e5-4c1c-c762-7dcccfba763d"
      },
      "execution_count": null,
      "outputs": [
        {
          "output_type": "display_data",
          "data": {
            "text/plain": [
              "<Figure size 1152x432 with 2 Axes>"
            ],
            "image/png": "[encoded data removed]"
          },
          "metadata": {
            "needs_background": "light"
          }
        }
      ]
    },
    {
      "cell_type": "code",
      "source": [
        "#이전 주차 이어서\n",
        "\n",
        "#test데이터도 여-존슨 변환 수행\n",
        "test_yj = PowerTransformer(method='yeo-johnson')\n",
        "test_yj.fit(df_test['NumDealsPurchases'].values.reshape(-1,1))\n",
        "test_x_yj = test_yj.transform(df_test['NumDealsPurchases'].values.reshape(-1,1))\n",
        "df_test['NumDealsPurchases'] = test_x_yj"
      ],
      "metadata": {
        "id": "yyxHxZh-Sg5o"
      },
      "execution_count": null,
      "outputs": []
    },
    {
      "cell_type": "code",
      "source": [
        "corr_fts1 = [\"Income\", \"Kidhome\", \"NumWebPurchases\", \"NumCatalogPurchases\", \"NumStorePurchases\", \"NumWebVisitsMonth\", \"AcceptedCmp1\", \"AcceptedCmp5\", \"target\"]\n",
        "corr_fts2 = [\"NumDealsPurchases\", \"Teenhome\"]"
      ],
      "metadata": {
        "id": "rmJZuvThW3bV"
      },
      "execution_count": null,
      "outputs": []
    },
    {
      "cell_type": "markdown",
      "source": [
        "#시각화4"
      ],
      "metadata": {
        "id": "bfDVe6MX0gA8"
      }
    },
    {
      "cell_type": "code",
      "source": [
        "plt.figure(figsize=(10,8))\n",
        "sns.heatmap(df_train[corr_fts1].corr(), annot=True) #annot옵션은 각 셀의 값을 표기해줌 \n",
        "\n",
        "plt.show()"
      ],
      "metadata": {
        "colab": {
          "base_uri": "https://localhost:8080/",
          "height": 589
        },
        "id": "b5X5MV0VXUnN",
        "outputId": "0520a968-74c7-49ef-de39-9a420853b4f6"
      },
      "execution_count": null,
      "outputs": [
        {
          "output_type": "display_data",
          "data": {
            "text/plain": [
              "<Figure size 720x576 with 2 Axes>"
            ],
            "image/png": "[encoded data removed]"
          },
          "metadata": {
            "needs_background": "light"
          }
        }
      ]
    },
    {
      "cell_type": "markdown",
      "source": [
        "#시각화5"
      ],
      "metadata": {
        "id": "u4AZrX-L0iwr"
      }
    },
    {
      "cell_type": "code",
      "source": [
        "plt.figure(figsize=(10,9))\n",
        "sns.heatmap(df_train[corr_fts2].corr(), annot=True)\n",
        "\n",
        "plt.show()"
      ],
      "metadata": {
        "colab": {
          "base_uri": "https://localhost:8080/",
          "height": 541
        },
        "id": "umk-VthTXwkN",
        "outputId": "6647953f-f19f-4269-e493-8278f2087ead"
      },
      "execution_count": null,
      "outputs": [
        {
          "output_type": "display_data",
          "data": {
            "text/plain": [
              "<Figure size 720x648 with 2 Axes>"
            ],
            "image/png": "[encoded data removed]"
          },
          "metadata": {
            "needs_background": "light"
          }
        }
      ]
    },
    {
      "cell_type": "code",
      "source": [
        "#독립변수 간 높은 상관관계는 다중공선성을 초래할 수 있기 때문에 좋지 않음 -> 변수 선택, 차원 축소, 규저 등으로 해결 가능\n",
        "\n",
        "#여-존슨 변환한 값을 포함하는 df_train과 df_test의 복사본 생성\n",
        "train_dataset = df_train.copy()\n",
        "test_dataset = df_test.copy()\n",
        "\n",
        "#회사 등록일 출력\n",
        "train_dataset[\"Dt_Customer\"]\n"
      ],
      "metadata": {
        "colab": {
          "base_uri": "https://localhost:8080/"
        },
        "id": "53OnszSYX_nP",
        "outputId": "00063818-cdf6-418c-9ed7-0deaf6a95e98"
      },
      "execution_count": null,
      "outputs": [
        {
          "output_type": "execute_result",
          "data": {
            "text/plain": [
              "0       21-01-2013\n",
              "1       24-05-2014\n",
              "2       08-04-2013\n",
              "3       29-03-2014\n",
              "4       10-06-2014\n",
              "           ...    \n",
              "1103    31-03-2013\n",
              "1104    21-10-2013\n",
              "1105    16-12-2013\n",
              "1106    30-05-2013\n",
              "1107    29-10-2012\n",
              "Name: Dt_Customer, Length: 1108, dtype: object"
            ]
          },
          "metadata": {},
          "execution_count": 85
        }
      ]
    },
    {
      "cell_type": "code",
      "source": [
        "#datetime 함수로 object타입인 Dt_Customer을 시간으로 나타내는 datetime으로 변환\n",
        "\n",
        "train_dataset[\"Dt_Customer\"] = pd.to_datetime(train_dataset[\"Dt_Customer\"], format = \"%d-%m-%Y\")\n",
        "test_dataset[\"Dt_Customer\"] = pd.to_datetime(test_dataset[\"Dt_Customer\"], format = \"%d-%m-%Y\")\n",
        "\n",
        "train_dataset[\"Dt_Customer\"] #datetime형태로 바뀐 것을 알 수 있음 "
      ],
      "metadata": {
        "colab": {
          "base_uri": "https://localhost:8080/"
        },
        "id": "5O5YvVFTYvMh",
        "outputId": "6f83883d-2487-4a63-ec4f-1f1a208f56a2"
      },
      "execution_count": null,
      "outputs": [
        {
          "output_type": "execute_result",
          "data": {
            "text/plain": [
              "0      2013-01-21\n",
              "1      2014-05-24\n",
              "2      2013-04-08\n",
              "3      2014-03-29\n",
              "4      2014-06-10\n",
              "          ...    \n",
              "1103   2013-03-31\n",
              "1104   2013-10-21\n",
              "1105   2013-12-16\n",
              "1106   2013-05-30\n",
              "1107   2012-10-29\n",
              "Name: Dt_Customer, Length: 1108, dtype: datetime64[ns]"
            ]
          },
          "metadata": {},
          "execution_count": 86
        }
      ]
    },
    {
      "cell_type": "code",
      "source": [
        "#가장 오래된 날짜\n",
        "print(f'Minimum date : {train_dataset[\"Dt_Customer\"].min()}') #f는 f-string 포맷팅을 의미\n",
        "\n",
        "#가장 최근인 날짜\n",
        "print(f'Maximum date : {train_dataset[\"Dt_Customer\"].max()}')"
      ],
      "metadata": {
        "colab": {
          "base_uri": "https://localhost:8080/"
        },
        "id": "uUZhOltkZdzp",
        "outputId": "6c831c36-845f-48dd-9bac-9167b2dcd09c"
      },
      "execution_count": null,
      "outputs": [
        {
          "output_type": "stream",
          "name": "stdout",
          "text": [
            "Minimum date : 2012-07-31 00:00:00\n",
            "Maximum date : 2014-06-29 00:00:00\n"
          ]
        }
      ]
    },
    {
      "cell_type": "code",
      "source": [
        "#모델링에 사용할 수 있도록 새 수치형 변수를 만들고자함\n",
        "# 가장 과거 시점의 회사 등록일로부터 며칠이 지났는지를 뜻하는 Pass_Customer변수 생성 -> 회사에 등록한 시점에 대한 정보를 유지하면서 새로운 변수 생성\n",
        "\n",
        "train_diff_date = train_dataset[\"Dt_Customer\"] - train_dataset[\"Dt_Customer\"].min()\n",
        "test_diff_date = test_dataset[\"Dt_Customer\"] - test_dataset[\"Dt_Customer\"].min()\n",
        "print(train_diff_date) #과거 시점으로 부터 얼마나 지났는지 days형태로 출력해줌 \n",
        "\n",
        "train_dataset[\"Pass_Customer\"] = [i.days for i in train_diff_date]\n",
        "test_dataset[\"Pass_Customer\"] = [i.days for i in test_diff_date]\n",
        "\n",
        "train_dataset[\"Pass_Customer\"].head(10)"
      ],
      "metadata": {
        "colab": {
          "base_uri": "https://localhost:8080/"
        },
        "id": "Djf6o1WzaWVy",
        "outputId": "07bd7673-c49d-4183-e6b5-3fb2fd6ab60f"
      },
      "execution_count": null,
      "outputs": [
        {
          "output_type": "stream",
          "name": "stdout",
          "text": [
            "0      174 days\n",
            "1      662 days\n",
            "2      251 days\n",
            "3      606 days\n",
            "4      679 days\n",
            "         ...   \n",
            "1103   243 days\n",
            "1104   447 days\n",
            "1105   503 days\n",
            "1106   303 days\n",
            "1107    90 days\n",
            "Name: Dt_Customer, Length: 1108, dtype: timedelta64[ns]\n"
          ]
        },
        {
          "output_type": "execute_result",
          "data": {
            "text/plain": [
              "0    174\n",
              "1    662\n",
              "2    251\n",
              "3    606\n",
              "4    679\n",
              "5    172\n",
              "6    365\n",
              "7    230\n",
              "8    543\n",
              "9    202\n",
              "Name: Pass_Customer, dtype: int64"
            ]
          },
          "metadata": {},
          "execution_count": 88
        }
      ]
    },
    {
      "cell_type": "code",
      "source": [
        "# Year_Birth 변수 -> 고객의 나이를 뜻하는 Age변수를 새롭게 생성\n",
        "\n",
        "print(\"Minimum birth : \", train_dataset[\"Year_Birth\"].min(), \"\\nMaximum Birth : \", train_dataset[\"Year_Birth\"].max())\n",
        "train_dataset[\"Year_Birth\"].head()"
      ],
      "metadata": {
        "colab": {
          "base_uri": "https://localhost:8080/"
        },
        "id": "8shJgSE-bGtM",
        "outputId": "6c13377c-154e-4089-df5d-82d0614c49ff"
      },
      "execution_count": null,
      "outputs": [
        {
          "output_type": "stream",
          "name": "stdout",
          "text": [
            "Minimum birth :  1893 \n",
            "Maximum Birth :  1996\n"
          ]
        },
        {
          "output_type": "execute_result",
          "data": {
            "text/plain": [
              "0    1974\n",
              "1    1962\n",
              "2    1951\n",
              "3    1974\n",
              "4    1946\n",
              "Name: Year_Birth, dtype: int64"
            ]
          },
          "metadata": {},
          "execution_count": 89
        }
      ]
    },
    {
      "cell_type": "code",
      "source": [
        "# 현재 년도에서 Year_Birth를 빼고 +1 = 현재 나이 \n",
        "\n",
        "train_dataset[\"Age\"] = 2022 - train_dataset[\"Year_Birth\"] + 1\n",
        "test_dataset[\"Age\"] = 2022 - test_dataset[\"Year_Birth\"] + 1\n",
        "\n",
        "train_dataset[\"Age\"].head()"
      ],
      "metadata": {
        "colab": {
          "base_uri": "https://localhost:8080/"
        },
        "id": "nTbl6cGfcMh1",
        "outputId": "1aa5fa2c-4cf6-4622-dd82-72cc92ea6c7a"
      },
      "execution_count": null,
      "outputs": [
        {
          "output_type": "execute_result",
          "data": {
            "text/plain": [
              "0    49\n",
              "1    61\n",
              "2    72\n",
              "3    49\n",
              "4    77\n",
              "Name: Age, dtype: int64"
            ]
          },
          "metadata": {},
          "execution_count": 90
        }
      ]
    },
    {
      "cell_type": "code",
      "source": [
        "# AcceptedCmp(1~5) : 고객이 (1-5) 번째 캠페인에서 제안을 수락한 경우 1, 그렇지 않은 경우 0\n",
        "# Response : 마지막 캠페인에서 제안을 수락한 경우 1, 그렇지 않은 경우 0\n",
        "\n",
        "#AcceptCount변수 생성\n",
        "train_dataset[\"AcceptCount\"] = train_dataset[\"AcceptedCmp1\"] + train_dataset[\"AcceptedCmp2\"] + train_dataset[\"AcceptedCmp3\"] + train_dataset[\"AcceptedCmp4\"] + train_dataset[\"AcceptedCmp5\"] + train_dataset[\"Response\"]\n",
        "\n",
        "train_dataset[\"AcceptCount\"].head(10)\n",
        "\n",
        "#print(train_dataset[\"AcceptedCmp1\"].head(10))\n",
        "#print(train_dataset[\"AcceptedCmp2\"].head(10))\n",
        "\n",
        "test_dataset[\"AcceptCount\"] = test_dataset[\"AcceptedCmp1\"] + test_dataset[\"AcceptedCmp2\"] + test_dataset[\"AcceptedCmp3\"] + test_dataset[\"AcceptedCmp4\"] + test_dataset[\"AcceptedCmp5\"] + test_dataset[\"Response\"]\n",
        "\n",
        "#train_dataset[\"AcceptCount\"].head(10)"
      ],
      "metadata": {
        "id": "4CEx73fbckRg"
      },
      "execution_count": null,
      "outputs": []
    },
    {
      "cell_type": "code",
      "source": [
        "# 고객 중 최소/최대 수락 횟수\n",
        "\n",
        "print(\"Minimum count : \", train_dataset[\"AcceptCount\"].min(), \"\\nMaximum count : \", train_dataset[\"AcceptCount\"].max())\n",
        "\n",
        "#train데이터에서 6번의 캠페인 제안으로 모두 수락한 경우는 없는 것으로 확인됨 -> 최대값이 5이기 때문\n"
      ],
      "metadata": {
        "colab": {
          "base_uri": "https://localhost:8080/"
        },
        "id": "gfC_dduwff-I",
        "outputId": "ce38e358-de29-4009-f70c-d2903fd34201"
      },
      "execution_count": null,
      "outputs": [
        {
          "output_type": "stream",
          "name": "stdout",
          "text": [
            "Minimum count :  0 \n",
            "Maximum count :  5\n"
          ]
        }
      ]
    },
    {
      "cell_type": "code",
      "source": [
        "#기존 변수와 target(고객의 제품 총 소비량) 간 상관관계\n",
        "train_dataset[['Year_Birth', 'AcceptedCmp1','AcceptedCmp2','AcceptedCmp3','AcceptedCmp4','AcceptedCmp5', 'Response','target']].corr()"
      ],
      "metadata": {
        "colab": {
          "base_uri": "https://localhost:8080/",
          "height": 300
        },
        "id": "cnHIhUMlgR91",
        "outputId": "06aa1355-4c12-4319-861f-2cf7288e6d53"
      },
      "execution_count": null,
      "outputs": [
        {
          "output_type": "execute_result",
          "data": {
            "text/plain": [
              "              Year_Birth  AcceptedCmp1  AcceptedCmp2  AcceptedCmp3  \\\n",
              "Year_Birth      1.000000     -0.050053     -0.034204      0.066802   \n",
              "AcceptedCmp1   -0.050053      1.000000      0.198530      0.052213   \n",
              "AcceptedCmp2   -0.034204      0.198530      1.000000      0.052513   \n",
              "AcceptedCmp3    0.066802      0.052213      0.052513      1.000000   \n",
              "AcceptedCmp4   -0.111485      0.184717      0.328941     -0.083690   \n",
              "AcceptedCmp5   -0.010873      0.379563      0.192139      0.060890   \n",
              "Response       -0.012304      0.268577      0.201945      0.194275   \n",
              "target         -0.136035      0.361102      0.129995      0.040736   \n",
              "\n",
              "              AcceptedCmp4  AcceptedCmp5  Response    target  \n",
              "Year_Birth       -0.111485     -0.010873 -0.012304 -0.136035  \n",
              "AcceptedCmp1      0.184717      0.379563  0.268577  0.361102  \n",
              "AcceptedCmp2      0.328941      0.192139  0.201945  0.129995  \n",
              "AcceptedCmp3     -0.083690      0.060890  0.194275  0.040736  \n",
              "AcceptedCmp4      1.000000      0.313120  0.189849  0.256784  \n",
              "AcceptedCmp5      0.313120      1.000000  0.336610  0.458208  \n",
              "Response          0.189849      0.336610  1.000000  0.242760  \n",
              "target            0.256784      0.458208  0.242760  1.000000  "
            ],
            "text/html": [
              "\n",
              "  <div id=\"df-ea2b7493-928a-44ef-a395-ea7ff693ee42\">\n",
              "    <div class=\"colab-df-container\">\n",
              "      <div>\n",
              "<style scoped>\n",
              "    .dataframe tbody tr th:only-of-type {\n",
              "        vertical-align: middle;\n",
              "    }\n",
              "\n",
              "    .dataframe tbody tr th {\n",
              "        vertical-align: top;\n",
              "    }\n",
              "\n",
              "    .dataframe thead th {\n",
              "        text-align: right;\n",
              "    }\n",
              "</style>\n",
              "<table border=\"1\" class=\"dataframe\">\n",
              "  <thead>\n",
              "    <tr style=\"text-align: right;\">\n",
              "      <th></th>\n",
              "      <th>Year_Birth</th>\n",
              "      <th>AcceptedCmp1</th>\n",
              "      <th>AcceptedCmp2</th>\n",
              "      <th>AcceptedCmp3</th>\n",
              "      <th>AcceptedCmp4</th>\n",
              "      <th>AcceptedCmp5</th>\n",
              "      <th>Response</th>\n",
              "      <th>target</th>\n",
              "    </tr>\n",
              "  </thead>\n",
              "  <tbody>\n",
              "    <tr>\n",
              "      <th>Year_Birth</th>\n",
              "      <td>1.000000</td>\n",
              "      <td>-0.050053</td>\n",
              "      <td>-0.034204</td>\n",
              "      <td>0.066802</td>\n",
              "      <td>-0.111485</td>\n",
              "      <td>-0.010873</td>\n",
              "      <td>-0.012304</td>\n",
              "      <td>-0.136035</td>\n",
              "    </tr>\n",
              "    <tr>\n",
              "      <th>AcceptedCmp1</th>\n",
              "      <td>-0.050053</td>\n",
              "      <td>1.000000</td>\n",
              "      <td>0.198530</td>\n",
              "      <td>0.052213</td>\n",
              "      <td>0.184717</td>\n",
              "      <td>0.379563</td>\n",
              "      <td>0.268577</td>\n",
              "      <td>0.361102</td>\n",
              "    </tr>\n",
              "    <tr>\n",
              "      <th>AcceptedCmp2</th>\n",
              "      <td>-0.034204</td>\n",
              "      <td>0.198530</td>\n",
              "      <td>1.000000</td>\n",
              "      <td>0.052513</td>\n",
              "      <td>0.328941</td>\n",
              "      <td>0.192139</td>\n",
              "      <td>0.201945</td>\n",
              "      <td>0.129995</td>\n",
              "    </tr>\n",
              "    <tr>\n",
              "      <th>AcceptedCmp3</th>\n",
              "      <td>0.066802</td>\n",
              "      <td>0.052213</td>\n",
              "      <td>0.052513</td>\n",
              "      <td>1.000000</td>\n",
              "      <td>-0.083690</td>\n",
              "      <td>0.060890</td>\n",
              "      <td>0.194275</td>\n",
              "      <td>0.040736</td>\n",
              "    </tr>\n",
              "    <tr>\n",
              "      <th>AcceptedCmp4</th>\n",
              "      <td>-0.111485</td>\n",
              "      <td>0.184717</td>\n",
              "      <td>0.328941</td>\n",
              "      <td>-0.083690</td>\n",
              "      <td>1.000000</td>\n",
              "      <td>0.313120</td>\n",
              "      <td>0.189849</td>\n",
              "      <td>0.256784</td>\n",
              "    </tr>\n",
              "    <tr>\n",
              "      <th>AcceptedCmp5</th>\n",
              "      <td>-0.010873</td>\n",
              "      <td>0.379563</td>\n",
              "      <td>0.192139</td>\n",
              "      <td>0.060890</td>\n",
              "      <td>0.313120</td>\n",
              "      <td>1.000000</td>\n",
              "      <td>0.336610</td>\n",
              "      <td>0.458208</td>\n",
              "    </tr>\n",
              "    <tr>\n",
              "      <th>Response</th>\n",
              "      <td>-0.012304</td>\n",
              "      <td>0.268577</td>\n",
              "      <td>0.201945</td>\n",
              "      <td>0.194275</td>\n",
              "      <td>0.189849</td>\n",
              "      <td>0.336610</td>\n",
              "      <td>1.000000</td>\n",
              "      <td>0.242760</td>\n",
              "    </tr>\n",
              "    <tr>\n",
              "      <th>target</th>\n",
              "      <td>-0.136035</td>\n",
              "      <td>0.361102</td>\n",
              "      <td>0.129995</td>\n",
              "      <td>0.040736</td>\n",
              "      <td>0.256784</td>\n",
              "      <td>0.458208</td>\n",
              "      <td>0.242760</td>\n",
              "      <td>1.000000</td>\n",
              "    </tr>\n",
              "  </tbody>\n",
              "</table>\n",
              "</div>\n",
              "      <button class=\"colab-df-convert\" onclick=\"convertToInteractive('df-ea2b7493-928a-44ef-a395-ea7ff693ee42')\"\n",
              "              title=\"Convert this dataframe to an interactive table.\"\n",
              "              style=\"display:none;\">\n",
              "        \n",
              "  <svg xmlns=\"http://www.w3.org/2000/svg\" height=\"24px\"viewBox=\"0 0 24 24\"\n",
              "       width=\"24px\">\n",
              "    <path d=\"M0 0h24v24H0V0z\" fill=\"none\"/>\n",
              "    <path d=\"M18.56 5.44l.94 2.06.94-2.06 2.06-.94-2.06-.94-.94-2.06-.94 2.06-2.06.94zm-11 1L8.5 8.5l.94-2.06 2.06-.94-2.06-.94L8.5 2.5l-.94 2.06-2.06.94zm10 10l.94 2.06.94-2.06 2.06-.94-2.06-.94-.94-2.06-.94 2.06-2.06.94z\"/><path d=\"M17.41 7.96l-1.37-1.37c-.4-.4-.92-.59-1.43-.59-.52 0-1.04.2-1.43.59L10.3 9.45l-7.72 7.72c-.78.78-.78 2.05 0 2.83L4 21.41c.39.39.9.59 1.41.59.51 0 1.02-.2 1.41-.59l7.78-7.78 2.81-2.81c.8-.78.8-2.07 0-2.86zM5.41 20L4 18.59l7.72-7.72 1.47 1.35L5.41 20z\"/>\n",
              "  </svg>\n",
              "      </button>\n",
              "      \n",
              "  <style>\n",
              "    .colab-df-container {\n",
              "      display:flex;\n",
              "      flex-wrap:wrap;\n",
              "      gap: 12px;\n",
              "    }\n",
              "\n",
              "    .colab-df-convert {\n",
              "      background-color: #E8F0FE;\n",
              "      border: none;\n",
              "      border-radius: 50%;\n",
              "      cursor: pointer;\n",
              "      display: none;\n",
              "      fill: #1967D2;\n",
              "      height: 32px;\n",
              "      padding: 0 0 0 0;\n",
              "      width: 32px;\n",
              "    }\n",
              "\n",
              "    .colab-df-convert:hover {\n",
              "      background-color: #E2EBFA;\n",
              "      box-shadow: 0px 1px 2px rgba(60, 64, 67, 0.3), 0px 1px 3px 1px rgba(60, 64, 67, 0.15);\n",
              "      fill: #174EA6;\n",
              "    }\n",
              "\n",
              "    [theme=dark] .colab-df-convert {\n",
              "      background-color: #3B4455;\n",
              "      fill: #D2E3FC;\n",
              "    }\n",
              "\n",
              "    [theme=dark] .colab-df-convert:hover {\n",
              "      background-color: #434B5C;\n",
              "      box-shadow: 0px 1px 3px 1px rgba(0, 0, 0, 0.15);\n",
              "      filter: drop-shadow(0px 1px 2px rgba(0, 0, 0, 0.3));\n",
              "      fill: #FFFFFF;\n",
              "    }\n",
              "  </style>\n",
              "\n",
              "      <script>\n",
              "        const buttonEl =\n",
              "          document.querySelector('#df-ea2b7493-928a-44ef-a395-ea7ff693ee42 button.colab-df-convert');\n",
              "        buttonEl.style.display =\n",
              "          google.colab.kernel.accessAllowed ? 'block' : 'none';\n",
              "\n",
              "        async function convertToInteractive(key) {\n",
              "          const element = document.querySelector('#df-ea2b7493-928a-44ef-a395-ea7ff693ee42');\n",
              "          const dataTable =\n",
              "            await google.colab.kernel.invokeFunction('convertToInteractive',\n",
              "                                                     [key], {});\n",
              "          if (!dataTable) return;\n",
              "\n",
              "          const docLinkHtml = 'Like what you see? Visit the ' +\n",
              "            '<a target=\"_blank\" href=https://colab.research.google.com/notebooks/data_table.ipynb>data table notebook</a>'\n",
              "            + ' to learn more about interactive tables.';\n",
              "          element.innerHTML = '';\n",
              "          dataTable['output_type'] = 'display_data';\n",
              "          await google.colab.output.renderOutput(dataTable, element);\n",
              "          const docLink = document.createElement('div');\n",
              "          docLink.innerHTML = docLinkHtml;\n",
              "          element.appendChild(docLink);\n",
              "        }\n",
              "      </script>\n",
              "    </div>\n",
              "  </div>\n",
              "  "
            ]
          },
          "metadata": {},
          "execution_count": 109
        }
      ]
    },
    {
      "cell_type": "code",
      "source": [
        "print(train_dataset[\"Dt_Customer\"].head(5))"
      ],
      "metadata": {
        "colab": {
          "base_uri": "https://localhost:8080/"
        },
        "id": "0EnrJS1rg-MA",
        "outputId": "f3a2c413-b260-4171-f778-ebb86d82f4d2"
      },
      "execution_count": null,
      "outputs": [
        {
          "output_type": "stream",
          "name": "stdout",
          "text": [
            "0   2013-01-21\n",
            "1   2014-05-24\n",
            "2   2013-04-08\n",
            "3   2014-03-29\n",
            "4   2014-06-10\n",
            "Name: Dt_Customer, dtype: datetime64[ns]\n"
          ]
        }
      ]
    },
    {
      "cell_type": "code",
      "source": [
        "#년, 월, 일 단위로 데이터 추출\n",
        "\n",
        "year = pd.to_datetime(train_dataset[\"Dt_Customer\"]).dt.year #왜 dt.year을 해야만 실행이 되지?\n",
        "month = pd.to_datetime(train_dataset[\"Dt_Customer\"]).dt.month\n",
        "day = pd.to_datetime(train_dataset[\"Dt_Customer\"]).dt.day\n",
        "\n",
        "# target과의 상관관계 출력 \n",
        "print(np.corrcoef(year, train_dataset[\"target\"]), '\\n')\n",
        "print(np.corrcoef(month, train_dataset[\"target\"]), '\\n')\n",
        "print(np.corrcoef(day, train_dataset[\"target\"]), '\\n')"
      ],
      "metadata": {
        "colab": {
          "base_uri": "https://localhost:8080/"
        },
        "id": "I7PG3UxUhdA9",
        "outputId": "444aaea2-1349-4355-8492-8724b2ba2929"
      },
      "execution_count": null,
      "outputs": [
        {
          "output_type": "stream",
          "name": "stdout",
          "text": [
            "[[ 1.         -0.15940385]\n",
            " [-0.15940385  1.        ]] \n",
            "\n",
            "[[1.         0.03764911]\n",
            " [0.03764911 1.        ]] \n",
            "\n",
            "[[1.         0.01891694]\n",
            " [0.01891694 1.        ]] \n",
            "\n"
          ]
        }
      ]
    },
    {
      "cell_type": "code",
      "source": [
        "#새롭게 생성한 변수들과 target과의 상관관계\n",
        "train_dataset[[\"Pass_Customer\", \"Age\", \"AcceptCount\", \"target\"]].corr()"
      ],
      "metadata": {
        "colab": {
          "base_uri": "https://localhost:8080/",
          "height": 175
        },
        "id": "MoQwPcUahwGk",
        "outputId": "d7d8a6d3-2290-4e99-ee13-e4c60d21ba42"
      },
      "execution_count": null,
      "outputs": [
        {
          "output_type": "execute_result",
          "data": {
            "text/plain": [
              "               Pass_Customer       Age  AcceptCount    target\n",
              "Pass_Customer       1.000000  0.012309    -0.080152 -0.174969\n",
              "Age                 0.012309  1.000000     0.043180  0.136035\n",
              "AcceptCount        -0.080152  0.043180     1.000000  0.444114\n",
              "target             -0.174969  0.136035     0.444114  1.000000"
            ],
            "text/html": [
              "\n",
              "  <div id=\"df-e88a5e18-a57e-478b-b0f7-407d86eb71da\">\n",
              "    <div class=\"colab-df-container\">\n",
              "      <div>\n",
              "<style scoped>\n",
              "    .dataframe tbody tr th:only-of-type {\n",
              "        vertical-align: middle;\n",
              "    }\n",
              "\n",
              "    .dataframe tbody tr th {\n",
              "        vertical-align: top;\n",
              "    }\n",
              "\n",
              "    .dataframe thead th {\n",
              "        text-align: right;\n",
              "    }\n",
              "</style>\n",
              "<table border=\"1\" class=\"dataframe\">\n",
              "  <thead>\n",
              "    <tr style=\"text-align: right;\">\n",
              "      <th></th>\n",
              "      <th>Pass_Customer</th>\n",
              "      <th>Age</th>\n",
              "      <th>AcceptCount</th>\n",
              "      <th>target</th>\n",
              "    </tr>\n",
              "  </thead>\n",
              "  <tbody>\n",
              "    <tr>\n",
              "      <th>Pass_Customer</th>\n",
              "      <td>1.000000</td>\n",
              "      <td>0.012309</td>\n",
              "      <td>-0.080152</td>\n",
              "      <td>-0.174969</td>\n",
              "    </tr>\n",
              "    <tr>\n",
              "      <th>Age</th>\n",
              "      <td>0.012309</td>\n",
              "      <td>1.000000</td>\n",
              "      <td>0.043180</td>\n",
              "      <td>0.136035</td>\n",
              "    </tr>\n",
              "    <tr>\n",
              "      <th>AcceptCount</th>\n",
              "      <td>-0.080152</td>\n",
              "      <td>0.043180</td>\n",
              "      <td>1.000000</td>\n",
              "      <td>0.444114</td>\n",
              "    </tr>\n",
              "    <tr>\n",
              "      <th>target</th>\n",
              "      <td>-0.174969</td>\n",
              "      <td>0.136035</td>\n",
              "      <td>0.444114</td>\n",
              "      <td>1.000000</td>\n",
              "    </tr>\n",
              "  </tbody>\n",
              "</table>\n",
              "</div>\n",
              "      <button class=\"colab-df-convert\" onclick=\"convertToInteractive('df-e88a5e18-a57e-478b-b0f7-407d86eb71da')\"\n",
              "              title=\"Convert this dataframe to an interactive table.\"\n",
              "              style=\"display:none;\">\n",
              "        \n",
              "  <svg xmlns=\"http://www.w3.org/2000/svg\" height=\"24px\"viewBox=\"0 0 24 24\"\n",
              "       width=\"24px\">\n",
              "    <path d=\"M0 0h24v24H0V0z\" fill=\"none\"/>\n",
              "    <path d=\"M18.56 5.44l.94 2.06.94-2.06 2.06-.94-2.06-.94-.94-2.06-.94 2.06-2.06.94zm-11 1L8.5 8.5l.94-2.06 2.06-.94-2.06-.94L8.5 2.5l-.94 2.06-2.06.94zm10 10l.94 2.06.94-2.06 2.06-.94-2.06-.94-.94-2.06-.94 2.06-2.06.94z\"/><path d=\"M17.41 7.96l-1.37-1.37c-.4-.4-.92-.59-1.43-.59-.52 0-1.04.2-1.43.59L10.3 9.45l-7.72 7.72c-.78.78-.78 2.05 0 2.83L4 21.41c.39.39.9.59 1.41.59.51 0 1.02-.2 1.41-.59l7.78-7.78 2.81-2.81c.8-.78.8-2.07 0-2.86zM5.41 20L4 18.59l7.72-7.72 1.47 1.35L5.41 20z\"/>\n",
              "  </svg>\n",
              "      </button>\n",
              "      \n",
              "  <style>\n",
              "    .colab-df-container {\n",
              "      display:flex;\n",
              "      flex-wrap:wrap;\n",
              "      gap: 12px;\n",
              "    }\n",
              "\n",
              "    .colab-df-convert {\n",
              "      background-color: #E8F0FE;\n",
              "      border: none;\n",
              "      border-radius: 50%;\n",
              "      cursor: pointer;\n",
              "      display: none;\n",
              "      fill: #1967D2;\n",
              "      height: 32px;\n",
              "      padding: 0 0 0 0;\n",
              "      width: 32px;\n",
              "    }\n",
              "\n",
              "    .colab-df-convert:hover {\n",
              "      background-color: #E2EBFA;\n",
              "      box-shadow: 0px 1px 2px rgba(60, 64, 67, 0.3), 0px 1px 3px 1px rgba(60, 64, 67, 0.15);\n",
              "      fill: #174EA6;\n",
              "    }\n",
              "\n",
              "    [theme=dark] .colab-df-convert {\n",
              "      background-color: #3B4455;\n",
              "      fill: #D2E3FC;\n",
              "    }\n",
              "\n",
              "    [theme=dark] .colab-df-convert:hover {\n",
              "      background-color: #434B5C;\n",
              "      box-shadow: 0px 1px 3px 1px rgba(0, 0, 0, 0.15);\n",
              "      filter: drop-shadow(0px 1px 2px rgba(0, 0, 0, 0.3));\n",
              "      fill: #FFFFFF;\n",
              "    }\n",
              "  </style>\n",
              "\n",
              "      <script>\n",
              "        const buttonEl =\n",
              "          document.querySelector('#df-e88a5e18-a57e-478b-b0f7-407d86eb71da button.colab-df-convert');\n",
              "        buttonEl.style.display =\n",
              "          google.colab.kernel.accessAllowed ? 'block' : 'none';\n",
              "\n",
              "        async function convertToInteractive(key) {\n",
              "          const element = document.querySelector('#df-e88a5e18-a57e-478b-b0f7-407d86eb71da');\n",
              "          const dataTable =\n",
              "            await google.colab.kernel.invokeFunction('convertToInteractive',\n",
              "                                                     [key], {});\n",
              "          if (!dataTable) return;\n",
              "\n",
              "          const docLinkHtml = 'Like what you see? Visit the ' +\n",
              "            '<a target=\"_blank\" href=https://colab.research.google.com/notebooks/data_table.ipynb>data table notebook</a>'\n",
              "            + ' to learn more about interactive tables.';\n",
              "          element.innerHTML = '';\n",
              "          dataTable['output_type'] = 'display_data';\n",
              "          await google.colab.output.renderOutput(dataTable, element);\n",
              "          const docLink = document.createElement('div');\n",
              "          docLink.innerHTML = docLinkHtml;\n",
              "          element.appendChild(docLink);\n",
              "        }\n",
              "      </script>\n",
              "    </div>\n",
              "  </div>\n",
              "  "
            ]
          },
          "metadata": {},
          "execution_count": 112
        }
      ]
    },
    {
      "cell_type": "code",
      "source": [
        "train_dataset.head(10)"
      ],
      "metadata": {
        "colab": {
          "base_uri": "https://localhost:8080/",
          "height": 456
        },
        "id": "TG5vf7j_ikOl",
        "outputId": "3558efb2-9426-44a8-991d-81cf9cb107c8"
      },
      "execution_count": null,
      "outputs": [
        {
          "output_type": "execute_result",
          "data": {
            "text/plain": [
              "   id  Year_Birth   Education Marital_Status   Income  Kidhome  Teenhome  \\\n",
              "0   0        1974      Master       Together  46014.0        1         1   \n",
              "1   1        1962  Graduation         Single  76624.0        0         1   \n",
              "2   2        1951  Graduation        Married  75903.0        0         1   \n",
              "3   3        1974       Basic        Married  18393.0        1         0   \n",
              "4   4        1946         PhD       Together  64014.0        2         1   \n",
              "5   5        1952  Graduation         Single  47958.0        0         1   \n",
              "6   6        1971  Graduation         Single  22804.0        1         0   \n",
              "7   7        1978  Graduation          Widow  54162.0        1         1   \n",
              "8   8        1968  Graduation        Married  45688.0        0         1   \n",
              "9   9        1952  Graduation         Single  61823.0        0         1   \n",
              "\n",
              "  Dt_Customer  Recency  NumDealsPurchases  ...  AcceptedCmp4  AcceptedCmp5  \\\n",
              "0  2013-01-21       21                 10  ...             0             0   \n",
              "1  2014-05-24       68                  1  ...             0             0   \n",
              "2  2013-04-08       50                  2  ...             0             0   \n",
              "3  2014-03-29        2                  2  ...             0             0   \n",
              "4  2014-06-10       56                  7  ...             0             0   \n",
              "5  2013-01-19        8                  2  ...             0             0   \n",
              "6  2013-07-31       75                  1  ...             0             0   \n",
              "7  2013-03-18       31                  1  ...             0             0   \n",
              "8  2014-01-25       20                  2  ...             1             0   \n",
              "9  2013-02-18       26                  4  ...             0             0   \n",
              "\n",
              "   AcceptedCmp1  AcceptedCmp2  Complain  Response  target  Pass_Customer  Age  \\\n",
              "0             0             0         0         0     541            174   49   \n",
              "1             0             0         0         0     899            662   61   \n",
              "2             0             0         0         0     901            251   72   \n",
              "3             0             0         0         0      50            606   49   \n",
              "4             1             0         0         0     444            679   77   \n",
              "5             0             0         0         0     407            172   71   \n",
              "6             0             0         0         0      26            365   52   \n",
              "7             0             0         0         0      42            230   45   \n",
              "8             0             0         0         0     306            543   55   \n",
              "9             0             0         0         0     884            202   71   \n",
              "\n",
              "   AcceptCount  \n",
              "0            0  \n",
              "1            1  \n",
              "2            0  \n",
              "3            0  \n",
              "4            1  \n",
              "5            0  \n",
              "6            0  \n",
              "7            0  \n",
              "8            1  \n",
              "9            0  \n",
              "\n",
              "[10 rows x 25 columns]"
            ],
            "text/html": [
              "\n",
              "  <div id=\"df-ff0d89af-a383-49ba-bd40-7de88e84a4ae\">\n",
              "    <div class=\"colab-df-container\">\n",
              "      <div>\n",
              "<style scoped>\n",
              "    .dataframe tbody tr th:only-of-type {\n",
              "        vertical-align: middle;\n",
              "    }\n",
              "\n",
              "    .dataframe tbody tr th {\n",
              "        vertical-align: top;\n",
              "    }\n",
              "\n",
              "    .dataframe thead th {\n",
              "        text-align: right;\n",
              "    }\n",
              "</style>\n",
              "<table border=\"1\" class=\"dataframe\">\n",
              "  <thead>\n",
              "    <tr style=\"text-align: right;\">\n",
              "      <th></th>\n",
              "      <th>id</th>\n",
              "      <th>Year_Birth</th>\n",
              "      <th>Education</th>\n",
              "      <th>Marital_Status</th>\n",
              "      <th>Income</th>\n",
              "      <th>Kidhome</th>\n",
              "      <th>Teenhome</th>\n",
              "      <th>Dt_Customer</th>\n",
              "      <th>Recency</th>\n",
              "      <th>NumDealsPurchases</th>\n",
              "      <th>...</th>\n",
              "      <th>AcceptedCmp4</th>\n",
              "      <th>AcceptedCmp5</th>\n",
              "      <th>AcceptedCmp1</th>\n",
              "      <th>AcceptedCmp2</th>\n",
              "      <th>Complain</th>\n",
              "      <th>Response</th>\n",
              "      <th>target</th>\n",
              "      <th>Pass_Customer</th>\n",
              "      <th>Age</th>\n",
              "      <th>AcceptCount</th>\n",
              "    </tr>\n",
              "  </thead>\n",
              "  <tbody>\n",
              "    <tr>\n",
              "      <th>0</th>\n",
              "      <td>0</td>\n",
              "      <td>1974</td>\n",
              "      <td>Master</td>\n",
              "      <td>Together</td>\n",
              "      <td>46014.0</td>\n",
              "      <td>1</td>\n",
              "      <td>1</td>\n",
              "      <td>2013-01-21</td>\n",
              "      <td>21</td>\n",
              "      <td>10</td>\n",
              "      <td>...</td>\n",
              "      <td>0</td>\n",
              "      <td>0</td>\n",
              "      <td>0</td>\n",
              "      <td>0</td>\n",
              "      <td>0</td>\n",
              "      <td>0</td>\n",
              "      <td>541</td>\n",
              "      <td>174</td>\n",
              "      <td>49</td>\n",
              "      <td>0</td>\n",
              "    </tr>\n",
              "    <tr>\n",
              "      <th>1</th>\n",
              "      <td>1</td>\n",
              "      <td>1962</td>\n",
              "      <td>Graduation</td>\n",
              "      <td>Single</td>\n",
              "      <td>76624.0</td>\n",
              "      <td>0</td>\n",
              "      <td>1</td>\n",
              "      <td>2014-05-24</td>\n",
              "      <td>68</td>\n",
              "      <td>1</td>\n",
              "      <td>...</td>\n",
              "      <td>0</td>\n",
              "      <td>0</td>\n",
              "      <td>0</td>\n",
              "      <td>0</td>\n",
              "      <td>0</td>\n",
              "      <td>0</td>\n",
              "      <td>899</td>\n",
              "      <td>662</td>\n",
              "      <td>61</td>\n",
              "      <td>1</td>\n",
              "    </tr>\n",
              "    <tr>\n",
              "      <th>2</th>\n",
              "      <td>2</td>\n",
              "      <td>1951</td>\n",
              "      <td>Graduation</td>\n",
              "      <td>Married</td>\n",
              "      <td>75903.0</td>\n",
              "      <td>0</td>\n",
              "      <td>1</td>\n",
              "      <td>2013-04-08</td>\n",
              "      <td>50</td>\n",
              "      <td>2</td>\n",
              "      <td>...</td>\n",
              "      <td>0</td>\n",
              "      <td>0</td>\n",
              "      <td>0</td>\n",
              "      <td>0</td>\n",
              "      <td>0</td>\n",
              "      <td>0</td>\n",
              "      <td>901</td>\n",
              "      <td>251</td>\n",
              "      <td>72</td>\n",
              "      <td>0</td>\n",
              "    </tr>\n",
              "    <tr>\n",
              "      <th>3</th>\n",
              "      <td>3</td>\n",
              "      <td>1974</td>\n",
              "      <td>Basic</td>\n",
              "      <td>Married</td>\n",
              "      <td>18393.0</td>\n",
              "      <td>1</td>\n",
              "      <td>0</td>\n",
              "      <td>2014-03-29</td>\n",
              "      <td>2</td>\n",
              "      <td>2</td>\n",
              "      <td>...</td>\n",
              "      <td>0</td>\n",
              "      <td>0</td>\n",
              "      <td>0</td>\n",
              "      <td>0</td>\n",
              "      <td>0</td>\n",
              "      <td>0</td>\n",
              "      <td>50</td>\n",
              "      <td>606</td>\n",
              "      <td>49</td>\n",
              "      <td>0</td>\n",
              "    </tr>\n",
              "    <tr>\n",
              "      <th>4</th>\n",
              "      <td>4</td>\n",
              "      <td>1946</td>\n",
              "      <td>PhD</td>\n",
              "      <td>Together</td>\n",
              "      <td>64014.0</td>\n",
              "      <td>2</td>\n",
              "      <td>1</td>\n",
              "      <td>2014-06-10</td>\n",
              "      <td>56</td>\n",
              "      <td>7</td>\n",
              "      <td>...</td>\n",
              "      <td>0</td>\n",
              "      <td>0</td>\n",
              "      <td>1</td>\n",
              "      <td>0</td>\n",
              "      <td>0</td>\n",
              "      <td>0</td>\n",
              "      <td>444</td>\n",
              "      <td>679</td>\n",
              "      <td>77</td>\n",
              "      <td>1</td>\n",
              "    </tr>\n",
              "    <tr>\n",
              "      <th>5</th>\n",
              "      <td>5</td>\n",
              "      <td>1952</td>\n",
              "      <td>Graduation</td>\n",
              "      <td>Single</td>\n",
              "      <td>47958.0</td>\n",
              "      <td>0</td>\n",
              "      <td>1</td>\n",
              "      <td>2013-01-19</td>\n",
              "      <td>8</td>\n",
              "      <td>2</td>\n",
              "      <td>...</td>\n",
              "      <td>0</td>\n",
              "      <td>0</td>\n",
              "      <td>0</td>\n",
              "      <td>0</td>\n",
              "      <td>0</td>\n",
              "      <td>0</td>\n",
              "      <td>407</td>\n",
              "      <td>172</td>\n",
              "      <td>71</td>\n",
              "      <td>0</td>\n",
              "    </tr>\n",
              "    <tr>\n",
              "      <th>6</th>\n",
              "      <td>6</td>\n",
              "      <td>1971</td>\n",
              "      <td>Graduation</td>\n",
              "      <td>Single</td>\n",
              "      <td>22804.0</td>\n",
              "      <td>1</td>\n",
              "      <td>0</td>\n",
              "      <td>2013-07-31</td>\n",
              "      <td>75</td>\n",
              "      <td>1</td>\n",
              "      <td>...</td>\n",
              "      <td>0</td>\n",
              "      <td>0</td>\n",
              "      <td>0</td>\n",
              "      <td>0</td>\n",
              "      <td>0</td>\n",
              "      <td>0</td>\n",
              "      <td>26</td>\n",
              "      <td>365</td>\n",
              "      <td>52</td>\n",
              "      <td>0</td>\n",
              "    </tr>\n",
              "    <tr>\n",
              "      <th>7</th>\n",
              "      <td>7</td>\n",
              "      <td>1978</td>\n",
              "      <td>Graduation</td>\n",
              "      <td>Widow</td>\n",
              "      <td>54162.0</td>\n",
              "      <td>1</td>\n",
              "      <td>1</td>\n",
              "      <td>2013-03-18</td>\n",
              "      <td>31</td>\n",
              "      <td>1</td>\n",
              "      <td>...</td>\n",
              "      <td>0</td>\n",
              "      <td>0</td>\n",
              "      <td>0</td>\n",
              "      <td>0</td>\n",
              "      <td>0</td>\n",
              "      <td>0</td>\n",
              "      <td>42</td>\n",
              "      <td>230</td>\n",
              "      <td>45</td>\n",
              "      <td>0</td>\n",
              "    </tr>\n",
              "    <tr>\n",
              "      <th>8</th>\n",
              "      <td>8</td>\n",
              "      <td>1968</td>\n",
              "      <td>Graduation</td>\n",
              "      <td>Married</td>\n",
              "      <td>45688.0</td>\n",
              "      <td>0</td>\n",
              "      <td>1</td>\n",
              "      <td>2014-01-25</td>\n",
              "      <td>20</td>\n",
              "      <td>2</td>\n",
              "      <td>...</td>\n",
              "      <td>1</td>\n",
              "      <td>0</td>\n",
              "      <td>0</td>\n",
              "      <td>0</td>\n",
              "      <td>0</td>\n",
              "      <td>0</td>\n",
              "      <td>306</td>\n",
              "      <td>543</td>\n",
              "      <td>55</td>\n",
              "      <td>1</td>\n",
              "    </tr>\n",
              "    <tr>\n",
              "      <th>9</th>\n",
              "      <td>9</td>\n",
              "      <td>1952</td>\n",
              "      <td>Graduation</td>\n",
              "      <td>Single</td>\n",
              "      <td>61823.0</td>\n",
              "      <td>0</td>\n",
              "      <td>1</td>\n",
              "      <td>2013-02-18</td>\n",
              "      <td>26</td>\n",
              "      <td>4</td>\n",
              "      <td>...</td>\n",
              "      <td>0</td>\n",
              "      <td>0</td>\n",
              "      <td>0</td>\n",
              "      <td>0</td>\n",
              "      <td>0</td>\n",
              "      <td>0</td>\n",
              "      <td>884</td>\n",
              "      <td>202</td>\n",
              "      <td>71</td>\n",
              "      <td>0</td>\n",
              "    </tr>\n",
              "  </tbody>\n",
              "</table>\n",
              "<p>10 rows × 25 columns</p>\n",
              "</div>\n",
              "      <button class=\"colab-df-convert\" onclick=\"convertToInteractive('df-ff0d89af-a383-49ba-bd40-7de88e84a4ae')\"\n",
              "              title=\"Convert this dataframe to an interactive table.\"\n",
              "              style=\"display:none;\">\n",
              "        \n",
              "  <svg xmlns=\"http://www.w3.org/2000/svg\" height=\"24px\"viewBox=\"0 0 24 24\"\n",
              "       width=\"24px\">\n",
              "    <path d=\"M0 0h24v24H0V0z\" fill=\"none\"/>\n",
              "    <path d=\"M18.56 5.44l.94 2.06.94-2.06 2.06-.94-2.06-.94-.94-2.06-.94 2.06-2.06.94zm-11 1L8.5 8.5l.94-2.06 2.06-.94-2.06-.94L8.5 2.5l-.94 2.06-2.06.94zm10 10l.94 2.06.94-2.06 2.06-.94-2.06-.94-.94-2.06-.94 2.06-2.06.94z\"/><path d=\"M17.41 7.96l-1.37-1.37c-.4-.4-.92-.59-1.43-.59-.52 0-1.04.2-1.43.59L10.3 9.45l-7.72 7.72c-.78.78-.78 2.05 0 2.83L4 21.41c.39.39.9.59 1.41.59.51 0 1.02-.2 1.41-.59l7.78-7.78 2.81-2.81c.8-.78.8-2.07 0-2.86zM5.41 20L4 18.59l7.72-7.72 1.47 1.35L5.41 20z\"/>\n",
              "  </svg>\n",
              "      </button>\n",
              "      \n",
              "  <style>\n",
              "    .colab-df-container {\n",
              "      display:flex;\n",
              "      flex-wrap:wrap;\n",
              "      gap: 12px;\n",
              "    }\n",
              "\n",
              "    .colab-df-convert {\n",
              "      background-color: #E8F0FE;\n",
              "      border: none;\n",
              "      border-radius: 50%;\n",
              "      cursor: pointer;\n",
              "      display: none;\n",
              "      fill: #1967D2;\n",
              "      height: 32px;\n",
              "      padding: 0 0 0 0;\n",
              "      width: 32px;\n",
              "    }\n",
              "\n",
              "    .colab-df-convert:hover {\n",
              "      background-color: #E2EBFA;\n",
              "      box-shadow: 0px 1px 2px rgba(60, 64, 67, 0.3), 0px 1px 3px 1px rgba(60, 64, 67, 0.15);\n",
              "      fill: #174EA6;\n",
              "    }\n",
              "\n",
              "    [theme=dark] .colab-df-convert {\n",
              "      background-color: #3B4455;\n",
              "      fill: #D2E3FC;\n",
              "    }\n",
              "\n",
              "    [theme=dark] .colab-df-convert:hover {\n",
              "      background-color: #434B5C;\n",
              "      box-shadow: 0px 1px 3px 1px rgba(0, 0, 0, 0.15);\n",
              "      filter: drop-shadow(0px 1px 2px rgba(0, 0, 0, 0.3));\n",
              "      fill: #FFFFFF;\n",
              "    }\n",
              "  </style>\n",
              "\n",
              "      <script>\n",
              "        const buttonEl =\n",
              "          document.querySelector('#df-ff0d89af-a383-49ba-bd40-7de88e84a4ae button.colab-df-convert');\n",
              "        buttonEl.style.display =\n",
              "          google.colab.kernel.accessAllowed ? 'block' : 'none';\n",
              "\n",
              "        async function convertToInteractive(key) {\n",
              "          const element = document.querySelector('#df-ff0d89af-a383-49ba-bd40-7de88e84a4ae');\n",
              "          const dataTable =\n",
              "            await google.colab.kernel.invokeFunction('convertToInteractive',\n",
              "                                                     [key], {});\n",
              "          if (!dataTable) return;\n",
              "\n",
              "          const docLinkHtml = 'Like what you see? Visit the ' +\n",
              "            '<a target=\"_blank\" href=https://colab.research.google.com/notebooks/data_table.ipynb>data table notebook</a>'\n",
              "            + ' to learn more about interactive tables.';\n",
              "          element.innerHTML = '';\n",
              "          dataTable['output_type'] = 'display_data';\n",
              "          await google.colab.output.renderOutput(dataTable, element);\n",
              "          const docLink = document.createElement('div');\n",
              "          docLink.innerHTML = docLinkHtml;\n",
              "          element.appendChild(docLink);\n",
              "        }\n",
              "      </script>\n",
              "    </div>\n",
              "  </div>\n",
              "  "
            ]
          },
          "metadata": {},
          "execution_count": 113
        }
      ]
    },
    {
      "cell_type": "markdown",
      "source": [
        "#모델링을 위한 데이터 전처리"
      ],
      "metadata": {
        "id": "ryk6p44g0OxT"
      }
    },
    {
      "cell_type": "code",
      "source": [
        "# 새롭게 변수를 생성한 데이터 셋을 다시 복제해 모델 학습 데이터로 사용\n",
        "train_data = train_dataset.copy()\n",
        "test_data = test_dataset.copy()"
      ],
      "metadata": {
        "id": "sbvmX13ki3oX"
      },
      "execution_count": null,
      "outputs": []
    },
    {
      "cell_type": "code",
      "source": [
        "#원-핫 인코딩을 위한 데이터 전처리\n",
        "\n",
        "#사용하지 않는 변수 제거\n",
        "drop_col = ['Dt_Customer', 'Year_Birth', 'AcceptedCmp1', 'AcceptedCmp2', 'AcceptedCmp3', 'AcceptedCmp4', 'AcceptedCmp5', 'Response']\n",
        "train_data = train_data.drop(drop_col, axis=1) #열 기준으로 삭제\n",
        "test_data = test_data.drop(drop_col, axis=1)"
      ],
      "metadata": {
        "id": "EgJ8bV24jDZP"
      },
      "execution_count": null,
      "outputs": []
    },
    {
      "cell_type": "code",
      "source": [
        "# unique 함수 : 지정한 변수에 대응되는 데이터에 고유값들이 어떠한 종류들이 있는지 알고 싶을때 사용하는 함수\n",
        "print(train_data[\"Education\"].unique())\n",
        "print(train_data[\"Marital_Status\"].unique())\n"
      ],
      "metadata": {
        "colab": {
          "base_uri": "https://localhost:8080/"
        },
        "id": "6YFv4Yujjovj",
        "outputId": "48b64c56-51b5-46ed-9026-b803e813e619"
      },
      "execution_count": null,
      "outputs": [
        {
          "output_type": "stream",
          "name": "stdout",
          "text": [
            "['Master' 'Graduation' 'Basic' 'PhD' '2n Cycle']\n",
            "['Together' 'Single' 'Married' 'Widow' 'Divorced' 'Alone' 'YOLO' 'Absurd']\n"
          ]
        }
      ]
    },
    {
      "cell_type": "code",
      "source": [
        "#원-핫 인코딩\n",
        "\n",
        "train_data = pd.get_dummies(train_data)\n",
        "test_data = pd.get_dummies(test_data)\n",
        "\n",
        "print(train_data.head(10)) #Education과 Marital_Status의 데이터를 기준으로 pd.get_dummies로 더미화를 시킨 것을 볼 수 있음"
      ],
      "metadata": {
        "colab": {
          "base_uri": "https://localhost:8080/"
        },
        "id": "gzkFro6JkiQD",
        "outputId": "1c84d22b-6f1d-4816-d090-0a464e0f75d1"
      },
      "execution_count": null,
      "outputs": [
        {
          "output_type": "stream",
          "name": "stdout",
          "text": [
            "   id   Income  Kidhome  Teenhome  Recency  NumDealsPurchases  \\\n",
            "0   0  46014.0        1         1       21                 10   \n",
            "1   1  76624.0        0         1       68                  1   \n",
            "2   2  75903.0        0         1       50                  2   \n",
            "3   3  18393.0        1         0        2                  2   \n",
            "4   4  64014.0        2         1       56                  7   \n",
            "5   5  47958.0        0         1        8                  2   \n",
            "6   6  22804.0        1         0       75                  1   \n",
            "7   7  54162.0        1         1       31                  1   \n",
            "8   8  45688.0        0         1       20                  2   \n",
            "9   9  61823.0        0         1       26                  4   \n",
            "\n",
            "   NumWebPurchases  NumCatalogPurchases  NumStorePurchases  NumWebVisitsMonth  \\\n",
            "0                7                    1                  8                  7   \n",
            "1                5                   10                  7                  1   \n",
            "2                6                    6                  9                  3   \n",
            "3                3                    0                  3                  8   \n",
            "4                8                    2                  5                  7   \n",
            "5                6                    3                  5                  5   \n",
            "6                2                    0                  2                  9   \n",
            "7                1                    0                  3                  4   \n",
            "8                3                    1                  8                  4   \n",
            "9                8                    2                 10                  7   \n",
            "\n",
            "   ...  Education_Master  Education_PhD  Marital_Status_Absurd  \\\n",
            "0  ...                 1              0                      0   \n",
            "1  ...                 0              0                      0   \n",
            "2  ...                 0              0                      0   \n",
            "3  ...                 0              0                      0   \n",
            "4  ...                 0              1                      0   \n",
            "5  ...                 0              0                      0   \n",
            "6  ...                 0              0                      0   \n",
            "7  ...                 0              0                      0   \n",
            "8  ...                 0              0                      0   \n",
            "9  ...                 0              0                      0   \n",
            "\n",
            "   Marital_Status_Alone  Marital_Status_Divorced  Marital_Status_Married  \\\n",
            "0                     0                        0                       0   \n",
            "1                     0                        0                       0   \n",
            "2                     0                        0                       1   \n",
            "3                     0                        0                       1   \n",
            "4                     0                        0                       0   \n",
            "5                     0                        0                       0   \n",
            "6                     0                        0                       0   \n",
            "7                     0                        0                       0   \n",
            "8                     0                        0                       1   \n",
            "9                     0                        0                       0   \n",
            "\n",
            "   Marital_Status_Single  Marital_Status_Together  Marital_Status_Widow  \\\n",
            "0                      0                        1                     0   \n",
            "1                      1                        0                     0   \n",
            "2                      0                        0                     0   \n",
            "3                      0                        0                     0   \n",
            "4                      0                        1                     0   \n",
            "5                      1                        0                     0   \n",
            "6                      1                        0                     0   \n",
            "7                      0                        0                     1   \n",
            "8                      0                        0                     0   \n",
            "9                      1                        0                     0   \n",
            "\n",
            "   Marital_Status_YOLO  \n",
            "0                    0  \n",
            "1                    0  \n",
            "2                    0  \n",
            "3                    0  \n",
            "4                    0  \n",
            "5                    0  \n",
            "6                    0  \n",
            "7                    0  \n",
            "8                    0  \n",
            "9                    0  \n",
            "\n",
            "[10 rows x 28 columns]\n"
          ]
        }
      ]
    },
    {
      "cell_type": "code",
      "source": [
        "print(\"Length of train column : \", len(train_data.columns))\n",
        "print(\"Length of test column : \", len(test_data.columns))"
      ],
      "metadata": {
        "colab": {
          "base_uri": "https://localhost:8080/"
        },
        "id": "qg5JIw3ytYr8",
        "outputId": "4a2029db-d76c-4084-8c36-06f44c59031d"
      },
      "execution_count": null,
      "outputs": [
        {
          "output_type": "stream",
          "name": "stdout",
          "text": [
            "Length of train column :  28\n",
            "Length of test column :  27\n"
          ]
        }
      ]
    },
    {
      "cell_type": "code",
      "source": [
        "print(train_data.columns)\n",
        "print(test_data.columns)"
      ],
      "metadata": {
        "colab": {
          "base_uri": "https://localhost:8080/"
        },
        "id": "g3PNRb8tttyI",
        "outputId": "78e72885-e622-4257-e967-e4f0277a6c5f"
      },
      "execution_count": null,
      "outputs": [
        {
          "output_type": "stream",
          "name": "stdout",
          "text": [
            "Index(['id', 'Income', 'Kidhome', 'Teenhome', 'Recency', 'NumDealsPurchases',\n",
            "       'NumWebPurchases', 'NumCatalogPurchases', 'NumStorePurchases',\n",
            "       'NumWebVisitsMonth', 'Complain', 'target', 'Pass_Customer', 'Age',\n",
            "       'AcceptCount', 'Education_2n Cycle', 'Education_Basic',\n",
            "       'Education_Graduation', 'Education_Master', 'Education_PhD',\n",
            "       'Marital_Status_Absurd', 'Marital_Status_Alone',\n",
            "       'Marital_Status_Divorced', 'Marital_Status_Married',\n",
            "       'Marital_Status_Single', 'Marital_Status_Together',\n",
            "       'Marital_Status_Widow', 'Marital_Status_YOLO'],\n",
            "      dtype='object')\n",
            "Index(['id', 'Income', 'Kidhome', 'Teenhome', 'Recency', 'NumDealsPurchases',\n",
            "       'NumWebPurchases', 'NumCatalogPurchases', 'NumStorePurchases',\n",
            "       'NumWebVisitsMonth', 'Complain', 'Pass_Customer', 'Age', 'AcceptCount',\n",
            "       'Education_2n Cycle', 'Education_Basic', 'Education_Graduation',\n",
            "       'Education_Master', 'Education_PhD', 'Marital_Status_Absurd',\n",
            "       'Marital_Status_Alone', 'Marital_Status_Divorced',\n",
            "       'Marital_Status_Married', 'Marital_Status_Single',\n",
            "       'Marital_Status_Together', 'Marital_Status_Widow',\n",
            "       'Marital_Status_YOLO'],\n",
            "      dtype='object')\n"
          ]
        }
      ]
    },
    {
      "cell_type": "code",
      "source": [
        "train_data.head()"
      ],
      "metadata": {
        "id": "XyFQqvCTlS9I",
        "colab": {
          "base_uri": "https://localhost:8080/",
          "height": 300
        },
        "outputId": "826660ab-db5d-40ac-c32d-a22033af3b53"
      },
      "execution_count": null,
      "outputs": [
        {
          "output_type": "execute_result",
          "data": {
            "text/plain": [
              "   id   Income  Kidhome  Teenhome  Recency  NumDealsPurchases  \\\n",
              "0   0  46014.0        1         1       21                 10   \n",
              "1   1  76624.0        0         1       68                  1   \n",
              "2   2  75903.0        0         1       50                  2   \n",
              "3   3  18393.0        1         0        2                  2   \n",
              "4   4  64014.0        2         1       56                  7   \n",
              "\n",
              "   NumWebPurchases  NumCatalogPurchases  NumStorePurchases  NumWebVisitsMonth  \\\n",
              "0                7                    1                  8                  7   \n",
              "1                5                   10                  7                  1   \n",
              "2                6                    6                  9                  3   \n",
              "3                3                    0                  3                  8   \n",
              "4                8                    2                  5                  7   \n",
              "\n",
              "   ...  Education_Master  Education_PhD  Marital_Status_Absurd  \\\n",
              "0  ...                 1              0                      0   \n",
              "1  ...                 0              0                      0   \n",
              "2  ...                 0              0                      0   \n",
              "3  ...                 0              0                      0   \n",
              "4  ...                 0              1                      0   \n",
              "\n",
              "   Marital_Status_Alone  Marital_Status_Divorced  Marital_Status_Married  \\\n",
              "0                     0                        0                       0   \n",
              "1                     0                        0                       0   \n",
              "2                     0                        0                       1   \n",
              "3                     0                        0                       1   \n",
              "4                     0                        0                       0   \n",
              "\n",
              "   Marital_Status_Single  Marital_Status_Together  Marital_Status_Widow  \\\n",
              "0                      0                        1                     0   \n",
              "1                      1                        0                     0   \n",
              "2                      0                        0                     0   \n",
              "3                      0                        0                     0   \n",
              "4                      0                        1                     0   \n",
              "\n",
              "   Marital_Status_YOLO  \n",
              "0                    0  \n",
              "1                    0  \n",
              "2                    0  \n",
              "3                    0  \n",
              "4                    0  \n",
              "\n",
              "[5 rows x 28 columns]"
            ],
            "text/html": [
              "\n",
              "  <div id=\"df-67780277-27c7-4992-b531-3e40f9384efb\">\n",
              "    <div class=\"colab-df-container\">\n",
              "      <div>\n",
              "<style scoped>\n",
              "    .dataframe tbody tr th:only-of-type {\n",
              "        vertical-align: middle;\n",
              "    }\n",
              "\n",
              "    .dataframe tbody tr th {\n",
              "        vertical-align: top;\n",
              "    }\n",
              "\n",
              "    .dataframe thead th {\n",
              "        text-align: right;\n",
              "    }\n",
              "</style>\n",
              "<table border=\"1\" class=\"dataframe\">\n",
              "  <thead>\n",
              "    <tr style=\"text-align: right;\">\n",
              "      <th></th>\n",
              "      <th>id</th>\n",
              "      <th>Income</th>\n",
              "      <th>Kidhome</th>\n",
              "      <th>Teenhome</th>\n",
              "      <th>Recency</th>\n",
              "      <th>NumDealsPurchases</th>\n",
              "      <th>NumWebPurchases</th>\n",
              "      <th>NumCatalogPurchases</th>\n",
              "      <th>NumStorePurchases</th>\n",
              "      <th>NumWebVisitsMonth</th>\n",
              "      <th>...</th>\n",
              "      <th>Education_Master</th>\n",
              "      <th>Education_PhD</th>\n",
              "      <th>Marital_Status_Absurd</th>\n",
              "      <th>Marital_Status_Alone</th>\n",
              "      <th>Marital_Status_Divorced</th>\n",
              "      <th>Marital_Status_Married</th>\n",
              "      <th>Marital_Status_Single</th>\n",
              "      <th>Marital_Status_Together</th>\n",
              "      <th>Marital_Status_Widow</th>\n",
              "      <th>Marital_Status_YOLO</th>\n",
              "    </tr>\n",
              "  </thead>\n",
              "  <tbody>\n",
              "    <tr>\n",
              "      <th>0</th>\n",
              "      <td>0</td>\n",
              "      <td>46014.0</td>\n",
              "      <td>1</td>\n",
              "      <td>1</td>\n",
              "      <td>21</td>\n",
              "      <td>10</td>\n",
              "      <td>7</td>\n",
              "      <td>1</td>\n",
              "      <td>8</td>\n",
              "      <td>7</td>\n",
              "      <td>...</td>\n",
              "      <td>1</td>\n",
              "      <td>0</td>\n",
              "      <td>0</td>\n",
              "      <td>0</td>\n",
              "      <td>0</td>\n",
              "      <td>0</td>\n",
              "      <td>0</td>\n",
              "      <td>1</td>\n",
              "      <td>0</td>\n",
              "      <td>0</td>\n",
              "    </tr>\n",
              "    <tr>\n",
              "      <th>1</th>\n",
              "      <td>1</td>\n",
              "      <td>76624.0</td>\n",
              "      <td>0</td>\n",
              "      <td>1</td>\n",
              "      <td>68</td>\n",
              "      <td>1</td>\n",
              "      <td>5</td>\n",
              "      <td>10</td>\n",
              "      <td>7</td>\n",
              "      <td>1</td>\n",
              "      <td>...</td>\n",
              "      <td>0</td>\n",
              "      <td>0</td>\n",
              "      <td>0</td>\n",
              "      <td>0</td>\n",
              "      <td>0</td>\n",
              "      <td>0</td>\n",
              "      <td>1</td>\n",
              "      <td>0</td>\n",
              "      <td>0</td>\n",
              "      <td>0</td>\n",
              "    </tr>\n",
              "    <tr>\n",
              "      <th>2</th>\n",
              "      <td>2</td>\n",
              "      <td>75903.0</td>\n",
              "      <td>0</td>\n",
              "      <td>1</td>\n",
              "      <td>50</td>\n",
              "      <td>2</td>\n",
              "      <td>6</td>\n",
              "      <td>6</td>\n",
              "      <td>9</td>\n",
              "      <td>3</td>\n",
              "      <td>...</td>\n",
              "      <td>0</td>\n",
              "      <td>0</td>\n",
              "      <td>0</td>\n",
              "      <td>0</td>\n",
              "      <td>0</td>\n",
              "      <td>1</td>\n",
              "      <td>0</td>\n",
              "      <td>0</td>\n",
              "      <td>0</td>\n",
              "      <td>0</td>\n",
              "    </tr>\n",
              "    <tr>\n",
              "      <th>3</th>\n",
              "      <td>3</td>\n",
              "      <td>18393.0</td>\n",
              "      <td>1</td>\n",
              "      <td>0</td>\n",
              "      <td>2</td>\n",
              "      <td>2</td>\n",
              "      <td>3</td>\n",
              "      <td>0</td>\n",
              "      <td>3</td>\n",
              "      <td>8</td>\n",
              "      <td>...</td>\n",
              "      <td>0</td>\n",
              "      <td>0</td>\n",
              "      <td>0</td>\n",
              "      <td>0</td>\n",
              "      <td>0</td>\n",
              "      <td>1</td>\n",
              "      <td>0</td>\n",
              "      <td>0</td>\n",
              "      <td>0</td>\n",
              "      <td>0</td>\n",
              "    </tr>\n",
              "    <tr>\n",
              "      <th>4</th>\n",
              "      <td>4</td>\n",
              "      <td>64014.0</td>\n",
              "      <td>2</td>\n",
              "      <td>1</td>\n",
              "      <td>56</td>\n",
              "      <td>7</td>\n",
              "      <td>8</td>\n",
              "      <td>2</td>\n",
              "      <td>5</td>\n",
              "      <td>7</td>\n",
              "      <td>...</td>\n",
              "      <td>0</td>\n",
              "      <td>1</td>\n",
              "      <td>0</td>\n",
              "      <td>0</td>\n",
              "      <td>0</td>\n",
              "      <td>0</td>\n",
              "      <td>0</td>\n",
              "      <td>1</td>\n",
              "      <td>0</td>\n",
              "      <td>0</td>\n",
              "    </tr>\n",
              "  </tbody>\n",
              "</table>\n",
              "<p>5 rows × 28 columns</p>\n",
              "</div>\n",
              "      <button class=\"colab-df-convert\" onclick=\"convertToInteractive('df-67780277-27c7-4992-b531-3e40f9384efb')\"\n",
              "              title=\"Convert this dataframe to an interactive table.\"\n",
              "              style=\"display:none;\">\n",
              "        \n",
              "  <svg xmlns=\"http://www.w3.org/2000/svg\" height=\"24px\"viewBox=\"0 0 24 24\"\n",
              "       width=\"24px\">\n",
              "    <path d=\"M0 0h24v24H0V0z\" fill=\"none\"/>\n",
              "    <path d=\"M18.56 5.44l.94 2.06.94-2.06 2.06-.94-2.06-.94-.94-2.06-.94 2.06-2.06.94zm-11 1L8.5 8.5l.94-2.06 2.06-.94-2.06-.94L8.5 2.5l-.94 2.06-2.06.94zm10 10l.94 2.06.94-2.06 2.06-.94-2.06-.94-.94-2.06-.94 2.06-2.06.94z\"/><path d=\"M17.41 7.96l-1.37-1.37c-.4-.4-.92-.59-1.43-.59-.52 0-1.04.2-1.43.59L10.3 9.45l-7.72 7.72c-.78.78-.78 2.05 0 2.83L4 21.41c.39.39.9.59 1.41.59.51 0 1.02-.2 1.41-.59l7.78-7.78 2.81-2.81c.8-.78.8-2.07 0-2.86zM5.41 20L4 18.59l7.72-7.72 1.47 1.35L5.41 20z\"/>\n",
              "  </svg>\n",
              "      </button>\n",
              "      \n",
              "  <style>\n",
              "    .colab-df-container {\n",
              "      display:flex;\n",
              "      flex-wrap:wrap;\n",
              "      gap: 12px;\n",
              "    }\n",
              "\n",
              "    .colab-df-convert {\n",
              "      background-color: #E8F0FE;\n",
              "      border: none;\n",
              "      border-radius: 50%;\n",
              "      cursor: pointer;\n",
              "      display: none;\n",
              "      fill: #1967D2;\n",
              "      height: 32px;\n",
              "      padding: 0 0 0 0;\n",
              "      width: 32px;\n",
              "    }\n",
              "\n",
              "    .colab-df-convert:hover {\n",
              "      background-color: #E2EBFA;\n",
              "      box-shadow: 0px 1px 2px rgba(60, 64, 67, 0.3), 0px 1px 3px 1px rgba(60, 64, 67, 0.15);\n",
              "      fill: #174EA6;\n",
              "    }\n",
              "\n",
              "    [theme=dark] .colab-df-convert {\n",
              "      background-color: #3B4455;\n",
              "      fill: #D2E3FC;\n",
              "    }\n",
              "\n",
              "    [theme=dark] .colab-df-convert:hover {\n",
              "      background-color: #434B5C;\n",
              "      box-shadow: 0px 1px 3px 1px rgba(0, 0, 0, 0.15);\n",
              "      filter: drop-shadow(0px 1px 2px rgba(0, 0, 0, 0.3));\n",
              "      fill: #FFFFFF;\n",
              "    }\n",
              "  </style>\n",
              "\n",
              "      <script>\n",
              "        const buttonEl =\n",
              "          document.querySelector('#df-67780277-27c7-4992-b531-3e40f9384efb button.colab-df-convert');\n",
              "        buttonEl.style.display =\n",
              "          google.colab.kernel.accessAllowed ? 'block' : 'none';\n",
              "\n",
              "        async function convertToInteractive(key) {\n",
              "          const element = document.querySelector('#df-67780277-27c7-4992-b531-3e40f9384efb');\n",
              "          const dataTable =\n",
              "            await google.colab.kernel.invokeFunction('convertToInteractive',\n",
              "                                                     [key], {});\n",
              "          if (!dataTable) return;\n",
              "\n",
              "          const docLinkHtml = 'Like what you see? Visit the ' +\n",
              "            '<a target=\"_blank\" href=https://colab.research.google.com/notebooks/data_table.ipynb>data table notebook</a>'\n",
              "            + ' to learn more about interactive tables.';\n",
              "          element.innerHTML = '';\n",
              "          dataTable['output_type'] = 'display_data';\n",
              "          await google.colab.output.renderOutput(dataTable, element);\n",
              "          const docLink = document.createElement('div');\n",
              "          docLink.innerHTML = docLinkHtml;\n",
              "          element.appendChild(docLink);\n",
              "        }\n",
              "      </script>\n",
              "    </div>\n",
              "  </div>\n",
              "  "
            ]
          },
          "metadata": {},
          "execution_count": 120
        }
      ]
    },
    {
      "cell_type": "code",
      "source": [
        "drop_col = ['id', 'target']\n",
        "\n",
        "train_x = train_data.drop(drop_col, axis=1)  \n",
        "train_y = pd.DataFrame(train_data['target'])"
      ],
      "metadata": {
        "id": "n6KSl5pcdtCf"
      },
      "execution_count": null,
      "outputs": []
    },
    {
      "cell_type": "code",
      "source": [
        "print(train_x)"
      ],
      "metadata": {
        "colab": {
          "base_uri": "https://localhost:8080/"
        },
        "id": "c-hcEgIFeaPL",
        "outputId": "7f866bab-6094-4ec7-cf7d-9cc61b4ef115"
      },
      "execution_count": null,
      "outputs": [
        {
          "output_type": "stream",
          "name": "stdout",
          "text": [
            "       Income  Kidhome  Teenhome  Recency  NumDealsPurchases  NumWebPurchases  \\\n",
            "0     46014.0        1         1       21                 10                7   \n",
            "1     76624.0        0         1       68                  1                5   \n",
            "2     75903.0        0         1       50                  2                6   \n",
            "3     18393.0        1         0        2                  2                3   \n",
            "4     64014.0        2         1       56                  7                8   \n",
            "...       ...      ...       ...      ...                ...              ...   \n",
            "1103  46097.0        0         1       11                  5                3   \n",
            "1104  23477.0        1         0       39                  3                3   \n",
            "1105  37368.0        1         0        4                  1                1   \n",
            "1106  53034.0        1         1       30                  8                6   \n",
            "1107  46610.0        0         2        8                  6                4   \n",
            "\n",
            "      NumCatalogPurchases  NumStorePurchases  NumWebVisitsMonth  Complain  \\\n",
            "0                       1                  8                  7         0   \n",
            "1                      10                  7                  1         0   \n",
            "2                       6                  9                  3         0   \n",
            "3                       0                  3                  8         0   \n",
            "4                       2                  5                  7         0   \n",
            "...                   ...                ...                ...       ...   \n",
            "1103                    1                  6                  4         0   \n",
            "1104                    0                  4                  8         0   \n",
            "1105                    0                  2                  6         0   \n",
            "1106                    1                  7                  8         0   \n",
            "1107                    1                  6                  6         0   \n",
            "\n",
            "      ...  Education_Master  Education_PhD  Marital_Status_Absurd  \\\n",
            "0     ...                 1              0                      0   \n",
            "1     ...                 0              0                      0   \n",
            "2     ...                 0              0                      0   \n",
            "3     ...                 0              0                      0   \n",
            "4     ...                 0              1                      0   \n",
            "...   ...               ...            ...                    ...   \n",
            "1103  ...                 0              0                      0   \n",
            "1104  ...                 0              0                      0   \n",
            "1105  ...                 1              0                      0   \n",
            "1106  ...                 0              0                      0   \n",
            "1107  ...                 0              1                      0   \n",
            "\n",
            "      Marital_Status_Alone  Marital_Status_Divorced  Marital_Status_Married  \\\n",
            "0                        0                        0                       0   \n",
            "1                        0                        0                       0   \n",
            "2                        0                        0                       1   \n",
            "3                        0                        0                       1   \n",
            "4                        0                        0                       0   \n",
            "...                    ...                      ...                     ...   \n",
            "1103                     0                        0                       0   \n",
            "1104                     0                        0                       1   \n",
            "1105                     0                        0                       1   \n",
            "1106                     0                        1                       0   \n",
            "1107                     0                        1                       0   \n",
            "\n",
            "      Marital_Status_Single  Marital_Status_Together  Marital_Status_Widow  \\\n",
            "0                         0                        1                     0   \n",
            "1                         1                        0                     0   \n",
            "2                         0                        0                     0   \n",
            "3                         0                        0                     0   \n",
            "4                         0                        1                     0   \n",
            "...                     ...                      ...                   ...   \n",
            "1103                      0                        1                     0   \n",
            "1104                      0                        0                     0   \n",
            "1105                      0                        0                     0   \n",
            "1106                      0                        0                     0   \n",
            "1107                      0                        0                     0   \n",
            "\n",
            "      Marital_Status_YOLO  \n",
            "0                       0  \n",
            "1                       0  \n",
            "2                       0  \n",
            "3                       0  \n",
            "4                       0  \n",
            "...                   ...  \n",
            "1103                    0  \n",
            "1104                    0  \n",
            "1105                    0  \n",
            "1106                    0  \n",
            "1107                    0  \n",
            "\n",
            "[1108 rows x 26 columns]\n"
          ]
        }
      ]
    },
    {
      "cell_type": "code",
      "source": [
        "print(train_y) # target을 기준으로 데이터 프레임 형성  "
      ],
      "metadata": {
        "colab": {
          "base_uri": "https://localhost:8080/"
        },
        "id": "qq_faMs6eb6h",
        "outputId": "f62766c1-6013-47de-c1af-f883b0de3f2a"
      },
      "execution_count": null,
      "outputs": [
        {
          "output_type": "stream",
          "name": "stdout",
          "text": [
            "      target\n",
            "0        541\n",
            "1        899\n",
            "2        901\n",
            "3         50\n",
            "4        444\n",
            "...      ...\n",
            "1103     241\n",
            "1104     147\n",
            "1105      30\n",
            "1106     447\n",
            "1107     302\n",
            "\n",
            "[1108 rows x 1 columns]\n"
          ]
        }
      ]
    },
    {
      "cell_type": "code",
      "source": [
        "test_x = test_data.drop('id', axis=1)"
      ],
      "metadata": {
        "id": "4xJmgc-oegl1"
      },
      "execution_count": null,
      "outputs": []
    },
    {
      "cell_type": "code",
      "source": [
        "train_x = np.array(train_x)\n",
        "train_y = np.array(train_y)\n",
        "test_x = np.array(test_x)\n",
        "\n",
        "print(train_x.shape, train_y.shape)\n",
        "print(test_x.shape)"
      ],
      "metadata": {
        "colab": {
          "base_uri": "https://localhost:8080/"
        },
        "id": "GZ7ZFwNpeuSs",
        "outputId": "cfdb9461-2527-488f-d563-6fec7e9add31"
      },
      "execution_count": null,
      "outputs": [
        {
          "output_type": "stream",
          "name": "stdout",
          "text": [
            "(1108, 26) (1108, 1)\n",
            "(1108, 26)\n"
          ]
        }
      ]
    },
    {
      "cell_type": "code",
      "source": [
        "print(train_x) # train_x에 대한 행렬값으로 변경 -> 모델을 학습시키기 위해 "
      ],
      "metadata": {
        "colab": {
          "base_uri": "https://localhost:8080/"
        },
        "id": "8Tp0sPJQe-h0",
        "outputId": "3c8aa056-ea38-4784-a9df-16f81c033cca"
      },
      "execution_count": null,
      "outputs": [
        {
          "output_type": "stream",
          "name": "stdout",
          "text": [
            "[[4.6014e+04 1.0000e+00 1.0000e+00 ... 1.0000e+00 0.0000e+00 0.0000e+00]\n",
            " [7.6624e+04 0.0000e+00 1.0000e+00 ... 0.0000e+00 0.0000e+00 0.0000e+00]\n",
            " [7.5903e+04 0.0000e+00 1.0000e+00 ... 0.0000e+00 0.0000e+00 0.0000e+00]\n",
            " ...\n",
            " [3.7368e+04 1.0000e+00 0.0000e+00 ... 0.0000e+00 0.0000e+00 0.0000e+00]\n",
            " [5.3034e+04 1.0000e+00 1.0000e+00 ... 0.0000e+00 0.0000e+00 0.0000e+00]\n",
            " [4.6610e+04 0.0000e+00 2.0000e+00 ... 0.0000e+00 0.0000e+00 0.0000e+00]]\n"
          ]
        }
      ]
    },
    {
      "cell_type": "markdown",
      "source": [
        "#모델링\n",
        "\n",
        "\n",
        "\n",
        "---\n",
        "Elastic-Net\n"
      ],
      "metadata": {
        "id": "sDcvOyAYzj5x"
      }
    },
    {
      "cell_type": "code",
      "source": [
        "#Elastic-Net 모델\n",
        "ela_param_grid = {'alpha': np.arange(1e-4, 1e-3, 1e-4), #L1규제에 필요한 alpha\n",
        "                  'l1_ratio': np.arange(0.1, 1.0, 0.1), #L2규제에 필요한 l1_ratio\n",
        "                  'max_iter': [100000]}\n",
        "\n",
        "elasticnet = ElasticNet(random_state = 34) # 랜덤 시드 고정 -> 하이퍼 파라미터를 튜닝시 이 값을 고정해두고 튜닝해야 매번 데이터셋이 변경되는 것을 방지할 수 있습니다.\n",
        "\n",
        "ela_rkfold = RepeatedKFold(n_splits = 5, n_repeats = 5, random_state = 34) #K-fold 교차검정\n",
        "ela_gsearch = GridSearchCV(elasticnet, ela_param_grid, cv=ela_rkfold, scoring='neg_mean_absolute_error', verbose=1, return_train_score=True)\n",
        "\n"
      ],
      "metadata": {
        "id": "6QoUeMxFfETa"
      },
      "execution_count": null,
      "outputs": []
    },
    {
      "cell_type": "code",
      "source": [
        "ela_gsearch.fit(train_x, train_y)"
      ],
      "metadata": {
        "colab": {
          "base_uri": "https://localhost:8080/"
        },
        "id": "oRU212o5lRlo",
        "outputId": "6a8adb7b-3dd7-4c67-f2b0-497d49714d82"
      },
      "execution_count": null,
      "outputs": [
        {
          "output_type": "stream",
          "name": "stdout",
          "text": [
            "Fitting 25 folds for each of 81 candidates, totalling 2025 fits\n"
          ]
        },
        {
          "output_type": "execute_result",
          "data": {
            "text/plain": [
              "GridSearchCV(cv=RepeatedKFold(n_repeats=5, n_splits=5, random_state=34),\n",
              "             estimator=ElasticNet(random_state=34),\n",
              "             param_grid={'alpha': array([0.0001, 0.0002, 0.0003, 0.0004, 0.0005, 0.0006, 0.0007, 0.0008,\n",
              "       0.0009]),\n",
              "                         'l1_ratio': array([0.1, 0.2, 0.3, 0.4, 0.5, 0.6, 0.7, 0.8, 0.9]),\n",
              "                         'max_iter': [100000]},\n",
              "             return_train_score=True, scoring='neg_mean_absolute_error',\n",
              "             verbose=1)"
            ]
          },
          "metadata": {},
          "execution_count": 128
        }
      ]
    },
    {
      "cell_type": "code",
      "source": [
        "elasticnet = ela_gsearch.best_estimator_\n",
        "ela_grid_results = pd.DataFrame(ela_gsearch.cv_results_)"
      ],
      "metadata": {
        "id": "mzR_1ynFl0tT"
      },
      "execution_count": null,
      "outputs": []
    },
    {
      "cell_type": "code",
      "source": [
        "print(elasticnet.predict)"
      ],
      "metadata": {
        "colab": {
          "base_uri": "https://localhost:8080/"
        },
        "id": "wHYN2HLlnYli",
        "outputId": "5e8db6f3-9876-4c21-9ab4-bff753002ae8"
      },
      "execution_count": null,
      "outputs": [
        {
          "output_type": "stream",
          "name": "stdout",
          "text": [
            "<bound method LinearModel.predict of ElasticNet(alpha=0.0009000000000000001, l1_ratio=0.1, max_iter=100000,\n",
            "           random_state=34)>\n"
          ]
        }
      ]
    },
    {
      "cell_type": "code",
      "source": [
        "print(ela_grid_results)"
      ],
      "metadata": {
        "colab": {
          "base_uri": "https://localhost:8080/"
        },
        "id": "SDyqOpqHnaUH",
        "outputId": "03536258-0551-4b6d-b10c-d2b429c1c050"
      },
      "execution_count": null,
      "outputs": [
        {
          "output_type": "stream",
          "name": "stdout",
          "text": [
            "    mean_fit_time  std_fit_time  mean_score_time  std_score_time param_alpha  \\\n",
            "0        0.178145      0.030568         0.000871        0.000059      0.0001   \n",
            "1        0.177992      0.022060         0.000862        0.000060      0.0001   \n",
            "2        0.186678      0.021380         0.000889        0.000107      0.0001   \n",
            "3        0.213855      0.020115         0.000846        0.000140      0.0001   \n",
            "4        0.236812      0.020686         0.000874        0.000114      0.0001   \n",
            "..            ...           ...              ...             ...         ...   \n",
            "76       0.029608      0.005311         0.000754        0.000068      0.0009   \n",
            "77       0.035287      0.007719         0.000729        0.000036      0.0009   \n",
            "78       0.041374      0.007080         0.000718        0.000032      0.0009   \n",
            "79       0.055538      0.011230         0.000781        0.000217      0.0009   \n",
            "80       0.094606      0.017999         0.000731        0.000022      0.0009   \n",
            "\n",
            "   param_l1_ratio param_max_iter  \\\n",
            "0             0.1         100000   \n",
            "1             0.2         100000   \n",
            "2             0.3         100000   \n",
            "3             0.4         100000   \n",
            "4             0.5         100000   \n",
            "..            ...            ...   \n",
            "76            0.5         100000   \n",
            "77            0.6         100000   \n",
            "78            0.7         100000   \n",
            "79            0.8         100000   \n",
            "80            0.9         100000   \n",
            "\n",
            "                                               params  split0_test_score  \\\n",
            "0   {'alpha': 0.0001, 'l1_ratio': 0.1, 'max_iter':...        -180.329092   \n",
            "1   {'alpha': 0.0001, 'l1_ratio': 0.2, 'max_iter':...        -180.335641   \n",
            "2   {'alpha': 0.0001, 'l1_ratio': 0.30000000000000...        -180.342197   \n",
            "3   {'alpha': 0.0001, 'l1_ratio': 0.4, 'max_iter':...        -180.348701   \n",
            "4   {'alpha': 0.0001, 'l1_ratio': 0.5, 'max_iter':...        -180.355039   \n",
            "..                                                ...                ...   \n",
            "76  {'alpha': 0.0009000000000000001, 'l1_ratio': 0...        -180.138577   \n",
            "77  {'alpha': 0.0009000000000000001, 'l1_ratio': 0...        -180.173641   \n",
            "78  {'alpha': 0.0009000000000000001, 'l1_ratio': 0...        -180.213031   \n",
            "79  {'alpha': 0.0009000000000000001, 'l1_ratio': 0...        -180.256428   \n",
            "80  {'alpha': 0.0009000000000000001, 'l1_ratio': 0...        -180.297422   \n",
            "\n",
            "    split1_test_score  ...  split17_train_score  split18_train_score  \\\n",
            "0         -179.279379  ...          -174.078112          -176.352642   \n",
            "1         -179.277369  ...          -174.073870          -176.348530   \n",
            "2         -179.275319  ...          -174.069546          -176.344351   \n",
            "3         -179.273230  ...          -174.065137          -176.340103   \n",
            "4         -179.271100  ...          -174.060640          -176.335784   \n",
            "..                ...  ...                  ...                  ...   \n",
            "76        -179.331556  ...          -174.195144          -176.469539   \n",
            "77        -179.321217  ...          -174.172093          -176.445323   \n",
            "78        -179.309205  ...          -174.145507          -176.418184   \n",
            "79        -179.295173  ...          -174.114617          -176.387515   \n",
            "80        -179.278665  ...          -174.079214          -176.353419   \n",
            "\n",
            "    split19_train_score  split20_train_score  split21_train_score  \\\n",
            "0           -171.928605          -180.685628          -173.742400   \n",
            "1           -171.924970          -180.680280          -173.742473   \n",
            "2           -171.921264          -180.674823          -173.742543   \n",
            "3           -171.917485          -180.669255          -173.742610   \n",
            "4           -171.913630          -180.663574          -173.742674   \n",
            "..                  ...                  ...                  ...   \n",
            "76          -172.031770          -180.829466          -173.737676   \n",
            "77          -172.010593          -180.800612          -173.738990   \n",
            "78          -171.986837          -180.767735          -173.740167   \n",
            "79          -171.960028          -180.731058          -173.741178   \n",
            "80          -171.929576          -180.687493          -173.741990   \n",
            "\n",
            "    split22_train_score  split23_train_score  split24_train_score  \\\n",
            "0           -175.140334          -169.834021          -179.891734   \n",
            "1           -175.136093          -169.829011          -179.886875   \n",
            "2           -175.131782          -169.823903          -179.881944   \n",
            "3           -175.127391          -169.818694          -179.876937   \n",
            "4           -175.122912          -169.813382          -179.871852   \n",
            "..                  ...                  ...                  ...   \n",
            "76          -175.261572          -169.969455          -180.031184   \n",
            "77          -175.236052          -169.941492          -180.002028   \n",
            "78          -175.207270          -169.911347          -179.969698   \n",
            "79          -175.176083          -169.876596          -179.933486   \n",
            "80          -175.140709          -169.835681          -179.892892   \n",
            "\n",
            "    mean_train_score  std_train_score  \n",
            "0        -175.872346         3.931271  \n",
            "1        -175.868701         3.931286  \n",
            "2        -175.864991         3.931305  \n",
            "3        -175.861217         3.931327  \n",
            "4        -175.857376         3.931353  \n",
            "..               ...              ...  \n",
            "76       -175.973631         3.931810  \n",
            "77       -175.953066         3.931610  \n",
            "78       -175.929916         3.931404  \n",
            "79       -175.903639         3.931331  \n",
            "80       -175.873458         3.931393  \n",
            "\n",
            "[81 rows x 63 columns]\n"
          ]
        }
      ]
    },
    {
      "cell_type": "markdown",
      "source": [
        "#모델링\n",
        "\n",
        "\n",
        "---\n",
        "XGBoost\n"
      ],
      "metadata": {
        "id": "m5E7eeqIzuDN"
      }
    },
    {
      "cell_type": "code",
      "source": [
        "#XGBoost\n",
        "\n",
        "xgb = XGBRegressor(objective='reg:squarederror', random_state=34)\n",
        "\n",
        "xgb_param_grid = {'n_estimators' : np.arange(100,500,100), 'max_depth' : [1,2,3],}\n",
        "\n",
        "xgb_rkfold = RepeatedKFold(n_splits = 5, n_repeats = 1, random_state = 34)\n",
        "xgb_gsearch = GridSearchCV(xgb, xgb_param_grid, cv = xgb_rkfold, scoring='neg_mean_absolute_error', verbose=1, return_train_score = True)"
      ],
      "metadata": {
        "id": "5HuOxup1nfoa"
      },
      "execution_count": null,
      "outputs": []
    },
    {
      "cell_type": "code",
      "source": [
        "xgb_gsearch.fit(train_x, train_y)"
      ],
      "metadata": {
        "colab": {
          "base_uri": "https://localhost:8080/"
        },
        "id": "WgP88yL5o9Gk",
        "outputId": "e53ac3b7-9200-49b1-895f-2dc1ddbf4b04"
      },
      "execution_count": null,
      "outputs": [
        {
          "output_type": "stream",
          "name": "stdout",
          "text": [
            "Fitting 5 folds for each of 12 candidates, totalling 60 fits\n"
          ]
        },
        {
          "output_type": "execute_result",
          "data": {
            "text/plain": [
              "GridSearchCV(cv=RepeatedKFold(n_repeats=1, n_splits=5, random_state=34),\n",
              "             estimator=XGBRegressor(objective='reg:squarederror',\n",
              "                                    random_state=34),\n",
              "             param_grid={'max_depth': [1, 2, 3],\n",
              "                         'n_estimators': array([100, 200, 300, 400])},\n",
              "             return_train_score=True, scoring='neg_mean_absolute_error',\n",
              "             verbose=1)"
            ]
          },
          "metadata": {},
          "execution_count": 135
        }
      ]
    },
    {
      "cell_type": "code",
      "source": [
        "xgb = xgb_gsearch.best_estimator_\n",
        "xgb_grid_results = pd.DataFrame(xgb_gsearch.cv_results_)"
      ],
      "metadata": {
        "id": "sVnRg6-kpNdO"
      },
      "execution_count": null,
      "outputs": []
    },
    {
      "cell_type": "code",
      "source": [
        "print(xgb)"
      ],
      "metadata": {
        "colab": {
          "base_uri": "https://localhost:8080/"
        },
        "id": "AecgeoXvpc8H",
        "outputId": "05ef7005-720b-46da-9be5-1059eeaa2da2"
      },
      "execution_count": null,
      "outputs": [
        {
          "output_type": "stream",
          "name": "stdout",
          "text": [
            "XGBRegressor(n_estimators=400, objective='reg:squarederror', random_state=34)\n"
          ]
        }
      ]
    },
    {
      "cell_type": "code",
      "source": [
        "print(xgb_grid_results)"
      ],
      "metadata": {
        "colab": {
          "base_uri": "https://localhost:8080/"
        },
        "id": "7xHbVi4fpz-E",
        "outputId": "1256f02c-ef69-4283-94c6-157a09eb2b16"
      },
      "execution_count": null,
      "outputs": [
        {
          "output_type": "stream",
          "name": "stdout",
          "text": [
            "    mean_fit_time  std_fit_time  mean_score_time  std_score_time  \\\n",
            "0        0.047273      0.003377         0.001041        0.000155   \n",
            "1        0.087189      0.005053         0.001448        0.000277   \n",
            "2        0.124453      0.005079         0.002290        0.001512   \n",
            "3        0.163095      0.006511         0.001864        0.000131   \n",
            "4        0.068636      0.005198         0.001292        0.000026   \n",
            "5        0.126973      0.006528         0.002091        0.000677   \n",
            "6        0.186729      0.005370         0.003061        0.001574   \n",
            "7        0.249845      0.018045         0.002747        0.000072   \n",
            "8        0.088104      0.002360         0.001503        0.000019   \n",
            "9        0.168137      0.003422         0.002059        0.000069   \n",
            "10       0.249339      0.004933         0.002729        0.000029   \n",
            "11       0.332745      0.007550         0.003548        0.000040   \n",
            "\n",
            "   param_max_depth param_n_estimators                                 params  \\\n",
            "0                1                100  {'max_depth': 1, 'n_estimators': 100}   \n",
            "1                1                200  {'max_depth': 1, 'n_estimators': 200}   \n",
            "2                1                300  {'max_depth': 1, 'n_estimators': 300}   \n",
            "3                1                400  {'max_depth': 1, 'n_estimators': 400}   \n",
            "4                2                100  {'max_depth': 2, 'n_estimators': 100}   \n",
            "5                2                200  {'max_depth': 2, 'n_estimators': 200}   \n",
            "6                2                300  {'max_depth': 2, 'n_estimators': 300}   \n",
            "7                2                400  {'max_depth': 2, 'n_estimators': 400}   \n",
            "8                3                100  {'max_depth': 3, 'n_estimators': 100}   \n",
            "9                3                200  {'max_depth': 3, 'n_estimators': 200}   \n",
            "10               3                300  {'max_depth': 3, 'n_estimators': 300}   \n",
            "11               3                400  {'max_depth': 3, 'n_estimators': 400}   \n",
            "\n",
            "    split0_test_score  split1_test_score  split2_test_score  ...  \\\n",
            "0         -159.500654        -147.978839        -166.404947  ...   \n",
            "1         -157.976445        -149.215287        -166.214265  ...   \n",
            "2         -156.944561        -152.258457        -166.212327  ...   \n",
            "3         -156.602846        -153.905743        -166.376733  ...   \n",
            "4         -143.358713        -133.626535        -148.839186  ...   \n",
            "5         -138.421597        -131.564158        -144.666614  ...   \n",
            "6         -135.757129        -131.174589        -140.638227  ...   \n",
            "7         -133.265688        -129.402611        -136.739755  ...   \n",
            "8         -121.854045        -118.403319        -136.225022  ...   \n",
            "9         -117.622624        -113.299042        -133.648979  ...   \n",
            "10        -116.513504        -112.128733        -129.606688  ...   \n",
            "11        -115.699250        -110.397422        -125.950763  ...   \n",
            "\n",
            "    mean_test_score  std_test_score  rank_test_score  split0_train_score  \\\n",
            "0       -155.632983       10.652347               12         -144.870577   \n",
            "1       -154.540756        9.925718                9         -140.815649   \n",
            "2       -154.652687        9.698993               10         -139.332766   \n",
            "3       -154.836843        9.557583               11         -138.135478   \n",
            "4       -138.108728        8.803304                8         -115.205101   \n",
            "5       -134.679292        7.457180                7         -102.403257   \n",
            "6       -131.875546        7.416757                6          -91.917642   \n",
            "7       -129.181906        7.165535                5          -83.593091   \n",
            "8       -123.619198        8.042438                4          -84.674053   \n",
            "9       -119.659010        7.960545                3          -65.725718   \n",
            "10      -118.263559        6.460175                2          -51.901459   \n",
            "11      -116.606154        5.618110                1          -43.165191   \n",
            "\n",
            "    split1_train_score  split2_train_score  split3_train_score  \\\n",
            "0          -146.423333         -143.093096         -151.210295   \n",
            "1          -141.343030         -139.603647         -147.963703   \n",
            "2          -139.234597         -137.699778         -146.436786   \n",
            "3          -137.918655         -136.541426         -145.223329   \n",
            "4          -114.855648         -110.118010         -115.466100   \n",
            "5          -100.915872          -98.231755         -100.711809   \n",
            "6           -90.344315          -88.528314          -89.808268   \n",
            "7           -82.261011          -80.316136          -81.804379   \n",
            "8           -82.811623          -77.306537          -85.888152   \n",
            "9           -63.034395          -59.705138          -63.948737   \n",
            "10          -50.847204          -47.781990          -52.133456   \n",
            "11          -41.946032          -39.177124          -42.190445   \n",
            "\n",
            "    split4_train_score  mean_train_score  std_train_score  \n",
            "0          -145.279472       -146.175354         2.735598  \n",
            "1          -141.959792       -142.337164         2.918074  \n",
            "2          -140.217046       -140.584195         3.036280  \n",
            "3          -138.872333       -139.338244         3.037610  \n",
            "4          -115.821929       -114.293358         2.111532  \n",
            "5          -102.863281       -101.025195         1.624259  \n",
            "6           -92.677885        -90.655285         1.484763  \n",
            "7           -84.877351        -82.570394         1.557700  \n",
            "8           -85.006634        -83.137400         3.083085  \n",
            "9           -65.145641        -63.511926         2.120395  \n",
            "10          -51.911328        -50.915087         1.629156  \n",
            "11          -43.205449        -41.936848         1.469602  \n",
            "\n",
            "[12 rows x 22 columns]\n"
          ]
        }
      ]
    },
    {
      "cell_type": "markdown",
      "source": [
        "#모델링\n",
        "\n",
        "\n",
        "---\n",
        "LightGBM\n",
        "\n"
      ],
      "metadata": {
        "id": "oTt293ZWz0gv"
      }
    },
    {
      "cell_type": "code",
      "source": [
        "#LightGBM\n",
        "\n",
        "lgbm = LGBMRegressor(objective='regression', random_state = 34)\n",
        "\n",
        "lgbm_param_grid = {'n_estimators': [8,16,24], 'num_leaves': [6,8,12,16], 'reg_alpha' : [1,1.2], 'reg_lambda' : [1,1.2,1.4]}\n",
        "\n",
        "\n",
        "lgbm_rkfold = RepeatedKFold(n_splits = 5, n_repeats = 1, random_state = 34)\n",
        "lgbm_gsearch = GridSearchCV(lgbm, lgbm_param_grid, cv = lgbm_rkfold, scoring='neg_mean_absolute_error',\n",
        "                               verbose=1, return_train_score=True)"
      ],
      "metadata": {
        "id": "bdLlAJWap-kr"
      },
      "execution_count": null,
      "outputs": []
    },
    {
      "cell_type": "code",
      "source": [
        "lgbm_gsearch.fit(train_x, train_y)"
      ],
      "metadata": {
        "colab": {
          "base_uri": "https://localhost:8080/"
        },
        "id": "Ku5z7jPvrUN9",
        "outputId": "57fbf978-0581-49c8-cb37-06c56f1c4da5"
      },
      "execution_count": null,
      "outputs": [
        {
          "output_type": "stream",
          "name": "stdout",
          "text": [
            "Fitting 5 folds for each of 72 candidates, totalling 360 fits\n"
          ]
        },
        {
          "output_type": "execute_result",
          "data": {
            "text/plain": [
              "GridSearchCV(cv=RepeatedKFold(n_repeats=1, n_splits=5, random_state=34),\n",
              "             estimator=LGBMRegressor(objective='regression', random_state=34),\n",
              "             param_grid={'n_estimators': [8, 16, 24],\n",
              "                         'num_leaves': [6, 8, 12, 16], 'reg_alpha': [1, 1.2],\n",
              "                         'reg_lambda': [1, 1.2, 1.4]},\n",
              "             return_train_score=True, scoring='neg_mean_absolute_error',\n",
              "             verbose=1)"
            ]
          },
          "metadata": {},
          "execution_count": 140
        }
      ]
    },
    {
      "cell_type": "code",
      "source": [
        "lgbm = lgbm_gsearch.best_estimator_        \n",
        "lgbm_grid_results = pd.DataFrame(lgbm_gsearch.cv_results_)  "
      ],
      "metadata": {
        "id": "hJYdAWhArbJn"
      },
      "execution_count": null,
      "outputs": []
    },
    {
      "cell_type": "markdown",
      "source": [
        "#모델링\n",
        "\n",
        "\n",
        "---\n",
        "Blending Models - 앙상블\n"
      ],
      "metadata": {
        "id": "It2dLEI5z6xp"
      }
    },
    {
      "cell_type": "code",
      "source": [
        "#Blending Models - 앙상블\n",
        "\n",
        "def blended_models(X):\n",
        "  return((elasticnet.predict(X)) + (xgb.predict(X)) + (lgbm.predict(X)))/3\n"
      ],
      "metadata": {
        "id": "uKYTJsIgres0"
      },
      "execution_count": null,
      "outputs": []
    },
    {
      "cell_type": "code",
      "source": [
        "ensemble_pred = blended_models(test_x)"
      ],
      "metadata": {
        "id": "m8xlVSLPruie"
      },
      "execution_count": null,
      "outputs": []
    },
    {
      "cell_type": "code",
      "source": [
        "print(ensemble_pred)"
      ],
      "metadata": {
        "colab": {
          "base_uri": "https://localhost:8080/"
        },
        "id": "KSXm_o9mrxrT",
        "outputId": "79cbc8c3-d583-4d0a-dff5-260eef8b2067"
      },
      "execution_count": null,
      "outputs": [
        {
          "output_type": "stream",
          "name": "stdout",
          "text": [
            "[ 643.74121519  846.65280779  895.15567147 ...  119.79229493 1108.39802808\n",
            "  240.43970117]\n"
          ]
        }
      ]
    }
  ]
}